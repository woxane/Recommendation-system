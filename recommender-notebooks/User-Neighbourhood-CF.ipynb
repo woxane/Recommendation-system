{
 "cells": [
  {
   "cell_type": "code",
   "execution_count": 58,
   "id": "ac257764-7da7-4fb0-b259-fbe2e9f93e86",
   "metadata": {},
   "outputs": [],
   "source": [
    "import pandas as pd\n",
    "import numpy as np\n",
    "from sklearn.metrics.pairwise import cosine_similarity\n",
    "from scipy.sparse import csr_matrix\n",
    "from sklearn.neighbors import NearestNeighbors"
   ]
  },
  {
   "cell_type": "code",
   "execution_count": 2,
   "id": "038ea457-cd6b-44e3-b4a6-5880dd0314e8",
   "metadata": {},
   "outputs": [
    {
     "name": "stderr",
     "output_type": "stream",
     "text": [
      "/var/folders/wy/xyqwny610cb9ft3dhglx4jyc0000gn/T/ipykernel_21698/949808799.py:4: DtypeWarning: Columns (10) have mixed types. Specify dtype option on import or set low_memory=False.\n",
      "  md = pd.read_csv('../dataset/movies_metadata.csv')\n"
     ]
    }
   ],
   "source": [
    "credits = pd.read_csv('../dataset/credits.csv')\n",
    "keywords = pd.read_csv('../dataset/keywords.csv')\n",
    "links = pd.read_csv('../dataset/links_small.csv')\n",
    "md = pd.read_csv('../dataset/movies_metadata.csv')\n",
    "ratings = pd.read_csv('../dataset/ratings_small.csv')"
   ]
  },
  {
   "cell_type": "markdown",
   "id": "090131d9-5fd0-4940-8d16-91d2cbe47c87",
   "metadata": {},
   "source": [
    "ratings"
   ]
  },
  {
   "cell_type": "code",
   "execution_count": 4,
   "id": "8ff6d6d6-e6b2-4397-a48b-a6008241c463",
   "metadata": {},
   "outputs": [
    {
     "data": {
      "text/html": [
       "<div>\n",
       "<style scoped>\n",
       "    .dataframe tbody tr th:only-of-type {\n",
       "        vertical-align: middle;\n",
       "    }\n",
       "\n",
       "    .dataframe tbody tr th {\n",
       "        vertical-align: top;\n",
       "    }\n",
       "\n",
       "    .dataframe thead th {\n",
       "        text-align: right;\n",
       "    }\n",
       "</style>\n",
       "<table border=\"1\" class=\"dataframe\">\n",
       "  <thead>\n",
       "    <tr style=\"text-align: right;\">\n",
       "      <th>movieId</th>\n",
       "      <th>1</th>\n",
       "      <th>2</th>\n",
       "      <th>3</th>\n",
       "      <th>4</th>\n",
       "      <th>5</th>\n",
       "      <th>6</th>\n",
       "      <th>7</th>\n",
       "      <th>8</th>\n",
       "      <th>9</th>\n",
       "      <th>10</th>\n",
       "      <th>...</th>\n",
       "      <th>161084</th>\n",
       "      <th>161155</th>\n",
       "      <th>161594</th>\n",
       "      <th>161830</th>\n",
       "      <th>161918</th>\n",
       "      <th>161944</th>\n",
       "      <th>162376</th>\n",
       "      <th>162542</th>\n",
       "      <th>162672</th>\n",
       "      <th>163949</th>\n",
       "    </tr>\n",
       "    <tr>\n",
       "      <th>userId</th>\n",
       "      <th></th>\n",
       "      <th></th>\n",
       "      <th></th>\n",
       "      <th></th>\n",
       "      <th></th>\n",
       "      <th></th>\n",
       "      <th></th>\n",
       "      <th></th>\n",
       "      <th></th>\n",
       "      <th></th>\n",
       "      <th></th>\n",
       "      <th></th>\n",
       "      <th></th>\n",
       "      <th></th>\n",
       "      <th></th>\n",
       "      <th></th>\n",
       "      <th></th>\n",
       "      <th></th>\n",
       "      <th></th>\n",
       "      <th></th>\n",
       "      <th></th>\n",
       "    </tr>\n",
       "  </thead>\n",
       "  <tbody>\n",
       "    <tr>\n",
       "      <th>1</th>\n",
       "      <td>NaN</td>\n",
       "      <td>NaN</td>\n",
       "      <td>NaN</td>\n",
       "      <td>NaN</td>\n",
       "      <td>NaN</td>\n",
       "      <td>NaN</td>\n",
       "      <td>NaN</td>\n",
       "      <td>NaN</td>\n",
       "      <td>NaN</td>\n",
       "      <td>NaN</td>\n",
       "      <td>...</td>\n",
       "      <td>NaN</td>\n",
       "      <td>NaN</td>\n",
       "      <td>NaN</td>\n",
       "      <td>NaN</td>\n",
       "      <td>NaN</td>\n",
       "      <td>NaN</td>\n",
       "      <td>NaN</td>\n",
       "      <td>NaN</td>\n",
       "      <td>NaN</td>\n",
       "      <td>NaN</td>\n",
       "    </tr>\n",
       "    <tr>\n",
       "      <th>2</th>\n",
       "      <td>NaN</td>\n",
       "      <td>NaN</td>\n",
       "      <td>NaN</td>\n",
       "      <td>NaN</td>\n",
       "      <td>NaN</td>\n",
       "      <td>NaN</td>\n",
       "      <td>NaN</td>\n",
       "      <td>NaN</td>\n",
       "      <td>NaN</td>\n",
       "      <td>4.0</td>\n",
       "      <td>...</td>\n",
       "      <td>NaN</td>\n",
       "      <td>NaN</td>\n",
       "      <td>NaN</td>\n",
       "      <td>NaN</td>\n",
       "      <td>NaN</td>\n",
       "      <td>NaN</td>\n",
       "      <td>NaN</td>\n",
       "      <td>NaN</td>\n",
       "      <td>NaN</td>\n",
       "      <td>NaN</td>\n",
       "    </tr>\n",
       "    <tr>\n",
       "      <th>3</th>\n",
       "      <td>NaN</td>\n",
       "      <td>NaN</td>\n",
       "      <td>NaN</td>\n",
       "      <td>NaN</td>\n",
       "      <td>NaN</td>\n",
       "      <td>NaN</td>\n",
       "      <td>NaN</td>\n",
       "      <td>NaN</td>\n",
       "      <td>NaN</td>\n",
       "      <td>NaN</td>\n",
       "      <td>...</td>\n",
       "      <td>NaN</td>\n",
       "      <td>NaN</td>\n",
       "      <td>NaN</td>\n",
       "      <td>NaN</td>\n",
       "      <td>NaN</td>\n",
       "      <td>NaN</td>\n",
       "      <td>NaN</td>\n",
       "      <td>NaN</td>\n",
       "      <td>NaN</td>\n",
       "      <td>NaN</td>\n",
       "    </tr>\n",
       "    <tr>\n",
       "      <th>4</th>\n",
       "      <td>NaN</td>\n",
       "      <td>NaN</td>\n",
       "      <td>NaN</td>\n",
       "      <td>NaN</td>\n",
       "      <td>NaN</td>\n",
       "      <td>NaN</td>\n",
       "      <td>NaN</td>\n",
       "      <td>NaN</td>\n",
       "      <td>NaN</td>\n",
       "      <td>4.0</td>\n",
       "      <td>...</td>\n",
       "      <td>NaN</td>\n",
       "      <td>NaN</td>\n",
       "      <td>NaN</td>\n",
       "      <td>NaN</td>\n",
       "      <td>NaN</td>\n",
       "      <td>NaN</td>\n",
       "      <td>NaN</td>\n",
       "      <td>NaN</td>\n",
       "      <td>NaN</td>\n",
       "      <td>NaN</td>\n",
       "    </tr>\n",
       "    <tr>\n",
       "      <th>5</th>\n",
       "      <td>NaN</td>\n",
       "      <td>NaN</td>\n",
       "      <td>4.0</td>\n",
       "      <td>NaN</td>\n",
       "      <td>NaN</td>\n",
       "      <td>NaN</td>\n",
       "      <td>NaN</td>\n",
       "      <td>NaN</td>\n",
       "      <td>NaN</td>\n",
       "      <td>NaN</td>\n",
       "      <td>...</td>\n",
       "      <td>NaN</td>\n",
       "      <td>NaN</td>\n",
       "      <td>NaN</td>\n",
       "      <td>NaN</td>\n",
       "      <td>NaN</td>\n",
       "      <td>NaN</td>\n",
       "      <td>NaN</td>\n",
       "      <td>NaN</td>\n",
       "      <td>NaN</td>\n",
       "      <td>NaN</td>\n",
       "    </tr>\n",
       "  </tbody>\n",
       "</table>\n",
       "<p>5 rows × 9066 columns</p>\n",
       "</div>"
      ],
      "text/plain": [
       "movieId  1       2       3       4       5       6       7       8       \\\n",
       "userId                                                                    \n",
       "1           NaN     NaN     NaN     NaN     NaN     NaN     NaN     NaN   \n",
       "2           NaN     NaN     NaN     NaN     NaN     NaN     NaN     NaN   \n",
       "3           NaN     NaN     NaN     NaN     NaN     NaN     NaN     NaN   \n",
       "4           NaN     NaN     NaN     NaN     NaN     NaN     NaN     NaN   \n",
       "5           NaN     NaN     4.0     NaN     NaN     NaN     NaN     NaN   \n",
       "\n",
       "movieId  9       10      ...  161084  161155  161594  161830  161918  161944  \\\n",
       "userId                   ...                                                   \n",
       "1           NaN     NaN  ...     NaN     NaN     NaN     NaN     NaN     NaN   \n",
       "2           NaN     4.0  ...     NaN     NaN     NaN     NaN     NaN     NaN   \n",
       "3           NaN     NaN  ...     NaN     NaN     NaN     NaN     NaN     NaN   \n",
       "4           NaN     4.0  ...     NaN     NaN     NaN     NaN     NaN     NaN   \n",
       "5           NaN     NaN  ...     NaN     NaN     NaN     NaN     NaN     NaN   \n",
       "\n",
       "movieId  162376  162542  162672  163949  \n",
       "userId                                   \n",
       "1           NaN     NaN     NaN     NaN  \n",
       "2           NaN     NaN     NaN     NaN  \n",
       "3           NaN     NaN     NaN     NaN  \n",
       "4           NaN     NaN     NaN     NaN  \n",
       "5           NaN     NaN     NaN     NaN  \n",
       "\n",
       "[5 rows x 9066 columns]"
      ]
     },
     "execution_count": 4,
     "metadata": {},
     "output_type": "execute_result"
    }
   ],
   "source": [
    "user_movie_df = ratings.pivot(index='userId', columns='movieId', values='rating')\n",
    "user_movie_df.head()"
   ]
  },
  {
   "cell_type": "markdown",
   "id": "c699de58-c9a6-46c3-8874-81ea2db4dfe4",
   "metadata": {},
   "source": [
    "### Calculating how much of the user_move matrix is null:"
   ]
  },
  {
   "cell_type": "code",
   "execution_count": 6,
   "id": "7c6eb85e-fcc0-46ec-b083-6b4d11756e28",
   "metadata": {},
   "outputs": [
    {
     "data": {
      "text/plain": [
       "98.35608583913366"
      ]
     },
     "execution_count": 6,
     "metadata": {},
     "output_type": "execute_result"
    }
   ],
   "source": [
    "((user_movie_df.isnull().sum().sum()) / (user_movie_df.shape[0] * user_movie_df.shape[1])) * 100"
   ]
  },
  {
   "cell_type": "markdown",
   "id": "e9d6616f-ab96-4b12-bdc6-c0f7a5553da4",
   "metadata": {},
   "source": [
    "### Check box/hist of movie rated numbers:"
   ]
  },
  {
   "cell_type": "code",
   "execution_count": 8,
   "id": "f6d354a4-9001-42d5-8fbf-a70157916b8b",
   "metadata": {},
   "outputs": [
    {
     "data": {
      "text/plain": [
       "<Axes: >"
      ]
     },
     "execution_count": 8,
     "metadata": {},
     "output_type": "execute_result"
    },
    {
     "data": {
      "image/png": "[encoded data removed]",
      "text/plain": [
       "<Figure size 640x480 with 1 Axes>"
      ]
     },
     "metadata": {},
     "output_type": "display_data"
    }
   ],
   "source": [
    "user_movie_df.count(axis=1).plot.box()"
   ]
  },
  {
   "cell_type": "code",
   "execution_count": 9,
   "id": "b2fbb17e-9e4c-43ec-ba10-ba2c55441348",
   "metadata": {},
   "outputs": [
    {
     "data": {
      "text/plain": [
       "<Axes: ylabel='Frequency'>"
      ]
     },
     "execution_count": 9,
     "metadata": {},
     "output_type": "execute_result"
    },
    {
     "data": {
      "image/png": "[encoded data removed]",
      "text/plain": [
       "<Figure size 640x480 with 1 Axes>"
      ]
     },
     "metadata": {},
     "output_type": "display_data"
    }
   ],
   "source": [
    "user_movie_df.count(axis=1).plot.hist()"
   ]
  },
  {
   "cell_type": "markdown",
   "id": "03640c78-618e-41a7-83db-f7e84854ba4a",
   "metadata": {},
   "source": [
    "### User2User CF\n",
    "1. Calculate similarity matrix (pearson or cosine)\n",
    "2. knn for each user\n",
    "3. combine ratings to predict a rating"
   ]
  },
  {
   "cell_type": "code",
   "execution_count": 11,
   "id": "a0b49948-83f9-40ce-a83b-4f491d1081d5",
   "metadata": {},
   "outputs": [],
   "source": [
    "# Pearson:\n",
    "user_distances = user_movie_df.transpose().corr(method='pearson')\n",
    "\n",
    "# Cosine:\n",
    "# user_similarity = cosine_similarity(user_distances.to_numpy())"
   ]
  },
  {
   "cell_type": "markdown",
   "id": "44f62b62-3d56-43cd-a179-a96ab4eb5827",
   "metadata": {},
   "source": [
    "Set n neighbors to 5 for now:"
   ]
  },
  {
   "cell_type": "code",
   "execution_count": 13,
   "id": "e8f52af0-d5d7-4807-99e8-b09f561824af",
   "metadata": {},
   "outputs": [],
   "source": [
    "nneighbors = 5\n",
    "\n",
    "user_distances = user_distances.dropna(axis=0, thresh=nneighbors+1).dropna(axis=1, \n",
    "                                                                           thresh=nneighbors+1)\n",
    "# Make the matrix square (dropping the extra rows as well)\n",
    "user_distances = user_distances.loc[user_distances.columns]\n",
    "\n",
    "user_distances = 1.0 - user_distances"
   ]
  },
  {
   "cell_type": "code",
   "execution_count": 24,
   "id": "c4eb8f9f-0cb2-4526-a7c0-421b9af843e6",
   "metadata": {},
   "outputs": [],
   "source": [
    "# WHY TF\n",
    "user_distances[user_distances < 0] = 0"
   ]
  },
  {
   "cell_type": "code",
   "execution_count": 60,
   "id": "f775386e-3f4b-4103-9a95-e3795423dd54",
   "metadata": {},
   "outputs": [
    {
     "name": "stderr",
     "output_type": "stream",
     "text": [
      "/opt/anaconda3/lib/python3.12/site-packages/sklearn/neighbors/_base.py:246: EfficiencyWarning: Precomputed sparse input was not sorted by row values. Use the function sklearn.neighbors.sort_graph_by_row_values to sort the input by row values, with warn_when_not_sorted=False to remove this warning.\n",
      "  warnings.warn(\n"
     ]
    }
   ],
   "source": [
    "model_knn = NearestNeighbors(metric='precomputed', \n",
    "                             algorithm='brute', n_neighbors=nneighbors, n_jobs=-1)\n",
    "\n",
    "model_knn.fit(csr_matrix(user_distances.fillna(0).values))\n",
    "\n",
    "similarity, indexes = model_knn.kneighbors(csr_matrix(user_distances.fillna(0).values), \n",
    "                                           n_neighbors=nneighbors)"
   ]
  },
  {
   "cell_type": "code",
   "execution_count": 62,
   "id": "90e4f9af-5741-43b1-b187-e36cef3cec3f",
   "metadata": {},
   "outputs": [
    {
     "data": {
      "text/plain": [
       "(671, 5)"
      ]
     },
     "execution_count": 62,
     "metadata": {},
     "output_type": "execute_result"
    }
   ],
   "source": [
    "similarity.shape"
   ]
  },
  {
   "cell_type": "code",
   "execution_count": 64,
   "id": "a69d686f-cfac-4785-b6c3-0b1fd198958f",
   "metadata": {},
   "outputs": [
    {
     "data": {
      "text/plain": [
       "array([[311, 241,  34, 389, 504],\n",
       "       [593, 491, 179, 322, 342],\n",
       "       [339, 511, 444, 317,  10],\n",
       "       ...,\n",
       "       [518, 455,   2, 148, 234],\n",
       "       [214, 617, 527, 255, 428],\n",
       "       [206, 444, 268, 539, 195]], dtype=int32)"
      ]
     },
     "execution_count": 64,
     "metadata": {},
     "output_type": "execute_result"
    }
   ],
   "source": [
    "indexes"
   ]
  },
  {
   "cell_type": "code",
   "execution_count": 66,
   "id": "bdcacb73-25e3-4713-867c-2ce197b56469",
   "metadata": {},
   "outputs": [
    {
     "data": {
      "text/plain": [
       "array([[8.16340187e-03, 2.92746566e-02, 7.14285714e-02, 7.28273501e-02,\n",
       "        1.29611720e-01],\n",
       "       [1.11022302e-16, 1.80194939e-02, 2.92746566e-02, 5.50888175e-02,\n",
       "        5.50888175e-02],\n",
       "       [2.22044605e-16, 2.22044605e-16, 3.88350982e-03, 1.80194939e-02,\n",
       "        2.89392389e-02],\n",
       "       ...,\n",
       "       [1.11022302e-16, 3.33066907e-16, 2.92746566e-02, 3.16703363e-02,\n",
       "        5.50888175e-02],\n",
       "       [2.22044605e-16, 2.22044605e-16, 1.52680722e-02, 3.16703363e-02,\n",
       "        3.92310772e-02],\n",
       "       [3.33066907e-16, 3.33066907e-16, 3.92310772e-02, 6.67434747e-02,\n",
       "        8.82352941e-02]])"
      ]
     },
     "execution_count": 66,
     "metadata": {},
     "output_type": "execute_result"
    }
   ],
   "source": [
    "similarity"
   ]
  },
  {
   "cell_type": "code",
   "execution_count": 84,
   "id": "ed766fe9-6623-460e-9cd1-2049e4401ebd",
   "metadata": {},
   "outputs": [
    {
     "data": {
      "text/html": [
       "<div>\n",
       "<style scoped>\n",
       "    .dataframe tbody tr th:only-of-type {\n",
       "        vertical-align: middle;\n",
       "    }\n",
       "\n",
       "    .dataframe tbody tr th {\n",
       "        vertical-align: top;\n",
       "    }\n",
       "\n",
       "    .dataframe thead th {\n",
       "        text-align: right;\n",
       "    }\n",
       "</style>\n",
       "<table border=\"1\" class=\"dataframe\">\n",
       "  <thead>\n",
       "    <tr style=\"text-align: right;\">\n",
       "      <th></th>\n",
       "      <th>neighborhood_ids</th>\n",
       "      <th>distance</th>\n",
       "    </tr>\n",
       "    <tr>\n",
       "      <th>userId</th>\n",
       "      <th></th>\n",
       "      <th></th>\n",
       "    </tr>\n",
       "  </thead>\n",
       "  <tbody>\n",
       "    <tr>\n",
       "      <th>1</th>\n",
       "      <td>[312, 242, 35, 390, 505]</td>\n",
       "      <td>[0.008163401865824538, 0.029274656605848826, 0...</td>\n",
       "    </tr>\n",
       "    <tr>\n",
       "      <th>2</th>\n",
       "      <td>[594, 492, 180, 323, 343]</td>\n",
       "      <td>[1.1102230246251565e-16, 0.01801949393803437, ...</td>\n",
       "    </tr>\n",
       "    <tr>\n",
       "      <th>3</th>\n",
       "      <td>[340, 512, 445, 318, 11]</td>\n",
       "      <td>[2.220446049250313e-16, 2.220446049250313e-16,...</td>\n",
       "    </tr>\n",
       "    <tr>\n",
       "      <th>4</th>\n",
       "      <td>[156, 499, 404, 653, 280]</td>\n",
       "      <td>[0.027553511028476585, 0.07173262048650408, 0....</td>\n",
       "    </tr>\n",
       "    <tr>\n",
       "      <th>5</th>\n",
       "      <td>[364, 398, 106, 127, 348]</td>\n",
       "      <td>[0.02020410288672858, 0.05508881747693195, 0.0...</td>\n",
       "    </tr>\n",
       "    <tr>\n",
       "      <th>...</th>\n",
       "      <td>...</td>\n",
       "      <td>...</td>\n",
       "    </tr>\n",
       "    <tr>\n",
       "      <th>667</th>\n",
       "      <td>[164, 378, 473, 660, 277]</td>\n",
       "      <td>[1.1102230246251565e-16, 1.1102230246251565e-1...</td>\n",
       "    </tr>\n",
       "    <tr>\n",
       "      <th>668</th>\n",
       "      <td>[110, 487, 578, 189, 271]</td>\n",
       "      <td>[2.220446049250313e-16, 2.220446049250313e-16,...</td>\n",
       "    </tr>\n",
       "    <tr>\n",
       "      <th>669</th>\n",
       "      <td>[519, 456, 3, 149, 235]</td>\n",
       "      <td>[1.1102230246251565e-16, 3.3306690738754696e-1...</td>\n",
       "    </tr>\n",
       "    <tr>\n",
       "      <th>670</th>\n",
       "      <td>[215, 618, 528, 256, 429]</td>\n",
       "      <td>[2.220446049250313e-16, 2.220446049250313e-16,...</td>\n",
       "    </tr>\n",
       "    <tr>\n",
       "      <th>671</th>\n",
       "      <td>[207, 445, 269, 540, 196]</td>\n",
       "      <td>[3.3306690738754696e-16, 3.3306690738754696e-1...</td>\n",
       "    </tr>\n",
       "  </tbody>\n",
       "</table>\n",
       "<p>671 rows × 2 columns</p>\n",
       "</div>"
      ],
      "text/plain": [
       "                 neighborhood_ids  \\\n",
       "userId                              \n",
       "1        [312, 242, 35, 390, 505]   \n",
       "2       [594, 492, 180, 323, 343]   \n",
       "3        [340, 512, 445, 318, 11]   \n",
       "4       [156, 499, 404, 653, 280]   \n",
       "5       [364, 398, 106, 127, 348]   \n",
       "...                           ...   \n",
       "667     [164, 378, 473, 660, 277]   \n",
       "668     [110, 487, 578, 189, 271]   \n",
       "669       [519, 456, 3, 149, 235]   \n",
       "670     [215, 618, 528, 256, 429]   \n",
       "671     [207, 445, 269, 540, 196]   \n",
       "\n",
       "                                                 distance  \n",
       "userId                                                     \n",
       "1       [0.008163401865824538, 0.029274656605848826, 0...  \n",
       "2       [1.1102230246251565e-16, 0.01801949393803437, ...  \n",
       "3       [2.220446049250313e-16, 2.220446049250313e-16,...  \n",
       "4       [0.027553511028476585, 0.07173262048650408, 0....  \n",
       "5       [0.02020410288672858, 0.05508881747693195, 0.0...  \n",
       "...                                                   ...  \n",
       "667     [1.1102230246251565e-16, 1.1102230246251565e-1...  \n",
       "668     [2.220446049250313e-16, 2.220446049250313e-16,...  \n",
       "669     [1.1102230246251565e-16, 3.3306690738754696e-1...  \n",
       "670     [2.220446049250313e-16, 2.220446049250313e-16,...  \n",
       "671     [3.3306690738754696e-16, 3.3306690738754696e-1...  \n",
       "\n",
       "[671 rows x 2 columns]"
      ]
     },
     "execution_count": 84,
     "metadata": {},
     "output_type": "execute_result"
    }
   ],
   "source": [
    "neighborhoods = pd.DataFrame({'neighborhood_ids':[user_distances.iloc[neighbors].index.to_list() \n",
    "                                                for neighbors in indexes], \n",
    "                              'distance': similarity.tolist()}, \n",
    "                             index=user_distances.index)\n",
    "neighborhoods"
   ]
  },
  {
   "cell_type": "code",
   "execution_count": 86,
   "id": "59c6fe1a-3f9c-42c3-9b22-1888a4c91adb",
   "metadata": {},
   "outputs": [
    {
     "data": {
      "text/plain": [
       "[312, 242, 35, 390, 505]"
      ]
     },
     "execution_count": 86,
     "metadata": {},
     "output_type": "execute_result"
    }
   ],
   "source": [
    "neighbors = neighborhoods['neighborhood_ids'].loc[1]\n",
    "neighbors"
   ]
  },
  {
   "cell_type": "code",
   "execution_count": 104,
   "id": "7c7b7cf7-3ada-4caa-8a74-89b0c9b8e1dc",
   "metadata": {},
   "outputs": [
    {
     "data": {
      "text/plain": [
       "movieId\n",
       "2501     5.0\n",
       "2570     5.0\n",
       "2598     5.0\n",
       "2616     5.0\n",
       "2692     5.0\n",
       "2757     5.0\n",
       "2764     5.0\n",
       "2802     5.0\n",
       "1952     5.0\n",
       "86882    5.0\n",
       "dtype: float64"
      ]
     },
     "execution_count": 104,
     "metadata": {},
     "output_type": "execute_result"
    }
   ],
   "source": [
    "user_movie_df.loc[neighbors].mean().dropna().sort_values()[-10:]"
   ]
  },
  {
   "cell_type": "markdown",
   "id": "678e05fc-3506-4008-95e5-738b718daa31",
   "metadata": {},
   "source": [
    "## All of them with each other"
   ]
  },
  {
   "cell_type": "code",
   "execution_count": 107,
   "id": "dd9bcd38-9b6e-4251-a01c-94fe486f150c",
   "metadata": {},
   "outputs": [],
   "source": [
    "def usercf_predict_rating_closure(user_ratings, neighborhoods):\n",
    "    def usercf_predict_rating_using_nmean(row):\n",
    "        neighbors_ids = neighborhoods['neighborhood_ids'].loc[row.name]\n",
    "        pred_ratings = user_movie_df.loc[neighbors_ids].mean()\n",
    "        return round(pred_ratings)\n",
    "    \n",
    "    return usercf_predict_rating_using_nmean"
   ]
  },
  {
   "cell_type": "code",
   "execution_count": 121,
   "id": "4e9dff6c-a665-4d4a-a06e-d492bd1aea06",
   "metadata": {},
   "outputs": [],
   "source": [
    "def recommendation_system_user_model(minperiods, nneighbors, user_ratings):\n",
    "    user_distances = user_ratings.transpose().corr(method='pearson', \n",
    "                                                   min_periods=minperiods)\n",
    "    \n",
    "    user_distances = user_distances.dropna(axis=0, \n",
    "                                           thresh=nneighbors+1).dropna(axis=1, \n",
    "                                                                       thresh=nneighbors+1)\n",
    "    user_distances = user_distances.loc[user_distances.columns]\n",
    "    \n",
    "    user_distances = 1 - user_distances\n",
    "    \n",
    "    user_distances[user_distances < 0] = 0\n",
    "\n",
    "    model_knn = NearestNeighbors(metric='precomputed', algorithm='brute', \n",
    "                                 n_neighbors=nneighbors, n_jobs=-1)\n",
    "\n",
    "    model_knn.fit(csr_matrix(user_distances.fillna(0).values))\n",
    "    \n",
    "    similarity, indexes = model_knn.kneighbors(csr_matrix(user_distances.fillna(0).values), \n",
    "                                               n_neighbors=nneighbors)\n",
    "    neighborhoods = pd.DataFrame({'neighborhood_ids':\n",
    "                                  [user_distances.iloc[neighbors].index.to_list() \n",
    "                                                    for neighbors in indexes], \n",
    "                                  'distance': similarity.tolist()}, \n",
    "                                 index=user_distances.index)\n",
    "    \n",
    "    pred = user_ratings.reindex(neighborhoods.index).apply(usercf_predict_rating_closure(user_ratings, \n",
    "                                                                                        neighborhoods), \n",
    "                                                           axis='columns')\n",
    "    # user_ratings.merge(pred, how='right')\n",
    "    return pred, neighborhoods"
   ]
  },
  {
   "cell_type": "code",
   "execution_count": 123,
   "id": "a2a2432b-74d7-4693-abf6-be4dca43c9b5",
   "metadata": {},
   "outputs": [],
   "source": [
    "def mae(user_ratings, predicted_ratings):\n",
    "    abs_dif = abs(user_ratings - predicted_ratings)\n",
    "    n = np.sum(user_ratings.count()) \n",
    "    return abs_dif.sum().sum()/ n"
   ]
  },
  {
   "cell_type": "code",
   "execution_count": 125,
   "id": "8d1cd32b-0ea7-41c0-9d04-5d0061d735c6",
   "metadata": {},
   "outputs": [
    {
     "name": "stderr",
     "output_type": "stream",
     "text": [
      "/opt/anaconda3/lib/python3.12/site-packages/sklearn/neighbors/_base.py:246: EfficiencyWarning: Precomputed sparse input was not sorted by row values. Use the function sklearn.neighbors.sort_graph_by_row_values to sort the input by row values, with warn_when_not_sorted=False to remove this warning.\n",
      "  warnings.warn(\n"
     ]
    }
   ],
   "source": [
    "a, b = recommendation_system_user_model(5, 10, user_movie_df)"
   ]
  },
  {
   "cell_type": "code",
   "execution_count": 141,
   "id": "6227aa41-79d2-423b-b4c1-7e70310d2292",
   "metadata": {},
   "outputs": [
    {
     "data": {
      "text/html": [
       "<div>\n",
       "<style scoped>\n",
       "    .dataframe tbody tr th:only-of-type {\n",
       "        vertical-align: middle;\n",
       "    }\n",
       "\n",
       "    .dataframe tbody tr th {\n",
       "        vertical-align: top;\n",
       "    }\n",
       "\n",
       "    .dataframe thead th {\n",
       "        text-align: right;\n",
       "    }\n",
       "</style>\n",
       "<table border=\"1\" class=\"dataframe\">\n",
       "  <thead>\n",
       "    <tr style=\"text-align: right;\">\n",
       "      <th>movieId</th>\n",
       "      <th>1</th>\n",
       "      <th>2</th>\n",
       "      <th>3</th>\n",
       "      <th>4</th>\n",
       "      <th>5</th>\n",
       "      <th>6</th>\n",
       "      <th>7</th>\n",
       "      <th>8</th>\n",
       "      <th>9</th>\n",
       "      <th>10</th>\n",
       "      <th>...</th>\n",
       "      <th>161084</th>\n",
       "      <th>161155</th>\n",
       "      <th>161594</th>\n",
       "      <th>161830</th>\n",
       "      <th>161918</th>\n",
       "      <th>161944</th>\n",
       "      <th>162376</th>\n",
       "      <th>162542</th>\n",
       "      <th>162672</th>\n",
       "      <th>163949</th>\n",
       "    </tr>\n",
       "    <tr>\n",
       "      <th>userId</th>\n",
       "      <th></th>\n",
       "      <th></th>\n",
       "      <th></th>\n",
       "      <th></th>\n",
       "      <th></th>\n",
       "      <th></th>\n",
       "      <th></th>\n",
       "      <th></th>\n",
       "      <th></th>\n",
       "      <th></th>\n",
       "      <th></th>\n",
       "      <th></th>\n",
       "      <th></th>\n",
       "      <th></th>\n",
       "      <th></th>\n",
       "      <th></th>\n",
       "      <th></th>\n",
       "      <th></th>\n",
       "      <th></th>\n",
       "      <th></th>\n",
       "      <th></th>\n",
       "    </tr>\n",
       "  </thead>\n",
       "  <tbody>\n",
       "    <tr>\n",
       "      <th>1</th>\n",
       "      <td>4.0</td>\n",
       "      <td>3.0</td>\n",
       "      <td>2.0</td>\n",
       "      <td>NaN</td>\n",
       "      <td>NaN</td>\n",
       "      <td>4.0</td>\n",
       "      <td>4.0</td>\n",
       "      <td>NaN</td>\n",
       "      <td>NaN</td>\n",
       "      <td>4.0</td>\n",
       "      <td>...</td>\n",
       "      <td>NaN</td>\n",
       "      <td>NaN</td>\n",
       "      <td>NaN</td>\n",
       "      <td>NaN</td>\n",
       "      <td>NaN</td>\n",
       "      <td>NaN</td>\n",
       "      <td>NaN</td>\n",
       "      <td>NaN</td>\n",
       "      <td>NaN</td>\n",
       "      <td>NaN</td>\n",
       "    </tr>\n",
       "    <tr>\n",
       "      <th>2</th>\n",
       "      <td>4.0</td>\n",
       "      <td>4.0</td>\n",
       "      <td>NaN</td>\n",
       "      <td>NaN</td>\n",
       "      <td>NaN</td>\n",
       "      <td>NaN</td>\n",
       "      <td>NaN</td>\n",
       "      <td>NaN</td>\n",
       "      <td>NaN</td>\n",
       "      <td>NaN</td>\n",
       "      <td>...</td>\n",
       "      <td>NaN</td>\n",
       "      <td>NaN</td>\n",
       "      <td>NaN</td>\n",
       "      <td>NaN</td>\n",
       "      <td>NaN</td>\n",
       "      <td>NaN</td>\n",
       "      <td>NaN</td>\n",
       "      <td>NaN</td>\n",
       "      <td>NaN</td>\n",
       "      <td>NaN</td>\n",
       "    </tr>\n",
       "    <tr>\n",
       "      <th>3</th>\n",
       "      <td>2.0</td>\n",
       "      <td>NaN</td>\n",
       "      <td>NaN</td>\n",
       "      <td>NaN</td>\n",
       "      <td>NaN</td>\n",
       "      <td>4.0</td>\n",
       "      <td>NaN</td>\n",
       "      <td>NaN</td>\n",
       "      <td>NaN</td>\n",
       "      <td>4.0</td>\n",
       "      <td>...</td>\n",
       "      <td>NaN</td>\n",
       "      <td>NaN</td>\n",
       "      <td>NaN</td>\n",
       "      <td>NaN</td>\n",
       "      <td>NaN</td>\n",
       "      <td>NaN</td>\n",
       "      <td>NaN</td>\n",
       "      <td>NaN</td>\n",
       "      <td>NaN</td>\n",
       "      <td>NaN</td>\n",
       "    </tr>\n",
       "    <tr>\n",
       "      <th>4</th>\n",
       "      <td>5.0</td>\n",
       "      <td>NaN</td>\n",
       "      <td>NaN</td>\n",
       "      <td>NaN</td>\n",
       "      <td>NaN</td>\n",
       "      <td>4.0</td>\n",
       "      <td>NaN</td>\n",
       "      <td>NaN</td>\n",
       "      <td>NaN</td>\n",
       "      <td>NaN</td>\n",
       "      <td>...</td>\n",
       "      <td>NaN</td>\n",
       "      <td>NaN</td>\n",
       "      <td>NaN</td>\n",
       "      <td>NaN</td>\n",
       "      <td>NaN</td>\n",
       "      <td>NaN</td>\n",
       "      <td>NaN</td>\n",
       "      <td>NaN</td>\n",
       "      <td>NaN</td>\n",
       "      <td>NaN</td>\n",
       "    </tr>\n",
       "    <tr>\n",
       "      <th>5</th>\n",
       "      <td>4.0</td>\n",
       "      <td>NaN</td>\n",
       "      <td>3.0</td>\n",
       "      <td>NaN</td>\n",
       "      <td>4.0</td>\n",
       "      <td>NaN</td>\n",
       "      <td>NaN</td>\n",
       "      <td>NaN</td>\n",
       "      <td>NaN</td>\n",
       "      <td>3.0</td>\n",
       "      <td>...</td>\n",
       "      <td>NaN</td>\n",
       "      <td>NaN</td>\n",
       "      <td>NaN</td>\n",
       "      <td>NaN</td>\n",
       "      <td>NaN</td>\n",
       "      <td>NaN</td>\n",
       "      <td>NaN</td>\n",
       "      <td>NaN</td>\n",
       "      <td>NaN</td>\n",
       "      <td>NaN</td>\n",
       "    </tr>\n",
       "    <tr>\n",
       "      <th>...</th>\n",
       "      <td>...</td>\n",
       "      <td>...</td>\n",
       "      <td>...</td>\n",
       "      <td>...</td>\n",
       "      <td>...</td>\n",
       "      <td>...</td>\n",
       "      <td>...</td>\n",
       "      <td>...</td>\n",
       "      <td>...</td>\n",
       "      <td>...</td>\n",
       "      <td>...</td>\n",
       "      <td>...</td>\n",
       "      <td>...</td>\n",
       "      <td>...</td>\n",
       "      <td>...</td>\n",
       "      <td>...</td>\n",
       "      <td>...</td>\n",
       "      <td>...</td>\n",
       "      <td>...</td>\n",
       "      <td>...</td>\n",
       "      <td>...</td>\n",
       "    </tr>\n",
       "    <tr>\n",
       "      <th>667</th>\n",
       "      <td>3.0</td>\n",
       "      <td>4.0</td>\n",
       "      <td>NaN</td>\n",
       "      <td>NaN</td>\n",
       "      <td>NaN</td>\n",
       "      <td>4.0</td>\n",
       "      <td>NaN</td>\n",
       "      <td>NaN</td>\n",
       "      <td>NaN</td>\n",
       "      <td>3.0</td>\n",
       "      <td>...</td>\n",
       "      <td>NaN</td>\n",
       "      <td>NaN</td>\n",
       "      <td>NaN</td>\n",
       "      <td>NaN</td>\n",
       "      <td>NaN</td>\n",
       "      <td>NaN</td>\n",
       "      <td>NaN</td>\n",
       "      <td>NaN</td>\n",
       "      <td>NaN</td>\n",
       "      <td>NaN</td>\n",
       "    </tr>\n",
       "    <tr>\n",
       "      <th>668</th>\n",
       "      <td>3.0</td>\n",
       "      <td>3.0</td>\n",
       "      <td>2.0</td>\n",
       "      <td>NaN</td>\n",
       "      <td>NaN</td>\n",
       "      <td>5.0</td>\n",
       "      <td>NaN</td>\n",
       "      <td>1.0</td>\n",
       "      <td>NaN</td>\n",
       "      <td>4.0</td>\n",
       "      <td>...</td>\n",
       "      <td>NaN</td>\n",
       "      <td>NaN</td>\n",
       "      <td>NaN</td>\n",
       "      <td>NaN</td>\n",
       "      <td>NaN</td>\n",
       "      <td>NaN</td>\n",
       "      <td>NaN</td>\n",
       "      <td>NaN</td>\n",
       "      <td>NaN</td>\n",
       "      <td>NaN</td>\n",
       "    </tr>\n",
       "    <tr>\n",
       "      <th>669</th>\n",
       "      <td>4.0</td>\n",
       "      <td>4.0</td>\n",
       "      <td>2.0</td>\n",
       "      <td>3.0</td>\n",
       "      <td>4.0</td>\n",
       "      <td>NaN</td>\n",
       "      <td>5.0</td>\n",
       "      <td>4.0</td>\n",
       "      <td>NaN</td>\n",
       "      <td>4.0</td>\n",
       "      <td>...</td>\n",
       "      <td>NaN</td>\n",
       "      <td>NaN</td>\n",
       "      <td>NaN</td>\n",
       "      <td>NaN</td>\n",
       "      <td>NaN</td>\n",
       "      <td>NaN</td>\n",
       "      <td>NaN</td>\n",
       "      <td>NaN</td>\n",
       "      <td>NaN</td>\n",
       "      <td>NaN</td>\n",
       "    </tr>\n",
       "    <tr>\n",
       "      <th>670</th>\n",
       "      <td>4.0</td>\n",
       "      <td>4.0</td>\n",
       "      <td>4.0</td>\n",
       "      <td>1.0</td>\n",
       "      <td>4.0</td>\n",
       "      <td>4.0</td>\n",
       "      <td>4.0</td>\n",
       "      <td>NaN</td>\n",
       "      <td>4.0</td>\n",
       "      <td>4.0</td>\n",
       "      <td>...</td>\n",
       "      <td>NaN</td>\n",
       "      <td>NaN</td>\n",
       "      <td>NaN</td>\n",
       "      <td>NaN</td>\n",
       "      <td>NaN</td>\n",
       "      <td>NaN</td>\n",
       "      <td>NaN</td>\n",
       "      <td>NaN</td>\n",
       "      <td>NaN</td>\n",
       "      <td>NaN</td>\n",
       "    </tr>\n",
       "    <tr>\n",
       "      <th>671</th>\n",
       "      <td>5.0</td>\n",
       "      <td>5.0</td>\n",
       "      <td>NaN</td>\n",
       "      <td>NaN</td>\n",
       "      <td>4.0</td>\n",
       "      <td>NaN</td>\n",
       "      <td>NaN</td>\n",
       "      <td>NaN</td>\n",
       "      <td>NaN</td>\n",
       "      <td>3.0</td>\n",
       "      <td>...</td>\n",
       "      <td>NaN</td>\n",
       "      <td>NaN</td>\n",
       "      <td>NaN</td>\n",
       "      <td>NaN</td>\n",
       "      <td>NaN</td>\n",
       "      <td>NaN</td>\n",
       "      <td>NaN</td>\n",
       "      <td>NaN</td>\n",
       "      <td>NaN</td>\n",
       "      <td>NaN</td>\n",
       "    </tr>\n",
       "  </tbody>\n",
       "</table>\n",
       "<p>671 rows × 9066 columns</p>\n",
       "</div>"
      ],
      "text/plain": [
       "movieId  1       2       3       4       5       6       7       8       \\\n",
       "userId                                                                    \n",
       "1           4.0     3.0     2.0     NaN     NaN     4.0     4.0     NaN   \n",
       "2           4.0     4.0     NaN     NaN     NaN     NaN     NaN     NaN   \n",
       "3           2.0     NaN     NaN     NaN     NaN     4.0     NaN     NaN   \n",
       "4           5.0     NaN     NaN     NaN     NaN     4.0     NaN     NaN   \n",
       "5           4.0     NaN     3.0     NaN     4.0     NaN     NaN     NaN   \n",
       "...         ...     ...     ...     ...     ...     ...     ...     ...   \n",
       "667         3.0     4.0     NaN     NaN     NaN     4.0     NaN     NaN   \n",
       "668         3.0     3.0     2.0     NaN     NaN     5.0     NaN     1.0   \n",
       "669         4.0     4.0     2.0     3.0     4.0     NaN     5.0     4.0   \n",
       "670         4.0     4.0     4.0     1.0     4.0     4.0     4.0     NaN   \n",
       "671         5.0     5.0     NaN     NaN     4.0     NaN     NaN     NaN   \n",
       "\n",
       "movieId  9       10      ...  161084  161155  161594  161830  161918  161944  \\\n",
       "userId                   ...                                                   \n",
       "1           NaN     4.0  ...     NaN     NaN     NaN     NaN     NaN     NaN   \n",
       "2           NaN     NaN  ...     NaN     NaN     NaN     NaN     NaN     NaN   \n",
       "3           NaN     4.0  ...     NaN     NaN     NaN     NaN     NaN     NaN   \n",
       "4           NaN     NaN  ...     NaN     NaN     NaN     NaN     NaN     NaN   \n",
       "5           NaN     3.0  ...     NaN     NaN     NaN     NaN     NaN     NaN   \n",
       "...         ...     ...  ...     ...     ...     ...     ...     ...     ...   \n",
       "667         NaN     3.0  ...     NaN     NaN     NaN     NaN     NaN     NaN   \n",
       "668         NaN     4.0  ...     NaN     NaN     NaN     NaN     NaN     NaN   \n",
       "669         NaN     4.0  ...     NaN     NaN     NaN     NaN     NaN     NaN   \n",
       "670         4.0     4.0  ...     NaN     NaN     NaN     NaN     NaN     NaN   \n",
       "671         NaN     3.0  ...     NaN     NaN     NaN     NaN     NaN     NaN   \n",
       "\n",
       "movieId  162376  162542  162672  163949  \n",
       "userId                                   \n",
       "1           NaN     NaN     NaN     NaN  \n",
       "2           NaN     NaN     NaN     NaN  \n",
       "3           NaN     NaN     NaN     NaN  \n",
       "4           NaN     NaN     NaN     NaN  \n",
       "5           NaN     NaN     NaN     NaN  \n",
       "...         ...     ...     ...     ...  \n",
       "667         NaN     NaN     NaN     NaN  \n",
       "668         NaN     NaN     NaN     NaN  \n",
       "669         NaN     NaN     NaN     NaN  \n",
       "670         NaN     NaN     NaN     NaN  \n",
       "671         NaN     NaN     NaN     NaN  \n",
       "\n",
       "[671 rows x 9066 columns]"
      ]
     },
     "execution_count": 141,
     "metadata": {},
     "output_type": "execute_result"
    }
   ],
   "source": [
    "a"
   ]
  },
  {
   "cell_type": "code",
   "execution_count": 161,
   "id": "066444cf-9168-489d-a9a4-df2780253119",
   "metadata": {},
   "outputs": [
    {
     "data": {
      "text/plain": [
       "movieId\n",
       "527      5.0\n",
       "3510     5.0\n",
       "111      5.0\n",
       "52885    5.0\n",
       "4277     5.0\n",
       "1269     5.0\n",
       "53956    5.0\n",
       "4308     5.0\n",
       "5618     5.0\n",
       "2087     5.0\n",
       "Name: 100, dtype: float64"
      ]
     },
     "execution_count": 161,
     "metadata": {},
     "output_type": "execute_result"
    }
   ],
   "source": [
    "a.loc[100].sort_values(ascending=False)[:10]"
   ]
  },
  {
   "cell_type": "code",
   "execution_count": 185,
   "id": "2111a76f-42b3-4b6e-b2dc-f9762c321af5",
   "metadata": {},
   "outputs": [
    {
     "data": {
      "text/plain": [
       "Index([527, 3510, 111, 52885, 4277, 1269, 53956, 4308, 5618, 2087], dtype='int64', name='movieId')"
      ]
     },
     "execution_count": 185,
     "metadata": {},
     "output_type": "execute_result"
    }
   ],
   "source": [
    "movie_ids = a.loc[100].sort_values(ascending=False)[:10].index\n",
    "movie_ids"
   ]
  },
  {
   "cell_type": "code",
   "execution_count": 215,
   "id": "d1b601a9-b85e-4e52-8de8-0c7365de6d8c",
   "metadata": {},
   "outputs": [
    {
     "data": {
      "text/plain": [
       "['Once Were Warriors',\n",
       " 'The Getaway',\n",
       " 'Scarface',\n",
       " 'Cousin, Cousine',\n",
       " 'The Red and the White',\n",
       " 'The Vexxer']"
      ]
     },
     "execution_count": 215,
     "metadata": {},
     "output_type": "execute_result"
    }
   ],
   "source": [
    "md[md['id'].isin(map(str, movie_ids))]['title'].tolist()"
   ]
  }
 ],
 "metadata": {
  "kernelspec": {
   "display_name": "Python 3 (ipykernel)",
   "language": "python",
   "name": "python3"
  },
  "language_info": {
   "codemirror_mode": {
    "name": "ipython",
    "version": 3
   },
   "file_extension": ".py",
   "mimetype": "text/x-python",
   "name": "python",
   "nbconvert_exporter": "python",
   "pygments_lexer": "ipython3",
   "version": "3.12.2"
  }
 },
 "nbformat": 4,
 "nbformat_minor": 5
}

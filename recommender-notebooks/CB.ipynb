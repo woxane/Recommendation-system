{
 "cells": [
  {
   "cell_type": "code",
   "execution_count": 4,
   "id": "388d085c-550c-4b1e-a168-f52f58e3500e",
   "metadata": {},
   "outputs": [],
   "source": [
    "import pandas as pd\n",
    "import seaborn as snas\n",
    "import matplotlib.pyplot as plt\n",
    "import numpy as np\n",
    "from ast import literal_eval # use literal eval instead of eval\n",
    "from sklearn.metrics.pairwise import cosine_similarity\n",
    "from sklearn.metrics import jaccard_score\n",
    "from scipy.sparse import csr_matrix"
   ]
  },
  {
   "cell_type": "code",
   "execution_count": 5,
   "id": "2bf1bf0b-3a74-4501-8aaa-58bad8b7e5ef",
   "metadata": {},
   "outputs": [
    {
     "name": "stderr",
     "output_type": "stream",
     "text": [
      "/var/folders/wy/xyqwny610cb9ft3dhglx4jyc0000gn/T/ipykernel_1985/2838257103.py:4: DtypeWarning: Columns (10) have mixed types. Specify dtype option on import or set low_memory=False.\n",
      "  md = pd.read_csv('../dataset/movies_metadata.csv')\n"
     ]
    }
   ],
   "source": [
    "credits = pd.read_csv('../dataset/credits.csv')\n",
    "keywords = pd.read_csv('../dataset/keywords.csv')\n",
    "links = pd.read_csv('../dataset/links.csv')\n",
    "md = pd.read_csv('../dataset/movies_metadata.csv')\n",
    "ratings = pd.read_csv('../dataset/ratings.csv')"
   ]
  },
  {
   "cell_type": "code",
   "execution_count": 6,
   "id": "d47fdca3-0d5c-47f0-8d72-162567f12697",
   "metadata": {},
   "outputs": [],
   "source": [
    "from sentence_transformers import SentenceTransformer\n",
    "\n",
    "model = SentenceTransformer('sentence-transformers/all-MiniLM-L6-v2')\n",
    "\n",
    "def embed_texts(sentences):\n",
    "    embeddings = model.encode(sentences, normalize_embeddings=True)\n",
    "    return embeddings"
   ]
  },
  {
   "cell_type": "code",
   "execution_count": 10,
   "id": "2d74c284-12ab-4393-a997-f73998f7f145",
   "metadata": {},
   "outputs": [],
   "source": [
    "eval_columns = ['belongs_to_collection', 'production_companies', 'production_countries', 'spoken_languages', 'genres']\n",
    "\n",
    "for eval_column in eval_columns:\n",
    "    md[eval_column] = md[eval_column].fillna('[]').apply(literal_eval)\n",
    "    md[eval_column] = md[eval_column].apply(lambda x: [i['name'] for i in x] if isinstance(x, list) else [])\n",
    "\n",
    "bad_data = md[md['imdb_id'] == '0'].index\n",
    "md.drop(bad_data, inplace=True)\n",
    "\n",
    "cols_to_float = ['revenue', 'vote_count', 'vote_average', 'budget', 'popularity']\n",
    "md[cols_to_float] = md[cols_to_float].astype(float)\n",
    "\n",
    "md['id'] = md['id'].astype(int)"
   ]
  },
  {
   "cell_type": "code",
   "execution_count": 11,
   "id": "52072a5d-d1ca-464d-9d08-5e7223dc86a5",
   "metadata": {},
   "outputs": [],
   "source": [
    "eval_columns = ['cast', 'crew']\n",
    "\n",
    "for eval_column in eval_columns:\n",
    "    credits[eval_column] = credits[eval_column].fillna('[]').apply(literal_eval)\n",
    "\n",
    "credits['id'] = credits['id'].astype(int)"
   ]
  },
  {
   "cell_type": "code",
   "execution_count": 12,
   "id": "cf792fc7-e4e3-4928-b66a-a24054b67f9c",
   "metadata": {},
   "outputs": [],
   "source": [
    "eval_columns = ['keywords']\n",
    "\n",
    "for eval_column in eval_columns:\n",
    "    keywords[eval_column] = keywords[eval_column].fillna('[]').apply(literal_eval)\n",
    "\n",
    "keywords['id'] = keywords['id'].astype(int)"
   ]
  },
  {
   "cell_type": "markdown",
   "id": "ae1ee9db-0dd8-4a44-882b-fe4086aca790",
   "metadata": {},
   "source": [
    "### Genres Encoder"
   ]
  },
  {
   "cell_type": "code",
   "execution_count": 16,
   "id": "b3dbd0b5-fc9c-4de6-b567-e96ee90d992e",
   "metadata": {},
   "outputs": [],
   "source": [
    "all_genres = md['genres'].explode().unique()\n",
    "\n",
    "def encode_genres(genres_df):\n",
    "    genres_df = genres_df.copy()\n",
    "\n",
    "    genres_df = genres_df.apply(\n",
    "        lambda genres_list: np.array([genre in genres_list for genre in all_genres], dtype=int)\n",
    "    )\n",
    "\n",
    "    return genres_df"
   ]
  },
  {
   "cell_type": "markdown",
   "id": "47b39e43-bd2a-4ae0-995b-8a29bd249894",
   "metadata": {},
   "source": [
    "### Top K Credtis"
   ]
  },
  {
   "cell_type": "markdown",
   "id": "70a52eb8-3583-48a5-b5ee-f7546e9a6617",
   "metadata": {},
   "source": [
    "getting all of the credits make the result horrible. 3 good."
   ]
  },
  {
   "cell_type": "code",
   "execution_count": 20,
   "id": "bf631287-e730-4131-86a1-d8d970fdbe8c",
   "metadata": {},
   "outputs": [],
   "source": [
    "# Just get top 3 casts\n",
    "casts_n_played_movies = credits['cast'].apply(lambda cast_list: [i['name'] for i in cast_list][:3]).explode().value_counts()\n",
    "\n",
    "cast_n_play_cut_off = casts_n_played_movies.quantile(0.995)\n",
    "all_supported_casts = casts_n_played_movies[casts_n_played_movies >= cast_n_play_cut_off].index\n",
    "# Add a index 0 for other casts\n",
    "all_supported_casts = np.append(all_supported_casts, 0)\n",
    "cast_index_map = {cid: idx for idx, cid in enumerate(all_supported_casts)}\n",
    "\n",
    "def encode_casts(cast_list):\n",
    "    rows, cols, data = [], [], []\n",
    "\n",
    "    for member in cast_list[:3]:\n",
    "        cid = member[\"id\"]\n",
    "        if cid in cast_index_map:\n",
    "            col_idx = cast_index_map[cid]\n",
    "        else:\n",
    "            col_idx = cast_index_map[0]  # all others go here\n",
    "\n",
    "        rows.append(0)\n",
    "        cols.append(col_idx)\n",
    "        data.append(1)\n",
    "\n",
    "    return csr_matrix((data, (rows, cols)), shape=(1, len(all_supported_casts)))"
   ]
  },
  {
   "cell_type": "code",
   "execution_count": 22,
   "id": "7f9145cd-daf6-4ec9-a87f-0054c394edfb",
   "metadata": {},
   "outputs": [],
   "source": [
    "directors_n_movies = credits['crew'].apply(lambda x: [i['id'] for i in x if i['job'] == 'Director']).explode().value_counts()\n",
    "\n",
    "director_movies_cut_off = directors_n_movies.quantile(0.995)\n",
    "\n",
    "all_supported_directors = directors_n_movies[directors_n_movies >= director_movies_cut_off].index\n",
    "# Add a index 0 for other directors\n",
    "all_supported_directors = np.append(all_supported_directors, 0)\n",
    "director_index_map = {did: idx for idx, did in enumerate(all_supported_directors)}\n",
    "\n",
    "def encode_directors(crew_list):\n",
    "    rows, cols, data = [], [], []\n",
    "    director_ids = [d['id'] for d in crew_list if d.get('job') == 'Director']\n",
    "    # Just one director\n",
    "    for did in director_ids[:1]:\n",
    "        if did in director_index_map:\n",
    "            col_idx = director_index_map[did]\n",
    "        else: \n",
    "            col_idx = director_index_map[0]  # all others go here\n",
    "\n",
    "        rows.append(0)\n",
    "        cols.append(col_idx)\n",
    "        data.append(1)\n",
    "\n",
    "    return csr_matrix((data, (rows, cols)), shape=(1, len(all_supported_directors)))"
   ]
  },
  {
   "cell_type": "markdown",
   "id": "f71141ba-e59c-4fa5-a447-ecbe8ec90535",
   "metadata": {},
   "source": [
    "### Top K Keywords"
   ]
  },
  {
   "cell_type": "code",
   "execution_count": 25,
   "id": "33b1ac2a-f7f9-45e1-90fa-5b7e426ef940",
   "metadata": {},
   "outputs": [],
   "source": [
    "def get_top_k_keywords(top_k, keyword_df):\n",
    "    keyword_df = keyword_df.copy()\n",
    "    # Add underscore between same group keyword to they treated as one token\n",
    "    keyword_df = keyword_df.apply(lambda x: \" \".join(['_'.join(i['name'].split()) for i in x][:top_k]))\n",
    "    return keyword_df"
   ]
  },
  {
   "cell_type": "markdown",
   "id": "e3111e8b-6b5c-4dcd-9449-6a2ebbf7d326",
   "metadata": {},
   "source": [
    "### Movie Textual Data"
   ]
  },
  {
   "cell_type": "code",
   "execution_count": 28,
   "id": "33549546-fb52-4abc-954a-681ad798a3fb",
   "metadata": {},
   "outputs": [],
   "source": [
    "def get_movie_textual_data(overview_df, tagline_df):\n",
    "    result_df = overview_df.fillna(' ') + ' ' + tagline_df.fillna(' ')\n",
    "    return result_df"
   ]
  },
  {
   "cell_type": "markdown",
   "id": "4710cd75-3d65-4fc1-9bfe-221a032b9aee",
   "metadata": {},
   "source": [
    "### Weighted Rating"
   ]
  },
  {
   "cell_type": "code",
   "execution_count": 31,
   "id": "0b109918-ca7e-4f6d-897e-71aca8f1a2ce",
   "metadata": {},
   "outputs": [],
   "source": [
    "m = md['vote_count'].quantile(0.80)\n",
    "C = md['vote_average'].mean()\n",
    "\n",
    "def weighted_rating(row):\n",
    "    v = row['vote_count']\n",
    "    R = row['vote_average']\n",
    "    return (v/(v+m) * R) + (m/(m+v) * C)"
   ]
  },
  {
   "cell_type": "code",
   "execution_count": 33,
   "id": "64940af1-4879-49dc-9c30-8f1c7eae3c9a",
   "metadata": {},
   "outputs": [],
   "source": [
    "md.apply(weighted_rating, axis=1)\n",
    "md['wr'] = md.apply(weighted_rating, axis=1)"
   ]
  },
  {
   "cell_type": "markdown",
   "id": "0f382c6d-159e-4a9e-8be6-dbe269b1ffc6",
   "metadata": {},
   "source": [
    "## Movie Latent vector"
   ]
  },
  {
   "cell_type": "code",
   "execution_count": 46,
   "id": "d3071165-783b-4fa4-89e7-69d3688f652a",
   "metadata": {},
   "outputs": [],
   "source": [
    "def get_movie_latent_vector(top_k, movie_dataframe):\n",
    "    # Genres\n",
    "    genres_df = encode_genres(movie_dataframe['genres'])\n",
    "\n",
    "    # Credits\n",
    "    cast_df = movie_dataframe['cast'].apply(encode_casts)\n",
    "    director_df = movie_dataframe['crew'].apply(encode_directors)\n",
    "\n",
    "    # Keywords (Textual)\n",
    "    keywords_df = get_top_k_keywords(10, movie_dataframe['keywords'])\n",
    "    keywords_embedding_df = keywords_df.apply(embed_texts)\n",
    "\n",
    "    # Movie Textual Data (Textual)\n",
    "    movie_textual_df = get_movie_textual_data(movie_dataframe['overview'], movie_dataframe['tagline'])\n",
    "    movie_textual_embedding_df = movie_textual_df.apply(embed_texts)\n",
    "\n",
    "    result = pd.concat([genres_df, cast_df, director_df, keywords_embedding_df, movie_textual_embedding_df], axis=1)\n",
    "    result.index = movie_dataframe['id']\n",
    "    result = result.rename({0: 'overview_embedding', 'keywords': 'keywords_embedding'}, axis=1)\n",
    "    return result"
   ]
  },
  {
   "cell_type": "markdown",
   "id": "0ba95571-baff-40d5-b7d7-4be7b288c821",
   "metadata": {},
   "source": [
    "## Merge Datasets"
   ]
  },
  {
   "cell_type": "code",
   "execution_count": 38,
   "id": "6438be48-a8a5-4e10-855d-91e22bc14b73",
   "metadata": {},
   "outputs": [],
   "source": [
    "df = pd.merge(md, credits).merge(keywords)"
   ]
  },
  {
   "cell_type": "markdown",
   "id": "44dd68b9-3c53-4315-8507-9acb2f3b53f9",
   "metadata": {},
   "source": [
    "## Get Similarities"
   ]
  },
  {
   "cell_type": "markdown",
   "id": "f44d9770-7704-4baf-a131-57862065ebdd",
   "metadata": {
    "jp-MarkdownHeadingCollapsed": true
   },
   "source": [
    "### Genres Similarity"
   ]
  },
  {
   "cell_type": "code",
   "execution_count": 534,
   "id": "365baadc-c253-4dec-a49a-a9cbd9613d52",
   "metadata": {},
   "outputs": [],
   "source": [
    "genres1 = np.expand_dims(movie_latent_datas.iloc[5, 0], axis=0)\n",
    "genres2 = np.expand_dims(movie_latent_datas.iloc[6, 0], axis=0)"
   ]
  },
  {
   "cell_type": "code",
   "execution_count": 536,
   "id": "2c164526-66d1-4eb4-8479-65c58068a4d3",
   "metadata": {},
   "outputs": [
    {
     "data": {
      "text/plain": [
       "array([[0.5]])"
      ]
     },
     "execution_count": 536,
     "metadata": {},
     "output_type": "execute_result"
    }
   ],
   "source": [
    "cosine_similarity(genres1, genres2)"
   ]
  },
  {
   "cell_type": "markdown",
   "id": "ba6523cb-8e06-464a-8d5c-313c402d99e1",
   "metadata": {
    "jp-MarkdownHeadingCollapsed": true
   },
   "source": [
    "### Cast Similarity"
   ]
  },
  {
   "cell_type": "code",
   "execution_count": 572,
   "id": "38132cd1-3caa-419b-a474-8c77fa5a3a82",
   "metadata": {},
   "outputs": [],
   "source": [
    "cast1 = movie_latent_datas.loc[26318, 'cast']\n",
    "cast2 = movie_latent_datas.loc[15888, 'cast']"
   ]
  },
  {
   "cell_type": "code",
   "execution_count": 603,
   "id": "7db50405-322f-42f0-9a05-1da117967c76",
   "metadata": {},
   "outputs": [],
   "source": [
    "def jaccard_similarity(list1, list2):\n",
    "    s1 = set(list1)\n",
    "    s2 = set(list2)\n",
    "\n",
    "    # Remove 0 IDS, because they aren't valid\n",
    "    intersection = s1.intersection(s2) - {0}\n",
    "    \n",
    "    return float(len(intersection) / len(s1.union(s2)))"
   ]
  },
  {
   "cell_type": "code",
   "execution_count": 605,
   "id": "752cc903-fbb4-4df3-ab54-c3338d67e844",
   "metadata": {},
   "outputs": [
    {
     "data": {
      "text/plain": [
       "0.2"
      ]
     },
     "execution_count": 605,
     "metadata": {},
     "output_type": "execute_result"
    }
   ],
   "source": [
    "jaccard_similarity(cast1, cast2)"
   ]
  },
  {
   "cell_type": "markdown",
   "id": "bc59ed6d-6fc7-4301-858e-1edd31a4280a",
   "metadata": {
    "jp-MarkdownHeadingCollapsed": true
   },
   "source": [
    "### Directors Similarity"
   ]
  },
  {
   "cell_type": "code",
   "execution_count": 613,
   "id": "bdd37492-ad1a-438b-8e75-3dc612de3e8d",
   "metadata": {},
   "outputs": [],
   "source": [
    "crew1 = movie_latent_datas.loc[35198, 'crew']\n",
    "crew2 = movie_latent_datas.loc[23906, 'crew']"
   ]
  },
  {
   "cell_type": "code",
   "execution_count": 615,
   "id": "12996e65-8880-4b12-8169-3aa36794a6b1",
   "metadata": {},
   "outputs": [
    {
     "data": {
      "text/plain": [
       "([80570], [80570])"
      ]
     },
     "execution_count": 615,
     "metadata": {},
     "output_type": "execute_result"
    }
   ],
   "source": [
    "crew1, crew2"
   ]
  },
  {
   "cell_type": "code",
   "execution_count": 617,
   "id": "4c17e110-d4a7-40dc-bbe4-75ddf01ea488",
   "metadata": {},
   "outputs": [
    {
     "data": {
      "text/plain": [
       "1.0"
      ]
     },
     "execution_count": 617,
     "metadata": {},
     "output_type": "execute_result"
    }
   ],
   "source": [
    "jaccard_similarity(crew1, crew2)"
   ]
  },
  {
   "cell_type": "markdown",
   "id": "bef271f6-c572-42f1-9c55-7cb398074a4a",
   "metadata": {
    "jp-MarkdownHeadingCollapsed": true
   },
   "source": [
    "### Keywords Similarity"
   ]
  },
  {
   "cell_type": "code",
   "execution_count": 626,
   "id": "8cd8b20c-3643-4890-9ff9-fcbf6fc81925",
   "metadata": {},
   "outputs": [],
   "source": [
    "keyword1 = np.expand_dims(movie_latent_datas.iloc[0, 3], axis=0)\n",
    "keyword2 = np.expand_dims(movie_latent_datas.iloc[1, 3], axis=0)"
   ]
  },
  {
   "cell_type": "code",
   "execution_count": 628,
   "id": "9c712347-f792-4e14-ac9a-f68c4a56ebbc",
   "metadata": {},
   "outputs": [
    {
     "data": {
      "text/plain": [
       "array([[0.18156236]], dtype=float32)"
      ]
     },
     "execution_count": 628,
     "metadata": {},
     "output_type": "execute_result"
    }
   ],
   "source": [
    "cosine_similarity(keyword1, keyword2)"
   ]
  },
  {
   "cell_type": "markdown",
   "id": "5d75a481-bd85-4de6-ab52-ce94f60c12bb",
   "metadata": {
    "jp-MarkdownHeadingCollapsed": true
   },
   "source": [
    "### Overview Similarity"
   ]
  },
  {
   "cell_type": "code",
   "execution_count": 632,
   "id": "e99f6c68-a02c-4ce3-85dd-406e4bddcdaa",
   "metadata": {},
   "outputs": [],
   "source": [
    "overview1 = np.expand_dims(movie_latent_datas.iloc[0, 4], axis=0)\n",
    "overview2 = np.expand_dims(movie_latent_datas.iloc[1, 4], axis=0)"
   ]
  },
  {
   "cell_type": "code",
   "execution_count": 634,
   "id": "250fa770-7aa8-402c-9b78-e1721fa02507",
   "metadata": {},
   "outputs": [
    {
     "data": {
      "text/plain": [
       "array([[0.27793163]], dtype=float32)"
      ]
     },
     "execution_count": 634,
     "metadata": {},
     "output_type": "execute_result"
    }
   ],
   "source": [
    "cosine_similarity(overview1, overview2)"
   ]
  },
  {
   "cell_type": "markdown",
   "id": "1e19a1b3-c43c-4697-aff7-3d1ab67fa469",
   "metadata": {},
   "source": [
    "## All similarities together"
   ]
  },
  {
   "cell_type": "code",
   "execution_count": 40,
   "id": "c0032347-241e-4e97-bb94-1c970303d34d",
   "metadata": {},
   "outputs": [],
   "source": [
    "def jaccard_similarity(list1, list2):\n",
    "    s1 = set(list1)\n",
    "    s2 = set(list2)\n",
    "\n",
    "    # Remove 0 IDS, because they aren't valid\n",
    "    intersection = s1.intersection(s2) - {0}\n",
    "    \n",
    "    return float(len(intersection) / len(s1.union(s2)))\n",
    "\n",
    "def get_similarity(row1, row2):\n",
    "    # Genres\n",
    "    genres1 = np.expand_dims(row1['genres'], axis=0)\n",
    "    genres2 = np.expand_dims(row2['genres'], axis=0)\n",
    "    genres_similarity = cosine_similarity(genres1, genres2)[0, 0]\n",
    "\n",
    "\n",
    "    # As our cast and crew is csr matrix, getting cosine similary for complete 0 would lead us to -1 as a placeholder for undefined cosine\n",
    "    # So i would check for -1 \n",
    "    # Cast\n",
    "    cast1 = row1['cast']\n",
    "    cast2 = row2['cast']\n",
    "    cast_similarity = cosine_similarity(cast1, cast2)[0, 0]\n",
    "    cast_similarity = 0 if cast_similarity == -1 else cast_similarity\n",
    "        \n",
    "    # Crew\n",
    "    crew1 = row1['crew']\n",
    "    crew2 = row2['crew']\n",
    "    crew_similarity = cosine_similarity(crew1, crew2)[0, 0]\n",
    "    crew_similarity = 0 if crew_similarity == -1 else crew_similarity\n",
    "\n",
    "\n",
    "    # Keyword\n",
    "    keyword1 = np.expand_dims(row1['keywords_embedding'], axis=0)\n",
    "    keyword2 = np.expand_dims(row2['keywords_embedding'], axis=0)\n",
    "    keyword_similarity = cosine_similarity(keyword1, keyword2)[0, 0]\n",
    "\n",
    "    # Overview\n",
    "    overview1 = np.expand_dims(row1['overview_embedding'], axis=0)\n",
    "    overview2 = np.expand_dims(row2['overview_embedding'], axis=0)\n",
    "    overview_similarity = cosine_similarity(overview1, overview2)[0, 0]\n",
    "\n",
    "    # Weights:\n",
    "    genre_w = 0.25\n",
    "    cast_w = 0.05\n",
    "    crew_w = 0.05\n",
    "    keyword_w = 0.30\n",
    "    overview_w = 0.35\n",
    "\n",
    "    final_similarity = genre_w * genres_similarity + cast_w * cast_similarity + crew_w * crew_similarity + keyword_w * keyword_similarity + overview_w * overview_similarity\n",
    "\n",
    "    return final_similarity, genres_similarity, cast_similarity, crew_similarity, keyword_similarity, overview_similarity"
   ]
  },
  {
   "cell_type": "markdown",
   "id": "af03cf81-9146-4ba1-bd09-a753ad67c59f",
   "metadata": {},
   "source": [
    "## User profile latent vector"
   ]
  },
  {
   "cell_type": "code",
   "execution_count": 360,
   "id": "7ebfd91e-0042-4895-8c1c-f6b6f33cb0a8",
   "metadata": {},
   "outputs": [],
   "source": [
    "def get_user_latent_vector(top_k, user_df):\n",
    "    user = user_df.copy()\n",
    "    # Check user movie id rates be in movie metadata\n",
    "    user = user[user['movieId'].isin(real_world_df['id'])].reset_index(drop=True)\n",
    "    \n",
    "    user_mean_rates = user['rating'].mean()\n",
    "\n",
    "    # Get movie latent features for user rates\n",
    "    user_movie_rates = real_world_df[real_world_df['id'].isin(user['movieId'])]\n",
    "    user_movie_latents = get_movie_latent_vector(top_k, user_movie_rates)\n",
    "\n",
    "    # If all of the rates are equal don't get them a weight\n",
    "    if user['rating'].std() != 0:\n",
    "        for idx, row in user.iterrows():\n",
    "            movie_id = row['movieId']\n",
    "            # user_movie_latents.loc[movie_id, :] *= row['rating'] - user_mean_rates\n",
    "            # I don't want to use the user_mean_rates normalization\n",
    "            user_movie_latents.loc[movie_id, :] *= row['rating'] / 5\n",
    "\n",
    "    n_movie_rates = user_movie_latents.shape[0]\n",
    "    \n",
    "    columns_to_aggregate = [\n",
    "        'genres', 'cast', 'crew', 'keywords_embedding', 'overview_embedding'\n",
    "    ]\n",
    "    \n",
    "    profile_dict = {\n",
    "        col: [user_movie_latents[col].sum() / n_movie_rates]\n",
    "        for col in columns_to_aggregate\n",
    "    }\n",
    "    \n",
    "    profile = pd.DataFrame(profile_dict)\n",
    "    return profile"
   ]
  },
  {
   "cell_type": "markdown",
   "id": "3d5bf1fc-77ec-4b4c-9a09-8c24362742ee",
   "metadata": {},
   "source": [
    "## Get Recommendation\n",
    "First get user previous movies that likes and their ratings, create a user latent feature and from that find the most similar movies with cosine similarity of user vector @ movies latent vector"
   ]
  },
  {
   "cell_type": "code",
   "execution_count": 362,
   "id": "93d98a20-80b8-4256-a4cb-248cca23c198",
   "metadata": {},
   "outputs": [],
   "source": [
    "vote_count_cut_off = df['vote_count'].quantile(0.80)\n",
    "\n",
    "real_world_df = df[df['vote_count'] >= vote_count_cut_off]\n",
    "\n",
    "movies_latent_feature = get_movie_latent_vector(3, real_world_df)"
   ]
  },
  {
   "cell_type": "code",
   "execution_count": 284,
   "id": "ccb98f23-e146-4565-a2de-d70476ee1963",
   "metadata": {},
   "outputs": [],
   "source": [
    "test_user = pd.DataFrame({'userId': [1,1,1,1,1,1,1], 'movieId': [372058, 550, 129, 101, 27205, 11976, 11052], 'rating': [5, 4.8, 5, 4.5, 5, 3.8 , 1]})\n",
    "user_latent_feature = get_user_latent_vector(3, test_user)"
   ]
  },
  {
   "cell_type": "code",
   "execution_count": 286,
   "id": "d5272723-8933-4d3d-8d35-a5fdfd15f982",
   "metadata": {},
   "outputs": [],
   "source": [
    "user_1_sim_matrix = np.array([get_similarity(user_latent_feature.iloc[0], movie_features)[0] for _, movie_features in movies_latent_feature.iterrows()])"
   ]
  },
  {
   "cell_type": "code",
   "execution_count": 296,
   "id": "ab1f567f-bbc9-435b-ba5c-f13bcbbf2335",
   "metadata": {
    "scrolled": true
   },
   "outputs": [
    {
     "data": {
      "text/html": [
       "<div>\n",
       "<style scoped>\n",
       "    .dataframe tbody tr th:only-of-type {\n",
       "        vertical-align: middle;\n",
       "    }\n",
       "\n",
       "    .dataframe tbody tr th {\n",
       "        vertical-align: top;\n",
       "    }\n",
       "\n",
       "    .dataframe thead th {\n",
       "        text-align: right;\n",
       "    }\n",
       "</style>\n",
       "<table border=\"1\" class=\"dataframe\">\n",
       "  <thead>\n",
       "    <tr style=\"text-align: right;\">\n",
       "      <th></th>\n",
       "      <th>title</th>\n",
       "      <th>genres</th>\n",
       "      <th>wr</th>\n",
       "      <th>similarity</th>\n",
       "      <th>ranking_metrics</th>\n",
       "    </tr>\n",
       "    <tr>\n",
       "      <th>id</th>\n",
       "      <th></th>\n",
       "      <th></th>\n",
       "      <th></th>\n",
       "      <th></th>\n",
       "      <th></th>\n",
       "    </tr>\n",
       "  </thead>\n",
       "  <tbody>\n",
       "    <tr>\n",
       "      <th>129</th>\n",
       "      <td>Spirited Away</td>\n",
       "      <td>[Fantasy, Adventure, Animation, Family]</td>\n",
       "      <td>8.266628</td>\n",
       "      <td>0.696761</td>\n",
       "      <td>0.761712</td>\n",
       "    </tr>\n",
       "    <tr>\n",
       "      <th>27205</th>\n",
       "      <td>Inception</td>\n",
       "      <td>[Action, Thriller, Science Fiction, Mystery, A...</td>\n",
       "      <td>8.091215</td>\n",
       "      <td>0.676765</td>\n",
       "      <td>0.742943</td>\n",
       "    </tr>\n",
       "    <tr>\n",
       "      <th>79707</th>\n",
       "      <td>Children Who Chase Lost Voices</td>\n",
       "      <td>[Animation, Adventure, Drama, Fantasy]</td>\n",
       "      <td>6.703799</td>\n",
       "      <td>0.663372</td>\n",
       "      <td>0.666876</td>\n",
       "    </tr>\n",
       "    <tr>\n",
       "      <th>372058</th>\n",
       "      <td>Your Name.</td>\n",
       "      <td>[Romance, Animation, Drama]</td>\n",
       "      <td>8.366584</td>\n",
       "      <td>0.653539</td>\n",
       "      <td>0.745099</td>\n",
       "    </tr>\n",
       "    <tr>\n",
       "      <th>550</th>\n",
       "      <td>Fight Club</td>\n",
       "      <td>[Drama]</td>\n",
       "      <td>8.286216</td>\n",
       "      <td>0.624662</td>\n",
       "      <td>0.726642</td>\n",
       "    </tr>\n",
       "    <tr>\n",
       "      <th>...</th>\n",
       "      <td>...</td>\n",
       "      <td>...</td>\n",
       "      <td>...</td>\n",
       "      <td>...</td>\n",
       "      <td>...</td>\n",
       "    </tr>\n",
       "    <tr>\n",
       "      <th>416211</th>\n",
       "      <td>The White Helmets</td>\n",
       "      <td>[Documentary, War]</td>\n",
       "      <td>6.823683</td>\n",
       "      <td>0.152117</td>\n",
       "      <td>0.417243</td>\n",
       "    </tr>\n",
       "    <tr>\n",
       "      <th>10946</th>\n",
       "      <td>Earth</td>\n",
       "      <td>[Documentary]</td>\n",
       "      <td>6.994142</td>\n",
       "      <td>0.144949</td>\n",
       "      <td>0.422182</td>\n",
       "    </tr>\n",
       "    <tr>\n",
       "      <th>80617</th>\n",
       "      <td>Mythbusters Holiday Special</td>\n",
       "      <td>[]</td>\n",
       "      <td>6.818191</td>\n",
       "      <td>0.140376</td>\n",
       "      <td>0.411098</td>\n",
       "    </tr>\n",
       "    <tr>\n",
       "      <th>391698</th>\n",
       "      <td>The Beatles: Eight Days a Week - The Touring Y...</td>\n",
       "      <td>[Documentary, Music]</td>\n",
       "      <td>6.902186</td>\n",
       "      <td>0.126875</td>\n",
       "      <td>0.408547</td>\n",
       "    </tr>\n",
       "    <tr>\n",
       "      <th>13963</th>\n",
       "      <td>The Last Waltz</td>\n",
       "      <td>[Documentary, Music]</td>\n",
       "      <td>6.899214</td>\n",
       "      <td>0.101712</td>\n",
       "      <td>0.395817</td>\n",
       "    </tr>\n",
       "  </tbody>\n",
       "</table>\n",
       "<p>9422 rows × 5 columns</p>\n",
       "</div>"
      ],
      "text/plain": [
       "                                                    title  \\\n",
       "id                                                          \n",
       "129                                         Spirited Away   \n",
       "27205                                           Inception   \n",
       "79707                      Children Who Chase Lost Voices   \n",
       "372058                                         Your Name.   \n",
       "550                                            Fight Club   \n",
       "...                                                   ...   \n",
       "416211                                  The White Helmets   \n",
       "10946                                               Earth   \n",
       "80617                         Mythbusters Holiday Special   \n",
       "391698  The Beatles: Eight Days a Week - The Touring Y...   \n",
       "13963                                      The Last Waltz   \n",
       "\n",
       "                                                   genres        wr  \\\n",
       "id                                                                    \n",
       "129               [Fantasy, Adventure, Animation, Family]  8.266628   \n",
       "27205   [Action, Thriller, Science Fiction, Mystery, A...  8.091215   \n",
       "79707              [Animation, Adventure, Drama, Fantasy]  6.703799   \n",
       "372058                        [Romance, Animation, Drama]  8.366584   \n",
       "550                                               [Drama]  8.286216   \n",
       "...                                                   ...       ...   \n",
       "416211                                 [Documentary, War]  6.823683   \n",
       "10946                                       [Documentary]  6.994142   \n",
       "80617                                                  []  6.818191   \n",
       "391698                               [Documentary, Music]  6.902186   \n",
       "13963                                [Documentary, Music]  6.899214   \n",
       "\n",
       "        similarity  ranking_metrics  \n",
       "id                                   \n",
       "129       0.696761         0.761712  \n",
       "27205     0.676765         0.742943  \n",
       "79707     0.663372         0.666876  \n",
       "372058    0.653539         0.745099  \n",
       "550       0.624662         0.726642  \n",
       "...            ...              ...  \n",
       "416211    0.152117         0.417243  \n",
       "10946     0.144949         0.422182  \n",
       "80617     0.140376         0.411098  \n",
       "391698    0.126875         0.408547  \n",
       "13963     0.101712         0.395817  \n",
       "\n",
       "[9422 rows x 5 columns]"
      ]
     },
     "execution_count": 296,
     "metadata": {},
     "output_type": "execute_result"
    }
   ],
   "source": [
    "rmi = np.argsort(user_1_sim_matrix)[::-1]\n",
    "\n",
    "similarities = user_1_sim_matrix[rmi]\n",
    "\n",
    "results_df = real_world_df.iloc[rmi][['title', 'genres', 'wr', 'id']].copy()\n",
    "results_df.set_index(results_df['id'], inplace=True)\n",
    "results_df.drop('id', axis=1, inplace=True)\n",
    "results_df['similarity'] = similarities\n",
    "\n",
    "alpha = 0.50\n",
    "results_df['ranking_metrics'] = (results_df['wr'] / 10) * alpha + results_df['similarity'] * (1 - alpha)\n",
    "results_df"
   ]
  },
  {
   "cell_type": "code",
   "execution_count": 349,
   "id": "2390ad86-4295-43b1-b9c3-a9c05fc2f11e",
   "metadata": {
    "scrolled": true
   },
   "outputs": [
    {
     "name": "stdout",
     "output_type": "stream",
     "text": [
      "67540-0.0-10\n",
      "67540-0.0-20\n",
      "67540-0.25-10\n",
      "67540-0.25-20\n",
      "67540-0.5-10\n",
      "67540-0.5-20\n",
      "67540-0.75-10\n",
      "67540-0.75-20\n",
      "67540-1.0-10\n",
      "67540-1.0-20\n",
      "64810-0.0-10\n",
      "64810-0.0-20\n",
      "64810-0.25-10\n",
      "64810-0.25-20\n",
      "64810-0.5-10\n",
      "64810-0.5-20\n",
      "64810-0.75-10\n",
      "64810-0.75-20\n",
      "64810-1.0-10\n",
      "64810-1.0-20\n",
      "94993-0.0-10\n",
      "94993-0.0-20\n",
      "94993-0.25-10\n",
      "94993-0.25-20\n",
      "94993-0.5-10\n",
      "94993-0.5-20\n",
      "94993-0.75-10\n",
      "94993-0.75-20\n",
      "94993-1.0-10\n",
      "94993-1.0-20\n",
      "185498-0.0-10\n",
      "185498-0.0-20\n",
      "185498-0.25-10\n",
      "185498-0.25-20\n",
      "185498-0.5-10\n",
      "185498-0.5-20\n",
      "185498-0.75-10\n",
      "185498-0.75-20\n",
      "185498-1.0-10\n",
      "185498-1.0-20\n",
      "91557-0.0-10\n",
      "91557-0.0-20\n",
      "91557-0.25-10\n",
      "91557-0.25-20\n",
      "91557-0.5-10\n",
      "91557-0.5-20\n",
      "91557-0.75-10\n",
      "91557-0.75-20\n",
      "91557-1.0-10\n",
      "91557-1.0-20\n",
      "18403-0.0-10\n",
      "18403-0.0-20\n",
      "18403-0.25-10\n",
      "18403-0.25-20\n",
      "18403-0.5-10\n",
      "18403-0.5-20\n",
      "18403-0.75-10\n",
      "18403-0.75-20\n",
      "18403-1.0-10\n",
      "18403-1.0-20\n",
      "87580-0.0-10\n",
      "87580-0.0-20\n",
      "87580-0.25-10\n",
      "87580-0.25-20\n",
      "87580-0.5-10\n",
      "87580-0.5-20\n",
      "87580-0.75-10\n",
      "87580-0.75-20\n",
      "87580-1.0-10\n",
      "87580-1.0-20\n",
      "125584-0.0-10\n",
      "125584-0.0-20\n",
      "125584-0.25-10\n",
      "125584-0.25-20\n",
      "125584-0.5-10\n",
      "125584-0.5-20\n",
      "125584-0.75-10\n",
      "125584-0.75-20\n",
      "125584-1.0-10\n",
      "125584-1.0-20\n",
      "206502-0.0-10\n",
      "206502-0.0-20\n",
      "206502-0.25-10\n",
      "206502-0.25-20\n",
      "206502-0.5-10\n",
      "206502-0.5-20\n",
      "206502-0.75-10\n",
      "206502-0.75-20\n",
      "206502-1.0-10\n",
      "206502-1.0-20\n",
      "86917-0.0-10\n",
      "86917-0.0-20\n",
      "86917-0.25-10\n",
      "86917-0.25-20\n",
      "86917-0.5-10\n",
      "86917-0.5-20\n",
      "86917-0.75-10\n",
      "86917-0.75-20\n",
      "86917-1.0-10\n",
      "86917-1.0-20\n",
      "170224-0.0-10\n",
      "170224-0.0-20\n",
      "170224-0.25-10\n",
      "170224-0.25-20\n",
      "170224-0.5-10\n",
      "170224-0.5-20\n",
      "170224-0.75-10\n",
      "170224-0.75-20\n",
      "170224-1.0-10\n",
      "170224-1.0-20\n",
      "58818-0.0-10\n",
      "58818-0.0-20\n",
      "58818-0.25-10\n",
      "58818-0.25-20\n",
      "58818-0.5-10\n",
      "58818-0.5-20\n",
      "58818-0.75-10\n",
      "58818-0.75-20\n",
      "58818-1.0-10\n",
      "58818-1.0-20\n",
      "223664-0.0-10\n",
      "223664-0.0-20\n",
      "223664-0.25-10\n",
      "223664-0.25-20\n",
      "223664-0.5-10\n",
      "223664-0.5-20\n",
      "223664-0.75-10\n",
      "223664-0.75-20\n",
      "223664-1.0-10\n",
      "223664-1.0-20\n",
      "37238-0.0-10\n",
      "37238-0.0-20\n",
      "37238-0.25-10\n",
      "37238-0.25-20\n",
      "37238-0.5-10\n",
      "37238-0.5-20\n",
      "37238-0.75-10\n",
      "37238-0.75-20\n",
      "37238-1.0-10\n",
      "37238-1.0-20\n",
      "73440-0.0-10\n",
      "73440-0.0-20\n",
      "73440-0.25-10\n",
      "73440-0.25-20\n",
      "73440-0.5-10\n",
      "73440-0.5-20\n",
      "73440-0.75-10\n",
      "73440-0.75-20\n",
      "73440-1.0-10\n",
      "73440-1.0-20\n",
      "204099-0.0-10\n",
      "204099-0.0-20\n",
      "204099-0.25-10\n",
      "204099-0.25-20\n",
      "204099-0.5-10\n",
      "204099-0.5-20\n",
      "204099-0.75-10\n",
      "204099-0.75-20\n",
      "204099-1.0-10\n",
      "204099-1.0-20\n",
      "149695-0.0-10\n",
      "149695-0.0-20\n",
      "149695-0.25-10\n",
      "149695-0.25-20\n",
      "149695-0.5-10\n",
      "149695-0.5-20\n",
      "149695-0.75-10\n",
      "149695-0.75-20\n",
      "149695-1.0-10\n",
      "149695-1.0-20\n",
      "119995-0.0-10\n",
      "119995-0.0-20\n",
      "119995-0.25-10\n",
      "119995-0.25-20\n",
      "119995-0.5-10\n",
      "119995-0.5-20\n",
      "119995-0.75-10\n",
      "119995-0.75-20\n",
      "119995-1.0-10\n",
      "119995-1.0-20\n",
      "55722-0.0-10\n",
      "55722-0.0-20\n",
      "55722-0.25-10\n",
      "55722-0.25-20\n",
      "55722-0.5-10\n",
      "55722-0.5-20\n",
      "55722-0.75-10\n",
      "55722-0.75-20\n",
      "55722-1.0-10\n",
      "55722-1.0-20\n",
      "77522-0.0-10\n",
      "77522-0.0-20\n",
      "77522-0.25-10\n",
      "77522-0.25-20\n",
      "77522-0.5-10\n",
      "77522-0.5-20\n",
      "77522-0.75-10\n",
      "77522-0.75-20\n",
      "77522-1.0-10\n",
      "77522-1.0-20\n",
      "38072-0.0-10\n",
      "38072-0.0-20\n",
      "38072-0.25-10\n",
      "38072-0.25-20\n",
      "38072-0.5-10\n",
      "38072-0.5-20\n",
      "38072-0.75-10\n",
      "38072-0.75-20\n",
      "38072-1.0-10\n",
      "38072-1.0-20\n",
      "130331-0.0-10\n",
      "130331-0.0-20\n",
      "130331-0.25-10\n",
      "130331-0.25-20\n",
      "130331-0.5-10\n",
      "130331-0.5-20\n",
      "130331-0.75-10\n",
      "130331-0.75-20\n",
      "130331-1.0-10\n",
      "130331-1.0-20\n",
      "150642-0.0-10\n",
      "150642-0.0-20\n",
      "150642-0.25-10\n",
      "150642-0.25-20\n",
      "150642-0.5-10\n",
      "150642-0.5-20\n",
      "150642-0.75-10\n",
      "150642-0.75-20\n",
      "150642-1.0-10\n",
      "150642-1.0-20\n",
      "19196-0.0-10\n",
      "19196-0.0-20\n",
      "19196-0.25-10\n",
      "19196-0.25-20\n",
      "19196-0.5-10\n",
      "19196-0.5-20\n",
      "19196-0.75-10\n",
      "19196-0.75-20\n",
      "19196-1.0-10\n",
      "19196-1.0-20\n"
     ]
    },
    {
     "ename": "ZeroDivisionError",
     "evalue": "division by zero",
     "output_type": "error",
     "traceback": [
      "\u001b[0;31m---------------------------------------------------------------------------\u001b[0m",
      "\u001b[0;31mZeroDivisionError\u001b[0m                         Traceback (most recent call last)",
      "Cell \u001b[0;32mIn[349], line 17\u001b[0m\n\u001b[1;32m     14\u001b[0m train_items \u001b[38;5;241m=\u001b[39m \u001b[38;5;28mset\u001b[39m(user_hist\u001b[38;5;241m.\u001b[39miloc[:\u001b[38;5;241m-\u001b[39m\u001b[38;5;241m1\u001b[39m][\u001b[38;5;124m'\u001b[39m\u001b[38;5;124mmovieId\u001b[39m\u001b[38;5;124m'\u001b[39m])\n\u001b[1;32m     15\u001b[0m test_item \u001b[38;5;241m=\u001b[39m user_hist\u001b[38;5;241m.\u001b[39miloc[\u001b[38;5;241m-\u001b[39m\u001b[38;5;241m1\u001b[39m][\u001b[38;5;124m'\u001b[39m\u001b[38;5;124mmovieId\u001b[39m\u001b[38;5;124m'\u001b[39m]\n\u001b[0;32m---> 17\u001b[0m user_latent_feature \u001b[38;5;241m=\u001b[39m get_user_latent_vector(user_id, user_hist)\n\u001b[1;32m     18\u001b[0m sim_scores \u001b[38;5;241m=\u001b[39m np\u001b[38;5;241m.\u001b[39marray([\n\u001b[1;32m     19\u001b[0m     get_similarity(user_latent_feature\u001b[38;5;241m.\u001b[39miloc[\u001b[38;5;241m0\u001b[39m], movie_features)[\u001b[38;5;241m0\u001b[39m] \n\u001b[1;32m     20\u001b[0m     \u001b[38;5;28;01mfor\u001b[39;00m _, movie_features \u001b[38;5;129;01min\u001b[39;00m movies_latent_feature\u001b[38;5;241m.\u001b[39miterrows()\n\u001b[1;32m     21\u001b[0m ])\n\u001b[1;32m     23\u001b[0m \u001b[38;5;28;01mfor\u001b[39;00m alpha \u001b[38;5;129;01min\u001b[39;00m alphas:\n",
      "Cell \u001b[0;32mIn[282], line 26\u001b[0m, in \u001b[0;36mget_user_latent_vector\u001b[0;34m(top_k, user_df)\u001b[0m\n\u001b[1;32m     19\u001b[0m n_movie_rates \u001b[38;5;241m=\u001b[39m user_movie_latents\u001b[38;5;241m.\u001b[39mshape[\u001b[38;5;241m0\u001b[39m]\n\u001b[1;32m     21\u001b[0m columns_to_aggregate \u001b[38;5;241m=\u001b[39m [\n\u001b[1;32m     22\u001b[0m     \u001b[38;5;124m'\u001b[39m\u001b[38;5;124mgenres\u001b[39m\u001b[38;5;124m'\u001b[39m, \u001b[38;5;124m'\u001b[39m\u001b[38;5;124mcast\u001b[39m\u001b[38;5;124m'\u001b[39m, \u001b[38;5;124m'\u001b[39m\u001b[38;5;124mcrew\u001b[39m\u001b[38;5;124m'\u001b[39m, \u001b[38;5;124m'\u001b[39m\u001b[38;5;124mkeywords_embedding\u001b[39m\u001b[38;5;124m'\u001b[39m, \u001b[38;5;124m'\u001b[39m\u001b[38;5;124moverview_embedding\u001b[39m\u001b[38;5;124m'\u001b[39m\n\u001b[1;32m     23\u001b[0m ]\n\u001b[1;32m     25\u001b[0m profile_dict \u001b[38;5;241m=\u001b[39m {\n\u001b[0;32m---> 26\u001b[0m     col: [user_movie_latents[col]\u001b[38;5;241m.\u001b[39msum() \u001b[38;5;241m/\u001b[39m n_movie_rates]\n\u001b[1;32m     27\u001b[0m     \u001b[38;5;28;01mfor\u001b[39;00m col \u001b[38;5;129;01min\u001b[39;00m columns_to_aggregate\n\u001b[1;32m     28\u001b[0m }\n\u001b[1;32m     30\u001b[0m profile \u001b[38;5;241m=\u001b[39m pd\u001b[38;5;241m.\u001b[39mDataFrame(profile_dict)\n\u001b[1;32m     31\u001b[0m \u001b[38;5;28;01mreturn\u001b[39;00m profile\n",
      "\u001b[0;31mZeroDivisionError\u001b[0m: division by zero"
     ]
    }
   ],
   "source": [
    "alphas = [0.0, 0.25, 0.5, 0.75, 1.0]\n",
    "Ks = [10, 20]\n",
    "\n",
    "all_results = {alpha: {k: {\"precision\": [], \"recall\": [], \"hr\": [], \"map\": [], \"ndcg\": []}\n",
    "                       for k in Ks} for alpha in alphas}\n",
    "\n",
    "user_ids = np.random.choice(ratings['userId'].unique(), size=50, replace=False)\n",
    "\n",
    "for user_id in user_ids:\n",
    "    # time-aware split for this user\n",
    "    user_hist = ratings[ratings['userId'] == user_id].sort_values('timestamp')\n",
    "    if len(user_hist) < 2: \n",
    "        continue\n",
    "    train_items = set(user_hist.iloc[:-1]['movieId'])\n",
    "    test_item = user_hist.iloc[-1]['movieId']\n",
    "    \n",
    "    user_latent_feature = get_user_latent_vector(user_id, user_hist)\n",
    "    sim_scores = np.array([\n",
    "        get_similarity(user_latent_feature.iloc[0], movie_features)[0] \n",
    "        for _, movie_features in movies_latent_feature.iterrows()\n",
    "    ])\n",
    "    \n",
    "    for alpha in alphas:\n",
    "        rmi = np.argsort(sim_scores)[::-1]\n",
    "        sims = sim_scores[rmi]\n",
    "        ranked = real_world_df.iloc[rmi][['title','genres','wr','id']].copy()\n",
    "        ranked['similarity'] = sims\n",
    "        ranked['ranking_score'] = (ranked['wr']/10)*alpha + ranked['similarity']*(1-alpha)\n",
    "        \n",
    "        ranked = ranked.sort_values('ranking_score', ascending=False)\n",
    "        \n",
    "        for K in Ks:\n",
    "            print(f\"{user_id}-{alpha}-{K}\")\n",
    "            recs = ranked.head(K)['id'].tolist()\n",
    "            rel = [1 if item == test_item else 0 for item in recs]\n",
    "            \n",
    "            hr = int(test_item in recs)\n",
    "            prec = sum(rel) / K\n",
    "            recall = sum(rel) / 1\n",
    "            dcg = sum(r/np.log2(i+2) for i,r in enumerate(rel))\n",
    "            idcg = 1.0\n",
    "            ndcg = dcg/idcg\n",
    "            ap = sum([sum(rel[:i+1])/(i+1) for i in range(len(rel)) if rel[i]]) / 1\n",
    "            \n",
    "            all_results[alpha][K][\"precision\"].append(prec)\n",
    "            all_results[alpha][K][\"recall\"].append(recall)\n",
    "            all_results[alpha][K][\"hr\"].append(hr)\n",
    "            all_results[alpha][K][\"map\"].append(ap)\n",
    "            all_results[alpha][K][\"ndcg\"].append(ndcg)\n",
    "            \n",
    "agg_results = {alpha: {k: {m: np.mean(all_results[alpha][k][m]) \n",
    "                           for m in all_results[alpha][k]} \n",
    "                       for k in Ks} for alpha in alphas}"
   ]
  },
  {
   "cell_type": "code",
   "execution_count": 351,
   "id": "87d0fe0d-39b1-4de8-b513-03f6623e3190",
   "metadata": {},
   "outputs": [
    {
     "data": {
      "image/png": "[encoded data removed]",
      "text/plain": [
       "<Figure size 1000x600 with 1 Axes>"
      ]
     },
     "metadata": {},
     "output_type": "display_data"
    },
    {
     "data": {
      "image/png": "[encoded data removed]",
      "text/plain": [
       "<Figure size 1000x600 with 1 Axes>"
      ]
     },
     "metadata": {},
     "output_type": "display_data"
    }
   ],
   "source": [
    "for K in Ks:\n",
    "    plt.figure(figsize=(10,6))\n",
    "    for metric in [\"precision\",\"recall\",\"hr\",\"map\",\"ndcg\"]:\n",
    "        plt.plot(alphas, [agg_results[a][K][metric] for a in alphas], marker='o', label=metric)\n",
    "    plt.title(f\"Ranking Metrics @K={K} vs α\")\n",
    "    plt.xlabel(\"α (weight for wr)\")\n",
    "    plt.ylabel(\"Score\")\n",
    "    plt.legend()\n",
    "    plt.grid(True)\n",
    "    plt.show()"
   ]
  },
  {
   "cell_type": "markdown",
   "id": "8f15fc65-ff25-4363-9b58-0e2938505851",
   "metadata": {},
   "source": [
    "So alpha=0.25 is the best one."
   ]
  }
 ],
 "metadata": {
  "kernelspec": {
   "display_name": "Python 3 (ipykernel)",
   "language": "python",
   "name": "python3"
  },
  "language_info": {
   "codemirror_mode": {
    "name": "ipython",
    "version": 3
   },
   "file_extension": ".py",
   "mimetype": "text/x-python",
   "name": "python",
   "nbconvert_exporter": "python",
   "pygments_lexer": "ipython3",
   "version": "3.12.2"
  }
 },
 "nbformat": 4,
 "nbformat_minor": 5
}

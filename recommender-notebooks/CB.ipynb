{
 "cells": [
  {
   "cell_type": "code",
   "execution_count": 578,
   "id": "388d085c-550c-4b1e-a168-f52f58e3500e",
   "metadata": {},
   "outputs": [],
   "source": [
    "import pandas as pd\n",
    "import seaborn as snas\n",
    "import matplotlib.pyplot as plt\n",
    "import numpy as np\n",
    "from ast import literal_eval # use literal eval instead of eval\n",
    "from sklearn.metrics.pairwise import cosine_similarity\n",
    "from sklearn.metrics import jaccard_score"
   ]
  },
  {
   "cell_type": "code",
   "execution_count": 389,
   "id": "2bf1bf0b-3a74-4501-8aaa-58bad8b7e5ef",
   "metadata": {},
   "outputs": [
    {
     "name": "stderr",
     "output_type": "stream",
     "text": [
      "/var/folders/wy/xyqwny610cb9ft3dhglx4jyc0000gn/T/ipykernel_31206/2838257103.py:4: DtypeWarning: Columns (10) have mixed types. Specify dtype option on import or set low_memory=False.\n",
      "  md = pd.read_csv('../dataset/movies_metadata.csv')\n"
     ]
    }
   ],
   "source": [
    "credits = pd.read_csv('../dataset/credits.csv')\n",
    "keywords = pd.read_csv('../dataset/keywords.csv')\n",
    "links = pd.read_csv('../dataset/links.csv')\n",
    "md = pd.read_csv('../dataset/movies_metadata.csv')\n",
    "ratings = pd.read_csv('../dataset/ratings.csv')"
   ]
  },
  {
   "cell_type": "code",
   "execution_count": 26,
   "id": "d47fdca3-0d5c-47f0-8d72-162567f12697",
   "metadata": {},
   "outputs": [],
   "source": [
    "from sentence_transformers import SentenceTransformer\n",
    "\n",
    "model = SentenceTransformer('sentence-transformers/all-MiniLM-L6-v2')\n",
    "\n",
    "def embed_texts(sentences):\n",
    "    embeddings = model.encode(sentences, normalize_embeddings=True)\n",
    "    return embeddings"
   ]
  },
  {
   "cell_type": "code",
   "execution_count": 391,
   "id": "2d74c284-12ab-4393-a997-f73998f7f145",
   "metadata": {},
   "outputs": [],
   "source": [
    "eval_columns = ['belongs_to_collection', 'production_companies', 'production_countries', 'spoken_languages', 'genres']\n",
    "\n",
    "for eval_column in eval_columns:\n",
    "    md[eval_column] = md[eval_column].fillna('[]').apply(literal_eval)\n",
    "    md[eval_column] = md[eval_column].apply(lambda x: [i['name'] for i in x] if isinstance(x, list) else [])\n",
    "\n",
    "bad_data = md[md['imdb_id'] == '0'].index\n",
    "md.drop(bad_data, inplace=True)\n",
    "\n",
    "cols_to_float = ['revenue', 'vote_count', 'vote_average', 'budget', 'popularity']\n",
    "md[cols_to_float] = md[cols_to_float].astype(float)\n",
    "\n",
    "md['id'] = md['id'].astype(int)"
   ]
  },
  {
   "cell_type": "code",
   "execution_count": 392,
   "id": "52072a5d-d1ca-464d-9d08-5e7223dc86a5",
   "metadata": {},
   "outputs": [],
   "source": [
    "eval_columns = ['cast', 'crew']\n",
    "\n",
    "for eval_column in eval_columns:\n",
    "    credits[eval_column] = credits[eval_column].fillna('[]').apply(literal_eval)\n",
    "\n",
    "credits['id'] = credits['id'].astype(int)"
   ]
  },
  {
   "cell_type": "code",
   "execution_count": 393,
   "id": "cf792fc7-e4e3-4928-b66a-a24054b67f9c",
   "metadata": {},
   "outputs": [],
   "source": [
    "eval_columns = ['keywords']\n",
    "\n",
    "for eval_column in eval_columns:\n",
    "    keywords[eval_column] = keywords[eval_column].fillna('[]').apply(literal_eval)\n",
    "\n",
    "keywords['id'] = keywords['id'].astype(int)"
   ]
  },
  {
   "cell_type": "markdown",
   "id": "ae1ee9db-0dd8-4a44-882b-fe4086aca790",
   "metadata": {},
   "source": [
    "### Genres Encoder"
   ]
  },
  {
   "cell_type": "code",
   "execution_count": 420,
   "id": "b3dbd0b5-fc9c-4de6-b567-e96ee90d992e",
   "metadata": {},
   "outputs": [],
   "source": [
    "all_genres = md['genres'].explode().unique()\n",
    "\n",
    "def encode_genres(genres_df):\n",
    "    genres_df = genres_df.copy()\n",
    "\n",
    "    genres_df = genres_df.apply(\n",
    "        lambda genres_list: np.array([genre in genres_list for genre in all_genres], dtype=int)\n",
    "    )\n",
    "\n",
    "    return genres_df"
   ]
  },
  {
   "cell_type": "markdown",
   "id": "47b39e43-bd2a-4ae0-995b-8a29bd249894",
   "metadata": {},
   "source": [
    "### Top K Credtis"
   ]
  },
  {
   "cell_type": "code",
   "execution_count": 427,
   "id": "7f9145cd-daf6-4ec9-a87f-0054c394edfb",
   "metadata": {},
   "outputs": [],
   "source": [
    "def get_top_k_casts(top_k, cast_df):\n",
    "    def process_cast(cast_list_str):\n",
    "        cast_list = json.loads(cast_list_str) if isinstance(cast_list_str, str) else cast_list_str\n",
    "        ids = [int(i['id']) for i in cast_list]\n",
    "        return (ids + [0] * top_k)[:top_k]\n",
    "    return cast_df.apply(process_cast)"
   ]
  },
  {
   "cell_type": "code",
   "execution_count": 429,
   "id": "26054b52-cf56-4fb8-a2bb-39b4d02567eb",
   "metadata": {},
   "outputs": [],
   "source": [
    "def get_top_k_directors(top_k, crew_df):\n",
    "    def process_directors(crew_list_str):\n",
    "        crew_list = json.loads(crew_list_str) if isinstance(crew_list_str, str) else crew_list_str\n",
    "        ids = [int(d['id']) for d in crew_list if d.get('job') == 'Director']\n",
    "        return (ids + [0] * top_k)[:top_k]\n",
    "    return crew_df.apply(process_directors)"
   ]
  },
  {
   "cell_type": "markdown",
   "id": "f71141ba-e59c-4fa5-a447-ecbe8ec90535",
   "metadata": {},
   "source": [
    "### Top K Keywords"
   ]
  },
  {
   "cell_type": "code",
   "execution_count": 356,
   "id": "33b1ac2a-f7f9-45e1-90fa-5b7e426ef940",
   "metadata": {},
   "outputs": [],
   "source": [
    "def get_top_k_keywords(top_k, keyword_df):\n",
    "    keyword_df = keyword_df.copy()\n",
    "    # Add underscore between same group keyword to they treated as one token\n",
    "    keyword_df = keyword_df.apply(lambda x: \" \".join(['_'.join(i['name'].split()) for i in x][:top_k]))\n",
    "    return keyword_df"
   ]
  },
  {
   "cell_type": "markdown",
   "id": "e3111e8b-6b5c-4dcd-9449-6a2ebbf7d326",
   "metadata": {},
   "source": [
    "### Movie Textual Data"
   ]
  },
  {
   "cell_type": "code",
   "execution_count": 425,
   "id": "33549546-fb52-4abc-954a-681ad798a3fb",
   "metadata": {},
   "outputs": [],
   "source": [
    "def get_movie_textual_data(overview_df, tagline_df):\n",
    "    result_df = overview_df.fillna(' ') + ' ' + tagline_df.fillna(' ')\n",
    "    return result_df"
   ]
  },
  {
   "cell_type": "markdown",
   "id": "0f382c6d-159e-4a9e-8be6-dbe269b1ffc6",
   "metadata": {},
   "source": [
    "## Movie Latent vector"
   ]
  },
  {
   "cell_type": "code",
   "execution_count": 467,
   "id": "d3071165-783b-4fa4-89e7-69d3688f652a",
   "metadata": {},
   "outputs": [],
   "source": [
    "def get_movie_latent_vector(top_k, movie_dataframe):\n",
    "    # Genres\n",
    "    genres_df = encode_genres(movie_dataframe['genres'])\n",
    "\n",
    "    # Credits\n",
    "    cast_df = get_top_k_casts(top_k, movie_dataframe['cast'])\n",
    "    director_df = get_top_k_directors(1, movie_dataframe['crew'])\n",
    "\n",
    "    # Keywords (Textual)\n",
    "    keywords_df = get_top_k_keywords(10, movie_dataframe['keywords'])\n",
    "    keywords_embedding_df = keywords_df.apply(embed_texts)\n",
    "\n",
    "    # Movie Textual Data (Textual)\n",
    "    movie_textual_df = get_movie_textual_data(movie_dataframe['overview'], movie_dataframe['tagline'])\n",
    "    movie_textual_embedding_df = movie_textual_df.apply(embed_texts)\n",
    "\n",
    "    result = pd.concat([genres_df, cast_df, director_df, keywords_embedding_df, movie_textual_embedding_df], axis=1)\n",
    "    result = result.rename({0: 'overview_embedding', 'keywords': 'keywords_embedding'}, axis=1)\n",
    "    return result"
   ]
  },
  {
   "cell_type": "code",
   "execution_count": 546,
   "id": "66791644-fdad-4542-a735-13cae1341714",
   "metadata": {},
   "outputs": [
    {
     "data": {
      "text/html": [
       "<div>\n",
       "<style scoped>\n",
       "    .dataframe tbody tr th:only-of-type {\n",
       "        vertical-align: middle;\n",
       "    }\n",
       "\n",
       "    .dataframe tbody tr th {\n",
       "        vertical-align: top;\n",
       "    }\n",
       "\n",
       "    .dataframe thead th {\n",
       "        text-align: right;\n",
       "    }\n",
       "</style>\n",
       "<table border=\"1\" class=\"dataframe\">\n",
       "  <thead>\n",
       "    <tr style=\"text-align: right;\">\n",
       "      <th></th>\n",
       "      <th>genres</th>\n",
       "      <th>cast</th>\n",
       "      <th>crew</th>\n",
       "      <th>keywords_embedding</th>\n",
       "      <th>overview_embedding</th>\n",
       "    </tr>\n",
       "  </thead>\n",
       "  <tbody>\n",
       "    <tr>\n",
       "      <th>27289</th>\n",
       "      <td>[0, 0, 0, 1, 0, 0, 1, 1, 0, 0, 0, 0, 0, 0, 0, ...</td>\n",
       "      <td>[13578, 10160, 34981]</td>\n",
       "      <td>[15705]</td>\n",
       "      <td>[-0.0012443794, 0.05501268, 0.01243257, 0.0286...</td>\n",
       "      <td>[0.006677093, -0.054407287, -0.05573156, 0.029...</td>\n",
       "    </tr>\n",
       "    <tr>\n",
       "      <th>33871</th>\n",
       "      <td>[0, 1, 0, 1, 0, 0, 0, 1, 0, 0, 0, 0, 0, 0, 0, ...</td>\n",
       "      <td>[1238990, 17124, 1299249]</td>\n",
       "      <td>[583175]</td>\n",
       "      <td>[-0.11883843, 0.04829872, -0.0025480906, -0.01...</td>\n",
       "      <td>[-0.076529264, 0.111708134, -0.050451986, 0.02...</td>\n",
       "    </tr>\n",
       "    <tr>\n",
       "      <th>35659</th>\n",
       "      <td>[0, 0, 0, 0, 0, 1, 1, 0, 1, 0, 1, 0, 0, 1, 0, ...</td>\n",
       "      <td>[79455, 138554, 128479]</td>\n",
       "      <td>[565681]</td>\n",
       "      <td>[-0.010180261, 0.037788138, -0.04850083, -0.04...</td>\n",
       "      <td>[-0.07389996, 0.034996036, -0.07015445, 0.0639...</td>\n",
       "    </tr>\n",
       "    <tr>\n",
       "      <th>15935</th>\n",
       "      <td>[0, 0, 0, 0, 0, 0, 1, 0, 0, 0, 0, 0, 0, 1, 0, ...</td>\n",
       "      <td>[16896, 14500, 8231]</td>\n",
       "      <td>[67451]</td>\n",
       "      <td>[-0.010666075, 0.048292287, -0.038215708, 0.08...</td>\n",
       "      <td>[0.049407076, 0.023529641, -0.029362736, 0.089...</td>\n",
       "    </tr>\n",
       "    <tr>\n",
       "      <th>14870</th>\n",
       "      <td>[0, 1, 0, 0, 1, 1, 0, 0, 0, 0, 0, 0, 0, 0, 0, ...</td>\n",
       "      <td>[19536, 40462, 5657]</td>\n",
       "      <td>[16837]</td>\n",
       "      <td>[-0.018039033, -0.06284508, 0.0760691, 0.03363...</td>\n",
       "      <td>[-0.032726604, 0.0119959265, 0.020066652, -0.0...</td>\n",
       "    </tr>\n",
       "    <tr>\n",
       "      <th>...</th>\n",
       "      <td>...</td>\n",
       "      <td>...</td>\n",
       "      <td>...</td>\n",
       "      <td>...</td>\n",
       "      <td>...</td>\n",
       "    </tr>\n",
       "    <tr>\n",
       "      <th>14595</th>\n",
       "      <td>[0, 0, 0, 0, 0, 0, 0, 0, 0, 1, 1, 0, 0, 0, 0, ...</td>\n",
       "      <td>[1951, 28641, 1073162]</td>\n",
       "      <td>[29471]</td>\n",
       "      <td>[-0.021537993, 0.044938304, -0.0009304776, 0.0...</td>\n",
       "      <td>[0.014717803, 0.11948516, 0.06547682, -0.00943...</td>\n",
       "    </tr>\n",
       "    <tr>\n",
       "      <th>19612</th>\n",
       "      <td>[0, 1, 0, 0, 0, 0, 1, 0, 0, 0, 0, 0, 0, 0, 0, ...</td>\n",
       "      <td>[78216, 146287, 35137]</td>\n",
       "      <td>[71506]</td>\n",
       "      <td>[-0.12019701, -0.0018522454, -0.0019567779, 0....</td>\n",
       "      <td>[0.062389, 0.04296044, 0.022625083, 0.1564795,...</td>\n",
       "    </tr>\n",
       "    <tr>\n",
       "      <th>13241</th>\n",
       "      <td>[0, 0, 0, 0, 0, 0, 0, 0, 0, 1, 1, 0, 0, 0, 0, ...</td>\n",
       "      <td>[2922, 78848, 45380]</td>\n",
       "      <td>[30129]</td>\n",
       "      <td>[0.006877668, 0.021917293, -0.017348241, 0.071...</td>\n",
       "      <td>[-0.0071391216, 0.038150106, -0.014431906, -0....</td>\n",
       "    </tr>\n",
       "    <tr>\n",
       "      <th>34760</th>\n",
       "      <td>[0, 0, 0, 0, 0, 0, 0, 0, 0, 1, 0, 0, 0, 0, 0, ...</td>\n",
       "      <td>[57674, 117525, 155621]</td>\n",
       "      <td>[130050]</td>\n",
       "      <td>[-0.11883843, 0.04829872, -0.0025480906, -0.01...</td>\n",
       "      <td>[0.0387425, 0.05333087, 0.0047938246, -0.03891...</td>\n",
       "    </tr>\n",
       "    <tr>\n",
       "      <th>20398</th>\n",
       "      <td>[0, 0, 0, 0, 0, 0, 1, 0, 0, 0, 0, 0, 0, 0, 0, ...</td>\n",
       "      <td>[18050, 587823, 110014]</td>\n",
       "      <td>[57206]</td>\n",
       "      <td>[-0.002296721, -0.051290013, 0.046981238, 0.00...</td>\n",
       "      <td>[-0.063400775, -0.02024621, -0.010359486, 0.07...</td>\n",
       "    </tr>\n",
       "  </tbody>\n",
       "</table>\n",
       "<p>100 rows × 5 columns</p>\n",
       "</div>"
      ],
      "text/plain": [
       "                                                  genres  \\\n",
       "27289  [0, 0, 0, 1, 0, 0, 1, 1, 0, 0, 0, 0, 0, 0, 0, ...   \n",
       "33871  [0, 1, 0, 1, 0, 0, 0, 1, 0, 0, 0, 0, 0, 0, 0, ...   \n",
       "35659  [0, 0, 0, 0, 0, 1, 1, 0, 1, 0, 1, 0, 0, 1, 0, ...   \n",
       "15935  [0, 0, 0, 0, 0, 0, 1, 0, 0, 0, 0, 0, 0, 1, 0, ...   \n",
       "14870  [0, 1, 0, 0, 1, 1, 0, 0, 0, 0, 0, 0, 0, 0, 0, ...   \n",
       "...                                                  ...   \n",
       "14595  [0, 0, 0, 0, 0, 0, 0, 0, 0, 1, 1, 0, 0, 0, 0, ...   \n",
       "19612  [0, 1, 0, 0, 0, 0, 1, 0, 0, 0, 0, 0, 0, 0, 0, ...   \n",
       "13241  [0, 0, 0, 0, 0, 0, 0, 0, 0, 1, 1, 0, 0, 0, 0, ...   \n",
       "34760  [0, 0, 0, 0, 0, 0, 0, 0, 0, 1, 0, 0, 0, 0, 0, ...   \n",
       "20398  [0, 0, 0, 0, 0, 0, 1, 0, 0, 0, 0, 0, 0, 0, 0, ...   \n",
       "\n",
       "                            cast      crew  \\\n",
       "27289      [13578, 10160, 34981]   [15705]   \n",
       "33871  [1238990, 17124, 1299249]  [583175]   \n",
       "35659    [79455, 138554, 128479]  [565681]   \n",
       "15935       [16896, 14500, 8231]   [67451]   \n",
       "14870       [19536, 40462, 5657]   [16837]   \n",
       "...                          ...       ...   \n",
       "14595     [1951, 28641, 1073162]   [29471]   \n",
       "19612     [78216, 146287, 35137]   [71506]   \n",
       "13241       [2922, 78848, 45380]   [30129]   \n",
       "34760    [57674, 117525, 155621]  [130050]   \n",
       "20398    [18050, 587823, 110014]   [57206]   \n",
       "\n",
       "                                      keywords_embedding  \\\n",
       "27289  [-0.0012443794, 0.05501268, 0.01243257, 0.0286...   \n",
       "33871  [-0.11883843, 0.04829872, -0.0025480906, -0.01...   \n",
       "35659  [-0.010180261, 0.037788138, -0.04850083, -0.04...   \n",
       "15935  [-0.010666075, 0.048292287, -0.038215708, 0.08...   \n",
       "14870  [-0.018039033, -0.06284508, 0.0760691, 0.03363...   \n",
       "...                                                  ...   \n",
       "14595  [-0.021537993, 0.044938304, -0.0009304776, 0.0...   \n",
       "19612  [-0.12019701, -0.0018522454, -0.0019567779, 0....   \n",
       "13241  [0.006877668, 0.021917293, -0.017348241, 0.071...   \n",
       "34760  [-0.11883843, 0.04829872, -0.0025480906, -0.01...   \n",
       "20398  [-0.002296721, -0.051290013, 0.046981238, 0.00...   \n",
       "\n",
       "                                      overview_embedding  \n",
       "27289  [0.006677093, -0.054407287, -0.05573156, 0.029...  \n",
       "33871  [-0.076529264, 0.111708134, -0.050451986, 0.02...  \n",
       "35659  [-0.07389996, 0.034996036, -0.07015445, 0.0639...  \n",
       "15935  [0.049407076, 0.023529641, -0.029362736, 0.089...  \n",
       "14870  [-0.032726604, 0.0119959265, 0.020066652, -0.0...  \n",
       "...                                                  ...  \n",
       "14595  [0.014717803, 0.11948516, 0.06547682, -0.00943...  \n",
       "19612  [0.062389, 0.04296044, 0.022625083, 0.1564795,...  \n",
       "13241  [-0.0071391216, 0.038150106, -0.014431906, -0....  \n",
       "34760  [0.0387425, 0.05333087, 0.0047938246, -0.03891...  \n",
       "20398  [-0.063400775, -0.02024621, -0.010359486, 0.07...  \n",
       "\n",
       "[100 rows x 5 columns]"
      ]
     },
     "execution_count": 546,
     "metadata": {},
     "output_type": "execute_result"
    }
   ],
   "source": [
    "movie_latent_datas = get_movie_latent_vector(3, df.sample(100))\n",
    "movie_latent_datas"
   ]
  },
  {
   "cell_type": "markdown",
   "id": "0ba95571-baff-40d5-b7d7-4be7b288c821",
   "metadata": {},
   "source": [
    "## Merge Datasets"
   ]
  },
  {
   "cell_type": "code",
   "execution_count": 471,
   "id": "6438be48-a8a5-4e10-855d-91e22bc14b73",
   "metadata": {},
   "outputs": [],
   "source": [
    "df = pd.merge(md, credits).merge(keywords)"
   ]
  },
  {
   "cell_type": "code",
   "execution_count": null,
   "id": "770c7eb7-b545-41ca-9255-5c16624cbaf6",
   "metadata": {},
   "outputs": [],
   "source": []
  },
  {
   "cell_type": "code",
   "execution_count": null,
   "id": "d093d104-b9d7-4a89-98d4-9b2a945d1e2e",
   "metadata": {},
   "outputs": [],
   "source": []
  },
  {
   "cell_type": "markdown",
   "id": "44dd68b9-3c53-4315-8507-9acb2f3b53f9",
   "metadata": {},
   "source": [
    "## Get Similarities"
   ]
  },
  {
   "cell_type": "markdown",
   "id": "f44d9770-7704-4baf-a131-57862065ebdd",
   "metadata": {},
   "source": [
    "### Genres Similarity"
   ]
  },
  {
   "cell_type": "code",
   "execution_count": 534,
   "id": "365baadc-c253-4dec-a49a-a9cbd9613d52",
   "metadata": {},
   "outputs": [],
   "source": [
    "genres1 = np.expand_dims(movie_latent_datas.iloc[5, 0], axis=0)\n",
    "genres2 = np.expand_dims(movie_latent_datas.iloc[6, 0], axis=0)"
   ]
  },
  {
   "cell_type": "code",
   "execution_count": 536,
   "id": "2c164526-66d1-4eb4-8479-65c58068a4d3",
   "metadata": {},
   "outputs": [
    {
     "data": {
      "text/plain": [
       "array([[0.5]])"
      ]
     },
     "execution_count": 536,
     "metadata": {},
     "output_type": "execute_result"
    }
   ],
   "source": [
    "cosine_similarity(genres1, genres2)"
   ]
  },
  {
   "cell_type": "markdown",
   "id": "ba6523cb-8e06-464a-8d5c-313c402d99e1",
   "metadata": {},
   "source": [
    "### Cast Similarity"
   ]
  },
  {
   "cell_type": "code",
   "execution_count": 572,
   "id": "38132cd1-3caa-419b-a474-8c77fa5a3a82",
   "metadata": {},
   "outputs": [],
   "source": [
    "cast1 = movie_latent_datas.loc[26318, 'cast']\n",
    "cast2 = movie_latent_datas.loc[15888, 'cast']"
   ]
  },
  {
   "cell_type": "code",
   "execution_count": 603,
   "id": "7db50405-322f-42f0-9a05-1da117967c76",
   "metadata": {},
   "outputs": [],
   "source": [
    "def jaccard_similarity(list1, list2):\n",
    "    s1 = set(list1)\n",
    "    s2 = set(list2)\n",
    "\n",
    "    # Remove 0 IDS, because they aren't valid\n",
    "    intersection = s1.intersection(s2) - {0}\n",
    "    \n",
    "    return float(len(intersection) / len(s1.union(s2)))"
   ]
  },
  {
   "cell_type": "code",
   "execution_count": 605,
   "id": "752cc903-fbb4-4df3-ab54-c3338d67e844",
   "metadata": {},
   "outputs": [
    {
     "data": {
      "text/plain": [
       "0.2"
      ]
     },
     "execution_count": 605,
     "metadata": {},
     "output_type": "execute_result"
    }
   ],
   "source": [
    "jaccard_similarity(cast1, cast2)"
   ]
  },
  {
   "cell_type": "markdown",
   "id": "bc59ed6d-6fc7-4301-858e-1edd31a4280a",
   "metadata": {},
   "source": [
    "### Directors Similarity"
   ]
  },
  {
   "cell_type": "code",
   "execution_count": 613,
   "id": "bdd37492-ad1a-438b-8e75-3dc612de3e8d",
   "metadata": {},
   "outputs": [],
   "source": [
    "crew1 = movie_latent_datas.loc[35198, 'crew']\n",
    "crew2 = movie_latent_datas.loc[23906, 'crew']"
   ]
  },
  {
   "cell_type": "code",
   "execution_count": 615,
   "id": "12996e65-8880-4b12-8169-3aa36794a6b1",
   "metadata": {},
   "outputs": [
    {
     "data": {
      "text/plain": [
       "([80570], [80570])"
      ]
     },
     "execution_count": 615,
     "metadata": {},
     "output_type": "execute_result"
    }
   ],
   "source": [
    "crew1, crew2"
   ]
  },
  {
   "cell_type": "code",
   "execution_count": 617,
   "id": "4c17e110-d4a7-40dc-bbe4-75ddf01ea488",
   "metadata": {},
   "outputs": [
    {
     "data": {
      "text/plain": [
       "1.0"
      ]
     },
     "execution_count": 617,
     "metadata": {},
     "output_type": "execute_result"
    }
   ],
   "source": [
    "jaccard_similarity(crew1, crew2)"
   ]
  },
  {
   "cell_type": "markdown",
   "id": "bef271f6-c572-42f1-9c55-7cb398074a4a",
   "metadata": {},
   "source": [
    "### Keywords Similarity"
   ]
  },
  {
   "cell_type": "code",
   "execution_count": 626,
   "id": "8cd8b20c-3643-4890-9ff9-fcbf6fc81925",
   "metadata": {},
   "outputs": [],
   "source": [
    "keyword1 = np.expand_dims(movie_latent_datas.iloc[0, 3], axis=0)\n",
    "keyword2 = np.expand_dims(movie_latent_datas.iloc[1, 3], axis=0)"
   ]
  },
  {
   "cell_type": "code",
   "execution_count": 628,
   "id": "9c712347-f792-4e14-ac9a-f68c4a56ebbc",
   "metadata": {},
   "outputs": [
    {
     "data": {
      "text/plain": [
       "array([[0.18156236]], dtype=float32)"
      ]
     },
     "execution_count": 628,
     "metadata": {},
     "output_type": "execute_result"
    }
   ],
   "source": [
    "cosine_similarity(keyword1, keyword2)"
   ]
  },
  {
   "cell_type": "markdown",
   "id": "5d75a481-bd85-4de6-ab52-ce94f60c12bb",
   "metadata": {},
   "source": [
    "### Overview Similarity"
   ]
  },
  {
   "cell_type": "code",
   "execution_count": 632,
   "id": "e99f6c68-a02c-4ce3-85dd-406e4bddcdaa",
   "metadata": {},
   "outputs": [],
   "source": [
    "overview1 = np.expand_dims(movie_latent_datas.iloc[0, 4], axis=0)\n",
    "overview2 = np.expand_dims(movie_latent_datas.iloc[1, 4], axis=0)"
   ]
  },
  {
   "cell_type": "code",
   "execution_count": 634,
   "id": "250fa770-7aa8-402c-9b78-e1721fa02507",
   "metadata": {},
   "outputs": [
    {
     "data": {
      "text/plain": [
       "array([[0.27793163]], dtype=float32)"
      ]
     },
     "execution_count": 634,
     "metadata": {},
     "output_type": "execute_result"
    }
   ],
   "source": [
    "cosine_similarity(overview1, overview2)"
   ]
  },
  {
   "cell_type": "markdown",
   "id": "1e19a1b3-c43c-4697-aff7-3d1ab67fa469",
   "metadata": {},
   "source": [
    "## All similarities together"
   ]
  },
  {
   "cell_type": "code",
   "execution_count": 816,
   "id": "c0032347-241e-4e97-bb94-1c970303d34d",
   "metadata": {},
   "outputs": [],
   "source": [
    "def jaccard_similarity(list1, list2):\n",
    "    s1 = set(list1)\n",
    "    s2 = set(list2)\n",
    "\n",
    "    # Remove 0 IDS, because they aren't valid\n",
    "    intersection = s1.intersection(s2) - {0}\n",
    "    \n",
    "    return float(len(intersection) / len(s1.union(s2)))\n",
    "\n",
    "def get_similarity(row1, row2):\n",
    "    # Genres\n",
    "    genres1 = np.expand_dims(row1['genres'], axis=0)\n",
    "    genres2 = np.expand_dims(row2['genres'], axis=0)\n",
    "    genres_similarity = cosine_similarity(genres1, genres2)[0, 0]\n",
    "\n",
    "    # Cast\n",
    "    cast1 = row1['cast']\n",
    "    cast2 = row2['cast']   \n",
    "    cast_similarity = jaccard_similarity(cast1, cast2)\n",
    "        \n",
    "    # Crew\n",
    "    crew1 = row1['crew']\n",
    "    crew2 = row2['crew']\n",
    "    crew_similarity = jaccard_similarity(crew1, crew2)\n",
    "\n",
    "    # Keyword\n",
    "    keyword1 = np.expand_dims(row1['keywords_embedding'], axis=0)\n",
    "    keyword2 = np.expand_dims(row2['keywords_embedding'], axis=0)\n",
    "    keyword_similarity = cosine_similarity(keyword1, keyword2)[0, 0]\n",
    "\n",
    "    # Overview\n",
    "    overview1 = np.expand_dims(row1['overview_embedding'], axis=0)\n",
    "    overview2 = np.expand_dims(row2['overview_embedding'], axis=0)\n",
    "    overview_similarity = cosine_similarity(overview1, overview2)[0, 0]\n",
    "\n",
    "    # Weights:\n",
    "    genre_w = 0.25\n",
    "    cast_w = 0.10\n",
    "    crew_w = 0.10\n",
    "    keyword_w = 0.20\n",
    "    overview_w = 0.35\n",
    "\n",
    "    final_similarity = genre_w * genres_similarity + cast_w * cast_similarity + crew_w * crew_similarity + keyword_w * keyword_similarity + overview_w * overview_similarity\n",
    "\n",
    "    return final_similarity"
   ]
  },
  {
   "cell_type": "code",
   "execution_count": 741,
   "id": "df78d42f-ad79-4698-b85f-ddca4974046a",
   "metadata": {},
   "outputs": [],
   "source": [
    "def create_similarity_matrix(latent_data):\n",
    "    # Get the number of items\n",
    "    n_items = len(latent_data)\n",
    "    \n",
    "    # Initialize the similarity matrix\n",
    "    similarity_matrix = np.zeros((n_items, n_items))\n",
    "    \n",
    "    # Compute similarities\n",
    "    for i in range(n_items):\n",
    "        for j in range(i, n_items):  # Use symmetry to reduce computation\n",
    "            similarity = get_similarity(latent_data.iloc[i], latent_data.iloc[j])\n",
    "            similarity_matrix[i, j] = similarity\n",
    "            similarity_matrix[j, i] = similarity  # Symmetric matrix\n",
    "    \n",
    "    return similarity_matrix"
   ]
  },
  {
   "cell_type": "code",
   "execution_count": null,
   "id": "6b2192ab-fd64-4e38-b339-20d3afb5ed0c",
   "metadata": {
    "scrolled": true
   },
   "outputs": [],
   "source": []
  },
  {
   "cell_type": "code",
   "execution_count": 744,
   "id": "bb01056d-9724-49d4-b6cd-b2c2c32b2b26",
   "metadata": {},
   "outputs": [],
   "source": [
    "def get_recommendations(movie_identifier, similarity_matrix, movie_dataframe, top_k=5):\n",
    "    # Ensure movie_dataframe has the same index as the similarity matrix\n",
    "    movie_dataframe = movie_dataframe.reset_index(drop=True)\n",
    "    \n",
    "    # Find the movie index\n",
    "    if isinstance(movie_identifier, str):\n",
    "        if 'title' not in movie_dataframe.columns:\n",
    "            raise ValueError(\"Movie DataFrame must contain a 'title' column.\")\n",
    "        try:\n",
    "            movie_idx = movie_dataframe[movie_dataframe['title'] == movie_identifier].index[0]\n",
    "        except IndexError:\n",
    "            raise ValueError(f\"Movie title '{movie_identifier}' not found in the dataset.\")\n",
    "    else:\n",
    "        movie_idx = movie_identifier\n",
    "        if movie_idx >= len(movie_dataframe) or movie_idx < 0:\n",
    "            raise ValueError(f\"Invalid movie index: {movie_idx}\")\n",
    "    \n",
    "    # Get similarity scores for the movie\n",
    "    sim_scores = similarity_matrix[movie_idx]\n",
    "    \n",
    "    # Get indices of top-k similar movies (excluding the movie itself)\n",
    "    # Use argsort to sort indices by similarity score in descending order\n",
    "    top_indices = np.argsort(sim_scores)[::-1][1:top_k+1]\n",
    "    top_scores = sim_scores[top_indices]\n",
    "    \n",
    "    # Get movie titles and their similarity scores\n",
    "    recommendations = []\n",
    "    for idx, score in zip(top_indices, top_scores):\n",
    "        movie_title = movie_dataframe.iloc[idx]['title']\n",
    "        recommendations.append((movie_title, score))\n",
    "    \n",
    "    return recommendations"
   ]
  },
  {
   "cell_type": "code",
   "execution_count": 826,
   "id": "6ea845ea-b15d-4dc7-bdb9-753699b84e53",
   "metadata": {},
   "outputs": [],
   "source": [
    "real_world_df = df[df['vote_count'] > 425]\n",
    "movie_dataframe = real_world_df\n",
    "movie_latent_datas = get_movie_latent_vector(5, movie_dataframe)\n",
    "sim_matrix = create_similarity_matrix(movie_latent_datas)"
   ]
  },
  {
   "cell_type": "code",
   "execution_count": 828,
   "id": "502276cc-cbb2-4ec8-8628-870297f161b5",
   "metadata": {},
   "outputs": [],
   "source": [
    "movie_latent_datas.to_csv('movie_latent_datas.csv', index=False)"
   ]
  },
  {
   "cell_type": "code",
   "execution_count": 834,
   "id": "811dfb1b-3277-47fb-a118-13e95a650e15",
   "metadata": {},
   "outputs": [
    {
     "name": "stdout",
     "output_type": "stream",
     "text": [
      "Recommendations for 'The Dark Knight':\n",
      "- The Dark Knight Rises (Similarity: 0.7764)\n",
      "- Batman Begins (Similarity: 0.7090)\n",
      "- Batman: The Killing Joke (Similarity: 0.5486)\n",
      "- Batman & Robin (Similarity: 0.4888)\n",
      "- Brick Mansions (Similarity: 0.4843)\n",
      "- Training Day (Similarity: 0.4704)\n",
      "- Batman Forever (Similarity: 0.4655)\n",
      "- American Psycho (Similarity: 0.4504)\n",
      "- Heat (Similarity: 0.4441)\n",
      "- Dead Man Down (Similarity: 0.4423)\n"
     ]
    }
   ],
   "source": [
    "movie_title = \"The Dark Knight\"\n",
    "try:\n",
    "    recommendations = get_recommendations(movie_title, sim_matrix, movie_dataframe, top_k=10)\n",
    "    print(f\"Recommendations for '{movie_title}':\")\n",
    "    for title, score in recommendations:\n",
    "        print(f\"- {title} (Similarity: {score:.4f})\")\n",
    "except ValueError as e:\n",
    "    print(e)"
   ]
  },
  {
   "cell_type": "code",
   "execution_count": 794,
   "id": "7ba92754-0443-42cc-b72e-88c0a70df56f",
   "metadata": {},
   "outputs": [],
   "source": [
    "real_world_df = df[df['vote_count'] > 425]"
   ]
  },
  {
   "cell_type": "code",
   "execution_count": 814,
   "id": "a73bb5f6-ac65-47af-8789-9706b902c7ad",
   "metadata": {},
   "outputs": [
    {
     "data": {
      "text/html": [
       "<div>\n",
       "<style scoped>\n",
       "    .dataframe tbody tr th:only-of-type {\n",
       "        vertical-align: middle;\n",
       "    }\n",
       "\n",
       "    .dataframe tbody tr th {\n",
       "        vertical-align: top;\n",
       "    }\n",
       "\n",
       "    .dataframe thead th {\n",
       "        text-align: right;\n",
       "    }\n",
       "</style>\n",
       "<table border=\"1\" class=\"dataframe\">\n",
       "  <thead>\n",
       "    <tr style=\"text-align: right;\">\n",
       "      <th></th>\n",
       "      <th>adult</th>\n",
       "      <th>belongs_to_collection</th>\n",
       "      <th>budget</th>\n",
       "      <th>genres</th>\n",
       "      <th>homepage</th>\n",
       "      <th>id</th>\n",
       "      <th>imdb_id</th>\n",
       "      <th>original_language</th>\n",
       "      <th>original_title</th>\n",
       "      <th>overview</th>\n",
       "      <th>...</th>\n",
       "      <th>spoken_languages</th>\n",
       "      <th>status</th>\n",
       "      <th>tagline</th>\n",
       "      <th>title</th>\n",
       "      <th>video</th>\n",
       "      <th>vote_average</th>\n",
       "      <th>vote_count</th>\n",
       "      <th>cast</th>\n",
       "      <th>crew</th>\n",
       "      <th>keywords</th>\n",
       "    </tr>\n",
       "  </thead>\n",
       "  <tbody>\n",
       "    <tr>\n",
       "      <th>0</th>\n",
       "      <td>False</td>\n",
       "      <td>[]</td>\n",
       "      <td>30000000.0</td>\n",
       "      <td>[Animation, Comedy, Family]</td>\n",
       "      <td>http://toystory.disney.com/toy-story</td>\n",
       "      <td>862</td>\n",
       "      <td>tt0114709</td>\n",
       "      <td>en</td>\n",
       "      <td>Toy Story</td>\n",
       "      <td>Led by Woody, Andy's toys live happily in his ...</td>\n",
       "      <td>...</td>\n",
       "      <td>[English]</td>\n",
       "      <td>Released</td>\n",
       "      <td>NaN</td>\n",
       "      <td>Toy Story</td>\n",
       "      <td>False</td>\n",
       "      <td>7.7</td>\n",
       "      <td>5415.0</td>\n",
       "      <td>[{'cast_id': 14, 'character': 'Woody (voice)',...</td>\n",
       "      <td>[{'credit_id': '52fe4284c3a36847f8024f49', 'de...</td>\n",
       "      <td>[{'id': 931, 'name': 'jealousy'}, {'id': 4290,...</td>\n",
       "    </tr>\n",
       "    <tr>\n",
       "      <th>1</th>\n",
       "      <td>False</td>\n",
       "      <td>[]</td>\n",
       "      <td>65000000.0</td>\n",
       "      <td>[Adventure, Fantasy, Family]</td>\n",
       "      <td>NaN</td>\n",
       "      <td>8844</td>\n",
       "      <td>tt0113497</td>\n",
       "      <td>en</td>\n",
       "      <td>Jumanji</td>\n",
       "      <td>When siblings Judy and Peter discover an encha...</td>\n",
       "      <td>...</td>\n",
       "      <td>[English, Français]</td>\n",
       "      <td>Released</td>\n",
       "      <td>Roll the dice and unleash the excitement!</td>\n",
       "      <td>Jumanji</td>\n",
       "      <td>False</td>\n",
       "      <td>6.9</td>\n",
       "      <td>2413.0</td>\n",
       "      <td>[{'cast_id': 1, 'character': 'Alan Parrish', '...</td>\n",
       "      <td>[{'credit_id': '52fe44bfc3a36847f80a7cd1', 'de...</td>\n",
       "      <td>[{'id': 10090, 'name': 'board game'}, {'id': 1...</td>\n",
       "    </tr>\n",
       "    <tr>\n",
       "      <th>5</th>\n",
       "      <td>False</td>\n",
       "      <td>[]</td>\n",
       "      <td>60000000.0</td>\n",
       "      <td>[Action, Crime, Drama, Thriller]</td>\n",
       "      <td>NaN</td>\n",
       "      <td>949</td>\n",
       "      <td>tt0113277</td>\n",
       "      <td>en</td>\n",
       "      <td>Heat</td>\n",
       "      <td>Obsessive master thief, Neil McCauley leads a ...</td>\n",
       "      <td>...</td>\n",
       "      <td>[English, Español]</td>\n",
       "      <td>Released</td>\n",
       "      <td>A Los Angeles Crime Saga</td>\n",
       "      <td>Heat</td>\n",
       "      <td>False</td>\n",
       "      <td>7.7</td>\n",
       "      <td>1886.0</td>\n",
       "      <td>[{'cast_id': 25, 'character': 'Lt. Vincent Han...</td>\n",
       "      <td>[{'credit_id': '52fe4292c3a36847f802916d', 'de...</td>\n",
       "      <td>[{'id': 642, 'name': 'robbery'}, {'id': 703, '...</td>\n",
       "    </tr>\n",
       "    <tr>\n",
       "      <th>9</th>\n",
       "      <td>False</td>\n",
       "      <td>[]</td>\n",
       "      <td>58000000.0</td>\n",
       "      <td>[Adventure, Action, Thriller]</td>\n",
       "      <td>http://www.mgm.com/view/movie/757/Goldeneye/</td>\n",
       "      <td>710</td>\n",
       "      <td>tt0113189</td>\n",
       "      <td>en</td>\n",
       "      <td>GoldenEye</td>\n",
       "      <td>James Bond must unmask the mysterious head of ...</td>\n",
       "      <td>...</td>\n",
       "      <td>[English, Pусский, Español]</td>\n",
       "      <td>Released</td>\n",
       "      <td>No limits. No fears. No substitutes.</td>\n",
       "      <td>GoldenEye</td>\n",
       "      <td>False</td>\n",
       "      <td>6.6</td>\n",
       "      <td>1194.0</td>\n",
       "      <td>[{'cast_id': 1, 'character': 'James Bond', 'cr...</td>\n",
       "      <td>[{'credit_id': '52fe426ec3a36847f801e14b', 'de...</td>\n",
       "      <td>[{'id': 701, 'name': 'cuba'}, {'id': 769, 'nam...</td>\n",
       "    </tr>\n",
       "    <tr>\n",
       "      <th>15</th>\n",
       "      <td>False</td>\n",
       "      <td>[]</td>\n",
       "      <td>52000000.0</td>\n",
       "      <td>[Drama, Crime]</td>\n",
       "      <td>NaN</td>\n",
       "      <td>524</td>\n",
       "      <td>tt0112641</td>\n",
       "      <td>en</td>\n",
       "      <td>Casino</td>\n",
       "      <td>The life of the gambling paradise – Las Vegas ...</td>\n",
       "      <td>...</td>\n",
       "      <td>[English]</td>\n",
       "      <td>Released</td>\n",
       "      <td>No one stays at the top forever.</td>\n",
       "      <td>Casino</td>\n",
       "      <td>False</td>\n",
       "      <td>7.8</td>\n",
       "      <td>1343.0</td>\n",
       "      <td>[{'cast_id': 4, 'character': 'Sam 'Ace' Rothst...</td>\n",
       "      <td>[{'credit_id': '52fe424dc3a36847f80139cd', 'de...</td>\n",
       "      <td>[{'id': 383, 'name': 'poker'}, {'id': 726, 'na...</td>\n",
       "    </tr>\n",
       "    <tr>\n",
       "      <th>...</th>\n",
       "      <td>...</td>\n",
       "      <td>...</td>\n",
       "      <td>...</td>\n",
       "      <td>...</td>\n",
       "      <td>...</td>\n",
       "      <td>...</td>\n",
       "      <td>...</td>\n",
       "      <td>...</td>\n",
       "      <td>...</td>\n",
       "      <td>...</td>\n",
       "      <td>...</td>\n",
       "      <td>...</td>\n",
       "      <td>...</td>\n",
       "      <td>...</td>\n",
       "      <td>...</td>\n",
       "      <td>...</td>\n",
       "      <td>...</td>\n",
       "      <td>...</td>\n",
       "      <td>...</td>\n",
       "      <td>...</td>\n",
       "      <td>...</td>\n",
       "    </tr>\n",
       "    <tr>\n",
       "      <th>45777</th>\n",
       "      <td>False</td>\n",
       "      <td>[]</td>\n",
       "      <td>0.0</td>\n",
       "      <td>[Science Fiction, Thriller]</td>\n",
       "      <td>NaN</td>\n",
       "      <td>406990</td>\n",
       "      <td>tt1536537</td>\n",
       "      <td>en</td>\n",
       "      <td>What Happened to Monday</td>\n",
       "      <td>In a world where families are limited to one c...</td>\n",
       "      <td>...</td>\n",
       "      <td>[English]</td>\n",
       "      <td>Released</td>\n",
       "      <td>Seven sisters. One identity.</td>\n",
       "      <td>What Happened to Monday</td>\n",
       "      <td>False</td>\n",
       "      <td>7.3</td>\n",
       "      <td>598.0</td>\n",
       "      <td>[{'cast_id': 0, 'character': 'Monday / Tuesday...</td>\n",
       "      <td>[{'credit_id': '5814111e92514152d502abf9', 'de...</td>\n",
       "      <td>[{'id': 3713, 'name': 'chase'}, {'id': 3864, '...</td>\n",
       "    </tr>\n",
       "    <tr>\n",
       "      <th>45785</th>\n",
       "      <td>False</td>\n",
       "      <td>[]</td>\n",
       "      <td>30000000.0</td>\n",
       "      <td>[Action, Thriller]</td>\n",
       "      <td>http://www.atomicblonde.com/</td>\n",
       "      <td>341013</td>\n",
       "      <td>tt2406566</td>\n",
       "      <td>en</td>\n",
       "      <td>Atomic Blonde</td>\n",
       "      <td>An undercover MI6 agent is sent to Berlin duri...</td>\n",
       "      <td>...</td>\n",
       "      <td>[svenska, English, Deutsch, Pусский]</td>\n",
       "      <td>Released</td>\n",
       "      <td>NaN</td>\n",
       "      <td>Atomic Blonde</td>\n",
       "      <td>False</td>\n",
       "      <td>6.1</td>\n",
       "      <td>748.0</td>\n",
       "      <td>[{'cast_id': 0, 'character': 'Lorraine Brought...</td>\n",
       "      <td>[{'credit_id': '555da697925141757e0010d8', 'de...</td>\n",
       "      <td>[{'id': 220, 'name': 'berlin'}, {'id': 470, 'n...</td>\n",
       "    </tr>\n",
       "    <tr>\n",
       "      <th>45831</th>\n",
       "      <td>False</td>\n",
       "      <td>[]</td>\n",
       "      <td>100000000.0</td>\n",
       "      <td>[Action, Drama, History, Thriller, War]</td>\n",
       "      <td>http://www.dunkirkmovie.com/</td>\n",
       "      <td>374720</td>\n",
       "      <td>tt5013056</td>\n",
       "      <td>en</td>\n",
       "      <td>Dunkirk</td>\n",
       "      <td>The miraculous evacuation of Allied soldiers f...</td>\n",
       "      <td>...</td>\n",
       "      <td>[English, Français, Deutsch]</td>\n",
       "      <td>Released</td>\n",
       "      <td>The event that shaped our world</td>\n",
       "      <td>Dunkirk</td>\n",
       "      <td>False</td>\n",
       "      <td>7.5</td>\n",
       "      <td>2712.0</td>\n",
       "      <td>[{'cast_id': 56, 'character': 'Tommy', 'credit...</td>\n",
       "      <td>[{'credit_id': '598138b5925141519b008a5e', 'de...</td>\n",
       "      <td>[{'id': 254, 'name': 'france'}, {'id': 966, 'n...</td>\n",
       "    </tr>\n",
       "    <tr>\n",
       "      <th>46001</th>\n",
       "      <td>False</td>\n",
       "      <td>[]</td>\n",
       "      <td>260000000.0</td>\n",
       "      <td>[Action, Science Fiction, Thriller, Adventure]</td>\n",
       "      <td>http://www.transformersmovie.com/</td>\n",
       "      <td>335988</td>\n",
       "      <td>tt3371366</td>\n",
       "      <td>en</td>\n",
       "      <td>Transformers: The Last Knight</td>\n",
       "      <td>Autobots and Decepticons are at war, with huma...</td>\n",
       "      <td>...</td>\n",
       "      <td>[English]</td>\n",
       "      <td>Released</td>\n",
       "      <td>For one world to live, the other must die.</td>\n",
       "      <td>Transformers: The Last Knight</td>\n",
       "      <td>False</td>\n",
       "      <td>6.2</td>\n",
       "      <td>1440.0</td>\n",
       "      <td>[{'cast_id': 2, 'character': 'Cade Yeager', 'c...</td>\n",
       "      <td>[{'credit_id': '5553e38bc3a368208f000502', 'de...</td>\n",
       "      <td>[{'id': 10466, 'name': 'knight'}, {'id': 10607...</td>\n",
       "    </tr>\n",
       "    <tr>\n",
       "      <th>46173</th>\n",
       "      <td>False</td>\n",
       "      <td>[]</td>\n",
       "      <td>60000000.0</td>\n",
       "      <td>[Action, Western, Science Fiction, Fantasy, Ho...</td>\n",
       "      <td>http://thedarktower-movie.com</td>\n",
       "      <td>353491</td>\n",
       "      <td>tt1648190</td>\n",
       "      <td>en</td>\n",
       "      <td>The Dark Tower</td>\n",
       "      <td>The last Gunslinger, Roland Deschain, has been...</td>\n",
       "      <td>...</td>\n",
       "      <td>[English]</td>\n",
       "      <td>Released</td>\n",
       "      <td>There are other worlds than these</td>\n",
       "      <td>The Dark Tower</td>\n",
       "      <td>False</td>\n",
       "      <td>5.7</td>\n",
       "      <td>688.0</td>\n",
       "      <td>[{'cast_id': 9, 'character': 'Roland Deschain'...</td>\n",
       "      <td>[{'credit_id': '5912cf71c3a36864d40533b7', 'de...</td>\n",
       "      <td>[{'id': 75, 'name': 'gunslinger'}, {'id': 818,...</td>\n",
       "    </tr>\n",
       "  </tbody>\n",
       "</table>\n",
       "<p>2331 rows × 27 columns</p>\n",
       "</div>"
      ],
      "text/plain": [
       "       adult belongs_to_collection       budget  \\\n",
       "0      False                    []   30000000.0   \n",
       "1      False                    []   65000000.0   \n",
       "5      False                    []   60000000.0   \n",
       "9      False                    []   58000000.0   \n",
       "15     False                    []   52000000.0   \n",
       "...      ...                   ...          ...   \n",
       "45777  False                    []          0.0   \n",
       "45785  False                    []   30000000.0   \n",
       "45831  False                    []  100000000.0   \n",
       "46001  False                    []  260000000.0   \n",
       "46173  False                    []   60000000.0   \n",
       "\n",
       "                                                  genres  \\\n",
       "0                            [Animation, Comedy, Family]   \n",
       "1                           [Adventure, Fantasy, Family]   \n",
       "5                       [Action, Crime, Drama, Thriller]   \n",
       "9                          [Adventure, Action, Thriller]   \n",
       "15                                        [Drama, Crime]   \n",
       "...                                                  ...   \n",
       "45777                        [Science Fiction, Thriller]   \n",
       "45785                                 [Action, Thriller]   \n",
       "45831            [Action, Drama, History, Thriller, War]   \n",
       "46001     [Action, Science Fiction, Thriller, Adventure]   \n",
       "46173  [Action, Western, Science Fiction, Fantasy, Ho...   \n",
       "\n",
       "                                           homepage      id    imdb_id  \\\n",
       "0              http://toystory.disney.com/toy-story     862  tt0114709   \n",
       "1                                               NaN    8844  tt0113497   \n",
       "5                                               NaN     949  tt0113277   \n",
       "9      http://www.mgm.com/view/movie/757/Goldeneye/     710  tt0113189   \n",
       "15                                              NaN     524  tt0112641   \n",
       "...                                             ...     ...        ...   \n",
       "45777                                           NaN  406990  tt1536537   \n",
       "45785                  http://www.atomicblonde.com/  341013  tt2406566   \n",
       "45831                  http://www.dunkirkmovie.com/  374720  tt5013056   \n",
       "46001             http://www.transformersmovie.com/  335988  tt3371366   \n",
       "46173                 http://thedarktower-movie.com  353491  tt1648190   \n",
       "\n",
       "      original_language                 original_title  \\\n",
       "0                    en                      Toy Story   \n",
       "1                    en                        Jumanji   \n",
       "5                    en                           Heat   \n",
       "9                    en                      GoldenEye   \n",
       "15                   en                         Casino   \n",
       "...                 ...                            ...   \n",
       "45777                en        What Happened to Monday   \n",
       "45785                en                  Atomic Blonde   \n",
       "45831                en                        Dunkirk   \n",
       "46001                en  Transformers: The Last Knight   \n",
       "46173                en                 The Dark Tower   \n",
       "\n",
       "                                                overview  ...  \\\n",
       "0      Led by Woody, Andy's toys live happily in his ...  ...   \n",
       "1      When siblings Judy and Peter discover an encha...  ...   \n",
       "5      Obsessive master thief, Neil McCauley leads a ...  ...   \n",
       "9      James Bond must unmask the mysterious head of ...  ...   \n",
       "15     The life of the gambling paradise – Las Vegas ...  ...   \n",
       "...                                                  ...  ...   \n",
       "45777  In a world where families are limited to one c...  ...   \n",
       "45785  An undercover MI6 agent is sent to Berlin duri...  ...   \n",
       "45831  The miraculous evacuation of Allied soldiers f...  ...   \n",
       "46001  Autobots and Decepticons are at war, with huma...  ...   \n",
       "46173  The last Gunslinger, Roland Deschain, has been...  ...   \n",
       "\n",
       "                           spoken_languages    status  \\\n",
       "0                                 [English]  Released   \n",
       "1                       [English, Français]  Released   \n",
       "5                        [English, Español]  Released   \n",
       "9               [English, Pусский, Español]  Released   \n",
       "15                                [English]  Released   \n",
       "...                                     ...       ...   \n",
       "45777                             [English]  Released   \n",
       "45785  [svenska, English, Deutsch, Pусский]  Released   \n",
       "45831          [English, Français, Deutsch]  Released   \n",
       "46001                             [English]  Released   \n",
       "46173                             [English]  Released   \n",
       "\n",
       "                                          tagline  \\\n",
       "0                                             NaN   \n",
       "1       Roll the dice and unleash the excitement!   \n",
       "5                        A Los Angeles Crime Saga   \n",
       "9            No limits. No fears. No substitutes.   \n",
       "15               No one stays at the top forever.   \n",
       "...                                           ...   \n",
       "45777                Seven sisters. One identity.   \n",
       "45785                                         NaN   \n",
       "45831             The event that shaped our world   \n",
       "46001  For one world to live, the other must die.   \n",
       "46173           There are other worlds than these   \n",
       "\n",
       "                               title  video  vote_average  vote_count  \\\n",
       "0                          Toy Story  False           7.7      5415.0   \n",
       "1                            Jumanji  False           6.9      2413.0   \n",
       "5                               Heat  False           7.7      1886.0   \n",
       "9                          GoldenEye  False           6.6      1194.0   \n",
       "15                            Casino  False           7.8      1343.0   \n",
       "...                              ...    ...           ...         ...   \n",
       "45777        What Happened to Monday  False           7.3       598.0   \n",
       "45785                  Atomic Blonde  False           6.1       748.0   \n",
       "45831                        Dunkirk  False           7.5      2712.0   \n",
       "46001  Transformers: The Last Knight  False           6.2      1440.0   \n",
       "46173                 The Dark Tower  False           5.7       688.0   \n",
       "\n",
       "                                                    cast  \\\n",
       "0      [{'cast_id': 14, 'character': 'Woody (voice)',...   \n",
       "1      [{'cast_id': 1, 'character': 'Alan Parrish', '...   \n",
       "5      [{'cast_id': 25, 'character': 'Lt. Vincent Han...   \n",
       "9      [{'cast_id': 1, 'character': 'James Bond', 'cr...   \n",
       "15     [{'cast_id': 4, 'character': 'Sam 'Ace' Rothst...   \n",
       "...                                                  ...   \n",
       "45777  [{'cast_id': 0, 'character': 'Monday / Tuesday...   \n",
       "45785  [{'cast_id': 0, 'character': 'Lorraine Brought...   \n",
       "45831  [{'cast_id': 56, 'character': 'Tommy', 'credit...   \n",
       "46001  [{'cast_id': 2, 'character': 'Cade Yeager', 'c...   \n",
       "46173  [{'cast_id': 9, 'character': 'Roland Deschain'...   \n",
       "\n",
       "                                                    crew  \\\n",
       "0      [{'credit_id': '52fe4284c3a36847f8024f49', 'de...   \n",
       "1      [{'credit_id': '52fe44bfc3a36847f80a7cd1', 'de...   \n",
       "5      [{'credit_id': '52fe4292c3a36847f802916d', 'de...   \n",
       "9      [{'credit_id': '52fe426ec3a36847f801e14b', 'de...   \n",
       "15     [{'credit_id': '52fe424dc3a36847f80139cd', 'de...   \n",
       "...                                                  ...   \n",
       "45777  [{'credit_id': '5814111e92514152d502abf9', 'de...   \n",
       "45785  [{'credit_id': '555da697925141757e0010d8', 'de...   \n",
       "45831  [{'credit_id': '598138b5925141519b008a5e', 'de...   \n",
       "46001  [{'credit_id': '5553e38bc3a368208f000502', 'de...   \n",
       "46173  [{'credit_id': '5912cf71c3a36864d40533b7', 'de...   \n",
       "\n",
       "                                                keywords  \n",
       "0      [{'id': 931, 'name': 'jealousy'}, {'id': 4290,...  \n",
       "1      [{'id': 10090, 'name': 'board game'}, {'id': 1...  \n",
       "5      [{'id': 642, 'name': 'robbery'}, {'id': 703, '...  \n",
       "9      [{'id': 701, 'name': 'cuba'}, {'id': 769, 'nam...  \n",
       "15     [{'id': 383, 'name': 'poker'}, {'id': 726, 'na...  \n",
       "...                                                  ...  \n",
       "45777  [{'id': 3713, 'name': 'chase'}, {'id': 3864, '...  \n",
       "45785  [{'id': 220, 'name': 'berlin'}, {'id': 470, 'n...  \n",
       "45831  [{'id': 254, 'name': 'france'}, {'id': 966, 'n...  \n",
       "46001  [{'id': 10466, 'name': 'knight'}, {'id': 10607...  \n",
       "46173  [{'id': 75, 'name': 'gunslinger'}, {'id': 818,...  \n",
       "\n",
       "[2331 rows x 27 columns]"
      ]
     },
     "execution_count": 814,
     "metadata": {},
     "output_type": "execute_result"
    }
   ],
   "source": [
    "real_world_df"
   ]
  }
 ],
 "metadata": {
  "kernelspec": {
   "display_name": "Python 3 (ipykernel)",
   "language": "python",
   "name": "python3"
  },
  "language_info": {
   "codemirror_mode": {
    "name": "ipython",
    "version": 3
   },
   "file_extension": ".py",
   "mimetype": "text/x-python",
   "name": "python",
   "nbconvert_exporter": "python",
   "pygments_lexer": "ipython3",
   "version": "3.12.2"
  }
 },
 "nbformat": 4,
 "nbformat_minor": 5
}

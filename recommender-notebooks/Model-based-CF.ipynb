{
 "cells": [
  {
   "cell_type": "code",
   "execution_count": 1,
   "id": "8a2e1483-3bb9-4514-ad5a-dd767334ac42",
   "metadata": {},
   "outputs": [],
   "source": [
    "import pandas as pd\n",
    "import numpy as np\n",
    "from collections import Counter\n",
    "from surprise import Reader, SVD, Dataset, accuracy\n",
    "from surprise.model_selection import GridSearchCV, train_test_split, cross_validate\n",
    "from tqdm import tqdm\n",
    "import random, math, ast"
   ]
  },
  {
   "cell_type": "code",
   "execution_count": 2,
   "id": "ff965f88-1178-412a-bad5-94648781da42",
   "metadata": {},
   "outputs": [
    {
     "name": "stderr",
     "output_type": "stream",
     "text": [
      "/var/folders/wy/xyqwny610cb9ft3dhglx4jyc0000gn/T/ipykernel_9113/949808799.py:4: DtypeWarning: Columns (10) have mixed types. Specify dtype option on import or set low_memory=False.\n",
      "  md = pd.read_csv('../dataset/movies_metadata.csv')\n"
     ]
    }
   ],
   "source": [
    "credits = pd.read_csv('../dataset/credits.csv')\n",
    "keywords = pd.read_csv('../dataset/keywords.csv')\n",
    "links = pd.read_csv('../dataset/links_small.csv')\n",
    "md = pd.read_csv('../dataset/movies_metadata.csv')\n",
    "ratings = pd.read_csv('../dataset/ratings_small.csv')"
   ]
  },
  {
   "cell_type": "markdown",
   "id": "a2067450-eac3-48d4-a47b-219f79909a2f",
   "metadata": {},
   "source": [
    "## Use sample of movies:\n",
    "add also a custom user"
   ]
  },
  {
   "cell_type": "code",
   "execution_count": 4,
   "id": "4e08cf6e-f84d-4109-bbbd-18b560b1e006",
   "metadata": {},
   "outputs": [],
   "source": [
    "test_user = pd.DataFrame({'userId': [800,800,800,800,800,800,800], 'movieId': [372058, 550, 129, 101, 27205, 11976, 11052], 'rating': [5, 4.8, 5, 4.5, 5, 3.8 , 1], 'timestamp': ratings['timestamp'][:7].values})\n",
    "ratings = pd.concat((ratings, test_user))"
   ]
  },
  {
   "cell_type": "code",
   "execution_count": 5,
   "id": "6d494dc6-2866-4dc2-8b39-c5ab5c753cdb",
   "metadata": {},
   "outputs": [],
   "source": [
    "reader = Reader(rating_scale=(1, 5))\n",
    "\n",
    "data = Dataset.load_from_df(\n",
    "    ratings[['userId', 'movieId', 'rating']],\n",
    "    reader\n",
    ")"
   ]
  },
  {
   "cell_type": "code",
   "execution_count": 11,
   "id": "c0885823-ac7a-45e0-8862-cf1f68f5c5f0",
   "metadata": {},
   "outputs": [],
   "source": [
    "param_grid = {'n_epochs': [5, 10, 20, 40, 50, 100],\n",
    "              'lr_all': [0.03, 0.01, 0.007, 0.005, 0.003, 0.001, 0.0005, 0.0001]}\n",
    "\n",
    "gs = GridSearchCV(SVD,\n",
    "                  param_grid,\n",
    "                  measures=['rmse', 'mae'],\n",
    "                  cv=3,\n",
    "                  n_jobs=-1,\n",
    "                  joblib_verbose=True)"
   ]
  },
  {
   "cell_type": "code",
   "execution_count": 13,
   "id": "efb24c4c-435e-4403-a442-f1adf0aa8797",
   "metadata": {},
   "outputs": [
    {
     "name": "stderr",
     "output_type": "stream",
     "text": [
      "[Parallel(n_jobs=-1)]: Using backend LokyBackend with 8 concurrent workers.\n",
      "[Parallel(n_jobs=-1)]: Done  34 tasks      | elapsed:    2.8s\n",
      "[Parallel(n_jobs=-1)]: Done 144 out of 144 | elapsed:   19.3s finished\n"
     ]
    }
   ],
   "source": [
    "gs.fit(data)"
   ]
  },
  {
   "cell_type": "code",
   "execution_count": 15,
   "id": "f69388d1-4faa-458b-8038-f00ebce99bb3",
   "metadata": {},
   "outputs": [
    {
     "data": {
      "text/plain": [
       "0.9029267500680805"
      ]
     },
     "execution_count": 15,
     "metadata": {},
     "output_type": "execute_result"
    }
   ],
   "source": [
    "gs.best_score['rmse']"
   ]
  },
  {
   "cell_type": "code",
   "execution_count": 17,
   "id": "0d03825d-fece-428a-b638-d9c5b65e0439",
   "metadata": {},
   "outputs": [
    {
     "data": {
      "text/plain": [
       "{'n_epochs': 20, 'lr_all': 0.005}"
      ]
     },
     "execution_count": 17,
     "metadata": {},
     "output_type": "execute_result"
    }
   ],
   "source": [
    "gs.best_params['rmse']"
   ]
  },
  {
   "cell_type": "code",
   "execution_count": 19,
   "id": "86001198-2ee1-497a-9b24-181c1b57b011",
   "metadata": {},
   "outputs": [
    {
     "data": {
      "text/plain": [
       "<surprise.prediction_algorithms.matrix_factorization.SVD at 0x17d6b2e10>"
      ]
     },
     "execution_count": 19,
     "metadata": {},
     "output_type": "execute_result"
    }
   ],
   "source": [
    "svd_model = SVD(**gs.best_params['rmse'])\n",
    "data = data.build_full_trainset()\n",
    "svd_model.fit(data)"
   ]
  },
  {
   "cell_type": "code",
   "execution_count": 21,
   "id": "09721840-2d74-480f-971d-fad7d2e2de8b",
   "metadata": {},
   "outputs": [
    {
     "name": "stdout",
     "output_type": "stream",
     "text": [
      "user: 800        item: 862        r_ui = None   est = 3.78   {'was_impossible': False}\n"
     ]
    },
    {
     "data": {
      "text/plain": [
       "Prediction(uid=800, iid=862, r_ui=None, est=3.7797817233804345, details={'was_impossible': False})"
      ]
     },
     "execution_count": 21,
     "metadata": {},
     "output_type": "execute_result"
    }
   ],
   "source": [
    "out = svd_model.predict(uid=67, iid=862, verbose=True)\n",
    "out"
   ]
  },
  {
   "cell_type": "code",
   "execution_count": 55,
   "id": "e10a57fb-cfa4-4886-a0b0-9166261e71dd",
   "metadata": {},
   "outputs": [],
   "source": [
    "out = []\n",
    "for idx in ratings['movieId'].unique():\n",
    "    _, iid, _, est, _ = svd_model.predict(uid=800, iid=idx)\n",
    "    out.append((iid, est))"
   ]
  },
  {
   "cell_type": "code",
   "execution_count": 51,
   "id": "da45b7de-7898-4ea0-bf4b-ab2d71913c28",
   "metadata": {
    "scrolled": true
   },
   "outputs": [
    {
     "data": {
      "text/html": [
       "<div>\n",
       "<style scoped>\n",
       "    .dataframe tbody tr th:only-of-type {\n",
       "        vertical-align: middle;\n",
       "    }\n",
       "\n",
       "    .dataframe tbody tr th {\n",
       "        vertical-align: top;\n",
       "    }\n",
       "\n",
       "    .dataframe thead th {\n",
       "        text-align: right;\n",
       "    }\n",
       "</style>\n",
       "<table border=\"1\" class=\"dataframe\">\n",
       "  <thead>\n",
       "    <tr style=\"text-align: right;\">\n",
       "      <th></th>\n",
       "      <th>movieId</th>\n",
       "      <th>rating</th>\n",
       "    </tr>\n",
       "  </thead>\n",
       "  <tbody>\n",
       "    <tr>\n",
       "      <th>157</th>\n",
       "      <td>858</td>\n",
       "      <td>4.816553</td>\n",
       "    </tr>\n",
       "    <tr>\n",
       "      <th>736</th>\n",
       "      <td>912</td>\n",
       "      <td>4.772435</td>\n",
       "    </tr>\n",
       "    <tr>\n",
       "      <th>631</th>\n",
       "      <td>7502</td>\n",
       "      <td>4.732706</td>\n",
       "    </tr>\n",
       "    <tr>\n",
       "      <th>328</th>\n",
       "      <td>1221</td>\n",
       "      <td>4.730216</td>\n",
       "    </tr>\n",
       "    <tr>\n",
       "      <th>158</th>\n",
       "      <td>903</td>\n",
       "      <td>4.718024</td>\n",
       "    </tr>\n",
       "    <tr>\n",
       "      <th>...</th>\n",
       "      <td>...</td>\n",
       "      <td>...</td>\n",
       "    </tr>\n",
       "    <tr>\n",
       "      <th>4254</th>\n",
       "      <td>2380</td>\n",
       "      <td>2.441619</td>\n",
       "    </tr>\n",
       "    <tr>\n",
       "      <th>3128</th>\n",
       "      <td>2153</td>\n",
       "      <td>2.406345</td>\n",
       "    </tr>\n",
       "    <tr>\n",
       "      <th>4210</th>\n",
       "      <td>546</td>\n",
       "      <td>2.343723</td>\n",
       "    </tr>\n",
       "    <tr>\n",
       "      <th>821</th>\n",
       "      <td>1556</td>\n",
       "      <td>2.308215</td>\n",
       "    </tr>\n",
       "    <tr>\n",
       "      <th>3075</th>\n",
       "      <td>3593</td>\n",
       "      <td>2.204951</td>\n",
       "    </tr>\n",
       "  </tbody>\n",
       "</table>\n",
       "<p>9070 rows × 2 columns</p>\n",
       "</div>"
      ],
      "text/plain": [
       "      movieId    rating\n",
       "157       858  4.816553\n",
       "736       912  4.772435\n",
       "631      7502  4.732706\n",
       "328      1221  4.730216\n",
       "158       903  4.718024\n",
       "...       ...       ...\n",
       "4254     2380  2.441619\n",
       "3128     2153  2.406345\n",
       "4210      546  2.343723\n",
       "821      1556  2.308215\n",
       "3075     3593  2.204951\n",
       "\n",
       "[9070 rows x 2 columns]"
      ]
     },
     "execution_count": 51,
     "metadata": {},
     "output_type": "execute_result"
    }
   ],
   "source": [
    "pd.DataFrame(out).sort_values(by=1, ascending=False).rename({0: 'movieId', 1: 'rating'}, axis=1)"
   ]
  },
  {
   "cell_type": "markdown",
   "id": "c28b9a54-efd0-4336-953c-4584b8b9db36",
   "metadata": {},
   "source": [
    "## Evaluation"
   ]
  },
  {
   "cell_type": "code",
   "execution_count": 91,
   "id": "563ee7a4-1928-4808-83ab-642053de4788",
   "metadata": {},
   "outputs": [],
   "source": [
    "def precision_at_k(recommended, relevant_set, k):\n",
    "    return (len([i for i in recommended[:k] if i in relevant_set]) / k) * 100\n",
    "\n",
    "def recall_at_k(recommended, relevant_set, k):\n",
    "    return (len([i for i in recommended[:k] if i in relevant_set]) / len(relevant_set)) * 100 if relevant_set else 0.0\n",
    "\n",
    "def hit_rate_at_k(recommended, relevant_set, k):\n",
    "    return 1.0 if any(i in relevant_set for i in recommended[:k]) else 0.0\n",
    "\n",
    "def average_precision_at_k(recommended, relevant_set, k):\n",
    "    ap, hit = 0.0, 0\n",
    "    for i, item in enumerate(recommended[:k], start=1):\n",
    "        if item in relevant_set:\n",
    "            hit += 1\n",
    "            ap += hit / i\n",
    "    return (ap / min(len(relevant_set), k)) * 100 if hit > 0 else 0.0\n",
    "\n",
    "def ndcg_at_k(recommended, relevant_set, k):\n",
    "    dcg = 0.0\n",
    "    for i, item in enumerate(recommended[:k], start=1):\n",
    "        if item in relevant_set:\n",
    "            dcg += 1.0 / math.log2(i + 1)\n",
    "    idcg = sum(1.0 / math.log2(i + 1) for i in range(1, min(len(relevant_set), k) + 1))\n",
    "    return dcg / idcg if idcg > 0 else 0.0\n"
   ]
  },
  {
   "cell_type": "code",
   "execution_count": 93,
   "id": "d66aa04e-bf4f-4f2a-9521-7fe8cb334b46",
   "metadata": {
    "scrolled": true
   },
   "outputs": [
    {
     "name": "stdout",
     "output_type": "stream",
     "text": [
      "Train: 99342, Test: 676 users=672\n"
     ]
    }
   ],
   "source": [
    "ratings = ratings.sort_values([\"userId\",\"timestamp\"])\n",
    "last_idx = ratings.groupby(\"userId\")[\"timestamp\"].idxmax()\n",
    "test_df = ratings.loc[last_idx]\n",
    "train_df = ratings.drop(last_idx)\n",
    "\n",
    "test_df = test_df[test_df['userId'].isin(train_df['userId'])]\n",
    "print(f\"Train: {len(train_df)}, Test: {len(test_df)} users={test_df['userId'].nunique()}\")"
   ]
  },
  {
   "cell_type": "code",
   "execution_count": 67,
   "id": "30947bff-a278-4877-813f-65290e2dfb1c",
   "metadata": {},
   "outputs": [
    {
     "data": {
      "text/plain": [
       "<surprise.prediction_algorithms.matrix_factorization.SVD at 0x1771e0da0>"
      ]
     },
     "execution_count": 67,
     "metadata": {},
     "output_type": "execute_result"
    }
   ],
   "source": [
    "reader = Reader(rating_scale=(ratings.rating.min(), ratings.rating.max()))\n",
    "data = Dataset.load_from_df(train_df[['userId','movieId','rating']], reader)\n",
    "trainset = data.build_full_trainset()\n",
    "\n",
    "svd = SVD()\n",
    "svd.fit(trainset)"
   ]
  },
  {
   "cell_type": "code",
   "execution_count": 95,
   "id": "4e49ee43-bfc6-44d7-a96d-bada9491d3ef",
   "metadata": {},
   "outputs": [
    {
     "name": "stderr",
     "output_type": "stream",
     "text": [
      "100%|██████████████████████████████████████████████████████████████████████████████████████████| 676/676 [00:01<00:00, 376.67it/s]\n"
     ]
    }
   ],
   "source": [
    "Ks = [3, 5, 10, 20]\n",
    "metrics = {k:{'precision':[],'recall':[],'hr':[],'map':[],'ndcg':[]} for k in Ks}\n",
    "\n",
    "all_items = set(ratings.movieId.unique())\n",
    "train_items_by_user = train_df.groupby(\"userId\")[\"movieId\"].apply(set).to_dict()\n",
    "item_pop = Counter(train_df.movieId)\n",
    "total_inter = len(train_df)\n",
    "\n",
    "recommended_global = set()\n",
    "novelty_sum, user_count = 0.0, 0\n",
    "\n",
    "for _, row in tqdm(test_df.iterrows(), total=len(test_df)):\n",
    "    user, pos_item = row['userId'], row['movieId']\n",
    "    train_items = train_items_by_user[user]\n",
    "\n",
    "    candidates = list(all_items - train_items - {pos_item})\n",
    "    if len(candidates) > 1000:  # sample negatives\n",
    "        candidates = random.sample(candidates, 1000)\n",
    "    candidates.append(pos_item)\n",
    "\n",
    "    preds = [(iid, svd.predict(user, iid).est) for iid in candidates]\n",
    "    ranked = [iid for iid,_ in sorted(preds, key=lambda x:x[1], reverse=True)]\n",
    "    relevant = {pos_item}\n",
    "\n",
    "    for k in Ks:\n",
    "        metrics[k]['precision'].append(precision_at_k(ranked,relevant,k))\n",
    "        metrics[k]['recall'].append(recall_at_k(ranked,relevant,k))\n",
    "        metrics[k]['hr'].append(hit_rate_at_k(ranked,relevant,k))\n",
    "        metrics[k]['map'].append(average_precision_at_k(ranked,relevant,k))\n",
    "        metrics[k]['ndcg'].append(ndcg_at_k(ranked,relevant,k))\n",
    "\n",
    "    topk = ranked[:max(Ks)]\n",
    "    recommended_global.update(topk)\n",
    "\n",
    "    # novelty (self-information based on popularity)\n",
    "    novelty_sum += np.mean([-math.log2((item_pop.get(i,0)+1e-9)/total_inter) for i in topk])\n",
    "    user_count+=1"
   ]
  },
  {
   "cell_type": "code",
   "execution_count": 97,
   "id": "4d1d1bfb-61eb-4e61-8ef2-4a576c9a5c4a",
   "metadata": {},
   "outputs": [
    {
     "name": "stdout",
     "output_type": "stream",
     "text": [
      "Ranking Metrics:\n",
      "K=3 -> {'precision': 1.2327416173570016, 'recall': 3.698224852071006, 'hr': 0.03698224852071006, 'map': 2.8353057199211045, 'ndcg': 0.03058930145287444}\n",
      "K=5 -> {'precision': 0.9467455621301775, 'recall': 4.733727810650888, 'hr': 0.047337278106508875, 'map': 3.0719921104536487, 'ndcg': 0.03485448585227857}\n",
      "K=10 -> {'precision': 0.7692307692307693, 'recall': 7.6923076923076925, 'hr': 0.07692307692307693, 'map': 3.456959706959707, 'ndcg': 0.04431791606254736}\n",
      "K=20 -> {'precision': 0.658284023668639, 'recall': 13.165680473372781, 'hr': 0.13165680473372782, 'map': 3.8161992335719592, 'ndcg': 0.05789309329832222}\n",
      "\n",
      "Beyond Accuracy:\n",
      "Catalog Coverage=0.1396, Novelty=11.5050\n"
     ]
    }
   ],
   "source": [
    "agg = {}\n",
    "for k in Ks:\n",
    "    agg[k] = {m:np.mean(vals) for m,vals in metrics[k].items()}\n",
    "\n",
    "catalog_coverage = len(recommended_global)/len(all_items)\n",
    "novelty = novelty_sum/user_count\n",
    "\n",
    "print(\"Ranking Metrics:\")\n",
    "for k in Ks:\n",
    "    print(f\"K={k} -> {agg[k]}\")\n",
    "print(\"\\nBeyond Accuracy:\")\n",
    "print(f\"Catalog Coverage={catalog_coverage:.4f}, Novelty={novelty:.4f}\")"
   ]
  },
  {
   "cell_type": "code",
   "execution_count": 103,
   "id": "19b37c51-4223-4d6a-acc7-2af66feecf49",
   "metadata": {},
   "outputs": [
    {
     "data": {
      "image/png": "[encoded data removed]",
      "text/plain": [
       "<Figure size 1200x600 with 1 Axes>"
      ]
     },
     "metadata": {},
     "output_type": "display_data"
    }
   ],
   "source": [
    "import matplotlib.pyplot as plt\n",
    "\n",
    "Ks = sorted(agg.keys())\n",
    "metrics_names = list(next(iter(agg.values())).keys())\n",
    "\n",
    "plt.figure(figsize=(12,6))\n",
    "for m in metrics_names:\n",
    "    plt.plot(Ks, [agg[k][m] for k in Ks], marker='o', label=m)\n",
    "\n",
    "plt.title(\"Ranking Metrics @K\")\n",
    "plt.xlabel(\"K\")\n",
    "plt.ylabel(\"Score\")\n",
    "plt.legend()\n",
    "plt.grid(True)\n",
    "plt.show()"
   ]
  }
 ],
 "metadata": {
  "kernelspec": {
   "display_name": "Python 3 (ipykernel)",
   "language": "python",
   "name": "python3"
  },
  "language_info": {
   "codemirror_mode": {
    "name": "ipython",
    "version": 3
   },
   "file_extension": ".py",
   "mimetype": "text/x-python",
   "name": "python",
   "nbconvert_exporter": "python",
   "pygments_lexer": "ipython3",
   "version": "3.12.2"
  }
 },
 "nbformat": 4,
 "nbformat_minor": 5
}

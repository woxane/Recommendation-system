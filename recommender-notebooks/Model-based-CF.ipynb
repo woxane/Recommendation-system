{
 "cells": [
  {
   "cell_type": "code",
   "execution_count": 1,
   "id": "8a2e1483-3bb9-4514-ad5a-dd767334ac42",
   "metadata": {},
   "outputs": [],
   "source": [
    "import pandas as pd\n",
    "import numpy as np\n",
    "\n",
    "from surprise import Reader, SVD, Dataset, accuracy\n",
    "from surprise.model_selection import GridSearchCV, train_test_split, cross_validate"
   ]
  },
  {
   "cell_type": "code",
   "execution_count": 2,
   "id": "ff965f88-1178-412a-bad5-94648781da42",
   "metadata": {},
   "outputs": [
    {
     "name": "stderr",
     "output_type": "stream",
     "text": [
      "/var/folders/wy/xyqwny610cb9ft3dhglx4jyc0000gn/T/ipykernel_25056/949808799.py:4: DtypeWarning: Columns (10) have mixed types. Specify dtype option on import or set low_memory=False.\n",
      "  md = pd.read_csv('../dataset/movies_metadata.csv')\n"
     ]
    }
   ],
   "source": [
    "credits = pd.read_csv('../dataset/credits.csv')\n",
    "keywords = pd.read_csv('../dataset/keywords.csv')\n",
    "links = pd.read_csv('../dataset/links_small.csv')\n",
    "md = pd.read_csv('../dataset/movies_metadata.csv')\n",
    "ratings = pd.read_csv('../dataset/ratings_small.csv')"
   ]
  },
  {
   "cell_type": "code",
   "execution_count": 3,
   "id": "7dd9718e-f13c-4988-95cd-f937bd461973",
   "metadata": {},
   "outputs": [
    {
     "data": {
      "text/html": [
       "<div>\n",
       "<style scoped>\n",
       "    .dataframe tbody tr th:only-of-type {\n",
       "        vertical-align: middle;\n",
       "    }\n",
       "\n",
       "    .dataframe tbody tr th {\n",
       "        vertical-align: top;\n",
       "    }\n",
       "\n",
       "    .dataframe thead th {\n",
       "        text-align: right;\n",
       "    }\n",
       "</style>\n",
       "<table border=\"1\" class=\"dataframe\">\n",
       "  <thead>\n",
       "    <tr style=\"text-align: right;\">\n",
       "      <th></th>\n",
       "      <th>id</th>\n",
       "      <th>title</th>\n",
       "    </tr>\n",
       "  </thead>\n",
       "  <tbody>\n",
       "    <tr>\n",
       "      <th>0</th>\n",
       "      <td>862</td>\n",
       "      <td>Toy Story</td>\n",
       "    </tr>\n",
       "    <tr>\n",
       "      <th>1</th>\n",
       "      <td>8844</td>\n",
       "      <td>Jumanji</td>\n",
       "    </tr>\n",
       "    <tr>\n",
       "      <th>2</th>\n",
       "      <td>15602</td>\n",
       "      <td>Grumpier Old Men</td>\n",
       "    </tr>\n",
       "    <tr>\n",
       "      <th>3</th>\n",
       "      <td>31357</td>\n",
       "      <td>Waiting to Exhale</td>\n",
       "    </tr>\n",
       "    <tr>\n",
       "      <th>4</th>\n",
       "      <td>11862</td>\n",
       "      <td>Father of the Bride Part II</td>\n",
       "    </tr>\n",
       "    <tr>\n",
       "      <th>...</th>\n",
       "      <td>...</td>\n",
       "      <td>...</td>\n",
       "    </tr>\n",
       "    <tr>\n",
       "      <th>45461</th>\n",
       "      <td>439050</td>\n",
       "      <td>Subdue</td>\n",
       "    </tr>\n",
       "    <tr>\n",
       "      <th>45462</th>\n",
       "      <td>111109</td>\n",
       "      <td>Century of Birthing</td>\n",
       "    </tr>\n",
       "    <tr>\n",
       "      <th>45463</th>\n",
       "      <td>67758</td>\n",
       "      <td>Betrayal</td>\n",
       "    </tr>\n",
       "    <tr>\n",
       "      <th>45464</th>\n",
       "      <td>227506</td>\n",
       "      <td>Satan Triumphant</td>\n",
       "    </tr>\n",
       "    <tr>\n",
       "      <th>45465</th>\n",
       "      <td>461257</td>\n",
       "      <td>Queerama</td>\n",
       "    </tr>\n",
       "  </tbody>\n",
       "</table>\n",
       "<p>45466 rows × 2 columns</p>\n",
       "</div>"
      ],
      "text/plain": [
       "           id                        title\n",
       "0         862                    Toy Story\n",
       "1        8844                      Jumanji\n",
       "2       15602             Grumpier Old Men\n",
       "3       31357            Waiting to Exhale\n",
       "4       11862  Father of the Bride Part II\n",
       "...       ...                          ...\n",
       "45461  439050                       Subdue\n",
       "45462  111109          Century of Birthing\n",
       "45463   67758                     Betrayal\n",
       "45464  227506             Satan Triumphant\n",
       "45465  461257                     Queerama\n",
       "\n",
       "[45466 rows x 2 columns]"
      ]
     },
     "execution_count": 3,
     "metadata": {},
     "output_type": "execute_result"
    }
   ],
   "source": [
    "md[['id', 'title']]"
   ]
  },
  {
   "cell_type": "code",
   "execution_count": 21,
   "id": "970c003d-ef8f-4ac2-8117-ec6c7b27dfa3",
   "metadata": {},
   "outputs": [],
   "source": [
    "wrong_imdb_ids = md[md['imdb_id'] == '0'].index\n",
    "md.drop(wrong_imdb_ids, axis=0, inplace=True)"
   ]
  },
  {
   "cell_type": "code",
   "execution_count": 31,
   "id": "20a48001-58b0-44e6-8271-3643dfe3fa97",
   "metadata": {},
   "outputs": [
    {
     "data": {
      "text/html": [
       "<div>\n",
       "<style scoped>\n",
       "    .dataframe tbody tr th:only-of-type {\n",
       "        vertical-align: middle;\n",
       "    }\n",
       "\n",
       "    .dataframe tbody tr th {\n",
       "        vertical-align: top;\n",
       "    }\n",
       "\n",
       "    .dataframe thead th {\n",
       "        text-align: right;\n",
       "    }\n",
       "</style>\n",
       "<table border=\"1\" class=\"dataframe\">\n",
       "  <thead>\n",
       "    <tr style=\"text-align: right;\">\n",
       "      <th></th>\n",
       "      <th>userId</th>\n",
       "      <th>movieId</th>\n",
       "      <th>rating</th>\n",
       "      <th>timestamp</th>\n",
       "      <th>title</th>\n",
       "    </tr>\n",
       "  </thead>\n",
       "  <tbody>\n",
       "    <tr>\n",
       "      <th>0</th>\n",
       "      <td>1</td>\n",
       "      <td>1371</td>\n",
       "      <td>2.5</td>\n",
       "      <td>1260759135</td>\n",
       "      <td>Rocky III</td>\n",
       "    </tr>\n",
       "    <tr>\n",
       "      <th>1</th>\n",
       "      <td>1</td>\n",
       "      <td>1405</td>\n",
       "      <td>1.0</td>\n",
       "      <td>1260759203</td>\n",
       "      <td>Greed</td>\n",
       "    </tr>\n",
       "    <tr>\n",
       "      <th>2</th>\n",
       "      <td>1</td>\n",
       "      <td>2105</td>\n",
       "      <td>4.0</td>\n",
       "      <td>1260759139</td>\n",
       "      <td>American Pie</td>\n",
       "    </tr>\n",
       "    <tr>\n",
       "      <th>3</th>\n",
       "      <td>1</td>\n",
       "      <td>2193</td>\n",
       "      <td>2.0</td>\n",
       "      <td>1260759198</td>\n",
       "      <td>My Tutor</td>\n",
       "    </tr>\n",
       "    <tr>\n",
       "      <th>4</th>\n",
       "      <td>1</td>\n",
       "      <td>2294</td>\n",
       "      <td>2.0</td>\n",
       "      <td>1260759108</td>\n",
       "      <td>Jay and Silent Bob Strike Back</td>\n",
       "    </tr>\n",
       "    <tr>\n",
       "      <th>...</th>\n",
       "      <td>...</td>\n",
       "      <td>...</td>\n",
       "      <td>...</td>\n",
       "      <td>...</td>\n",
       "      <td>...</td>\n",
       "    </tr>\n",
       "    <tr>\n",
       "      <th>44989</th>\n",
       "      <td>671</td>\n",
       "      <td>4995</td>\n",
       "      <td>4.0</td>\n",
       "      <td>1064891537</td>\n",
       "      <td>Boogie Nights</td>\n",
       "    </tr>\n",
       "    <tr>\n",
       "      <th>44990</th>\n",
       "      <td>671</td>\n",
       "      <td>5816</td>\n",
       "      <td>4.0</td>\n",
       "      <td>1065111963</td>\n",
       "      <td>Waiter</td>\n",
       "    </tr>\n",
       "    <tr>\n",
       "      <th>44991</th>\n",
       "      <td>671</td>\n",
       "      <td>5902</td>\n",
       "      <td>3.5</td>\n",
       "      <td>1064245507</td>\n",
       "      <td>A Bridge Too Far</td>\n",
       "    </tr>\n",
       "    <tr>\n",
       "      <th>44992</th>\n",
       "      <td>671</td>\n",
       "      <td>5991</td>\n",
       "      <td>4.5</td>\n",
       "      <td>1064245387</td>\n",
       "      <td>The Last Laugh</td>\n",
       "    </tr>\n",
       "    <tr>\n",
       "      <th>44993</th>\n",
       "      <td>671</td>\n",
       "      <td>5995</td>\n",
       "      <td>4.0</td>\n",
       "      <td>1066793014</td>\n",
       "      <td>Miffo</td>\n",
       "    </tr>\n",
       "  </tbody>\n",
       "</table>\n",
       "<p>44994 rows × 5 columns</p>\n",
       "</div>"
      ],
      "text/plain": [
       "       userId  movieId  rating   timestamp                           title\n",
       "0           1     1371     2.5  1260759135                       Rocky III\n",
       "1           1     1405     1.0  1260759203                           Greed\n",
       "2           1     2105     4.0  1260759139                    American Pie\n",
       "3           1     2193     2.0  1260759198                        My Tutor\n",
       "4           1     2294     2.0  1260759108  Jay and Silent Bob Strike Back\n",
       "...       ...      ...     ...         ...                             ...\n",
       "44989     671     4995     4.0  1064891537                   Boogie Nights\n",
       "44990     671     5816     4.0  1065111963                          Waiter\n",
       "44991     671     5902     3.5  1064245507                A Bridge Too Far\n",
       "44992     671     5991     4.5  1064245387                  The Last Laugh\n",
       "44993     671     5995     4.0  1066793014                           Miffo\n",
       "\n",
       "[44994 rows x 5 columns]"
      ]
     },
     "execution_count": 31,
     "metadata": {},
     "output_type": "execute_result"
    }
   ],
   "source": [
    "md['id'] = md['id'].astype('int')\n",
    "\n",
    "ratings = ratings.merge(md[['id', 'title']].rename({'id': 'movieId'}, axis=1))\n",
    "ratings"
   ]
  },
  {
   "cell_type": "markdown",
   "id": "a2067450-eac3-48d4-a47b-219f79909a2f",
   "metadata": {},
   "source": [
    "## Use sample of movies:"
   ]
  },
  {
   "cell_type": "code",
   "execution_count": 50,
   "id": "7f0ea58f-c272-4db4-aeb5-52e45cbea593",
   "metadata": {},
   "outputs": [],
   "source": [
    "movies = [\n",
    "    'Terminator 3: Rise of the Machines',\n",
    "    'The Million Dollar Hotel',\n",
    "    'Men in Black II',\n",
    "    'Bad Boys II',\n",
    "    'Back to the Future Part II',\n",
    "]\n",
    "\n",
    "movie_ids = [165, 318, 608, 296, 8961]"
   ]
  },
  {
   "cell_type": "code",
   "execution_count": 52,
   "id": "bcc2a336-93b7-4850-89b7-957c3a5957d5",
   "metadata": {},
   "outputs": [],
   "source": [
    "df = ratings"
   ]
  },
  {
   "cell_type": "code",
   "execution_count": 58,
   "id": "98b8f745-7c09-4397-b45b-18167baf9061",
   "metadata": {},
   "outputs": [
    {
     "data": {
      "text/html": [
       "<div>\n",
       "<style scoped>\n",
       "    .dataframe tbody tr th:only-of-type {\n",
       "        vertical-align: middle;\n",
       "    }\n",
       "\n",
       "    .dataframe tbody tr th {\n",
       "        vertical-align: top;\n",
       "    }\n",
       "\n",
       "    .dataframe thead th {\n",
       "        text-align: right;\n",
       "    }\n",
       "</style>\n",
       "<table border=\"1\" class=\"dataframe\">\n",
       "  <thead>\n",
       "    <tr style=\"text-align: right;\">\n",
       "      <th></th>\n",
       "      <th>userId</th>\n",
       "      <th>movieId</th>\n",
       "      <th>rating</th>\n",
       "      <th>timestamp</th>\n",
       "      <th>title</th>\n",
       "    </tr>\n",
       "  </thead>\n",
       "  <tbody>\n",
       "    <tr>\n",
       "      <th>13</th>\n",
       "      <td>2</td>\n",
       "      <td>165</td>\n",
       "      <td>3.0</td>\n",
       "      <td>835355441</td>\n",
       "      <td>Back to the Future Part II</td>\n",
       "    </tr>\n",
       "    <tr>\n",
       "      <th>29</th>\n",
       "      <td>2</td>\n",
       "      <td>296</td>\n",
       "      <td>4.0</td>\n",
       "      <td>835355395</td>\n",
       "      <td>Terminator 3: Rise of the Machines</td>\n",
       "    </tr>\n",
       "    <tr>\n",
       "      <th>67</th>\n",
       "      <td>3</td>\n",
       "      <td>296</td>\n",
       "      <td>4.5</td>\n",
       "      <td>1298862418</td>\n",
       "      <td>Terminator 3: Rise of the Machines</td>\n",
       "    </tr>\n",
       "    <tr>\n",
       "      <th>68</th>\n",
       "      <td>3</td>\n",
       "      <td>318</td>\n",
       "      <td>5.0</td>\n",
       "      <td>1298862121</td>\n",
       "      <td>The Million Dollar Hotel</td>\n",
       "    </tr>\n",
       "    <tr>\n",
       "      <th>96</th>\n",
       "      <td>4</td>\n",
       "      <td>296</td>\n",
       "      <td>5.0</td>\n",
       "      <td>949895708</td>\n",
       "      <td>Terminator 3: Rise of the Machines</td>\n",
       "    </tr>\n",
       "    <tr>\n",
       "      <th>...</th>\n",
       "      <td>...</td>\n",
       "      <td>...</td>\n",
       "      <td>...</td>\n",
       "      <td>...</td>\n",
       "      <td>...</td>\n",
       "    </tr>\n",
       "    <tr>\n",
       "      <th>44933</th>\n",
       "      <td>670</td>\n",
       "      <td>318</td>\n",
       "      <td>5.0</td>\n",
       "      <td>938781934</td>\n",
       "      <td>The Million Dollar Hotel</td>\n",
       "    </tr>\n",
       "    <tr>\n",
       "      <th>44938</th>\n",
       "      <td>670</td>\n",
       "      <td>608</td>\n",
       "      <td>5.0</td>\n",
       "      <td>938782093</td>\n",
       "      <td>Men in Black II</td>\n",
       "    </tr>\n",
       "    <tr>\n",
       "      <th>44948</th>\n",
       "      <td>671</td>\n",
       "      <td>296</td>\n",
       "      <td>4.0</td>\n",
       "      <td>1064890424</td>\n",
       "      <td>Terminator 3: Rise of the Machines</td>\n",
       "    </tr>\n",
       "    <tr>\n",
       "      <th>44949</th>\n",
       "      <td>671</td>\n",
       "      <td>318</td>\n",
       "      <td>5.0</td>\n",
       "      <td>1064890397</td>\n",
       "      <td>The Million Dollar Hotel</td>\n",
       "    </tr>\n",
       "    <tr>\n",
       "      <th>44954</th>\n",
       "      <td>671</td>\n",
       "      <td>608</td>\n",
       "      <td>4.0</td>\n",
       "      <td>1064890575</td>\n",
       "      <td>Men in Black II</td>\n",
       "    </tr>\n",
       "  </tbody>\n",
       "</table>\n",
       "<p>1127 rows × 5 columns</p>\n",
       "</div>"
      ],
      "text/plain": [
       "       userId  movieId  rating   timestamp                               title\n",
       "13          2      165     3.0   835355441          Back to the Future Part II\n",
       "29          2      296     4.0   835355395  Terminator 3: Rise of the Machines\n",
       "67          3      296     4.5  1298862418  Terminator 3: Rise of the Machines\n",
       "68          3      318     5.0  1298862121            The Million Dollar Hotel\n",
       "96          4      296     5.0   949895708  Terminator 3: Rise of the Machines\n",
       "...       ...      ...     ...         ...                                 ...\n",
       "44933     670      318     5.0   938781934            The Million Dollar Hotel\n",
       "44938     670      608     5.0   938782093                     Men in Black II\n",
       "44948     671      296     4.0  1064890424  Terminator 3: Rise of the Machines\n",
       "44949     671      318     5.0  1064890397            The Million Dollar Hotel\n",
       "44954     671      608     4.0  1064890575                     Men in Black II\n",
       "\n",
       "[1127 rows x 5 columns]"
      ]
     },
     "execution_count": 58,
     "metadata": {},
     "output_type": "execute_result"
    }
   ],
   "source": [
    "sample_df = df[df['movieId'].isin(movie_ids)]\n",
    "sample_df"
   ]
  },
  {
   "cell_type": "code",
   "execution_count": 66,
   "id": "14a7aa42-33f2-4cd3-869c-cffcf199135a",
   "metadata": {},
   "outputs": [
    {
     "data": {
      "text/html": [
       "<div>\n",
       "<style scoped>\n",
       "    .dataframe tbody tr th:only-of-type {\n",
       "        vertical-align: middle;\n",
       "    }\n",
       "\n",
       "    .dataframe tbody tr th {\n",
       "        vertical-align: top;\n",
       "    }\n",
       "\n",
       "    .dataframe thead th {\n",
       "        text-align: right;\n",
       "    }\n",
       "</style>\n",
       "<table border=\"1\" class=\"dataframe\">\n",
       "  <thead>\n",
       "    <tr style=\"text-align: right;\">\n",
       "      <th>title</th>\n",
       "      <th>Back to the Future Part II</th>\n",
       "      <th>Bad Boys II</th>\n",
       "      <th>Men in Black II</th>\n",
       "      <th>Terminator 3: Rise of the Machines</th>\n",
       "      <th>The Million Dollar Hotel</th>\n",
       "    </tr>\n",
       "    <tr>\n",
       "      <th>userId</th>\n",
       "      <th></th>\n",
       "      <th></th>\n",
       "      <th></th>\n",
       "      <th></th>\n",
       "      <th></th>\n",
       "    </tr>\n",
       "  </thead>\n",
       "  <tbody>\n",
       "    <tr>\n",
       "      <th>2</th>\n",
       "      <td>3.0</td>\n",
       "      <td>NaN</td>\n",
       "      <td>NaN</td>\n",
       "      <td>4.0</td>\n",
       "      <td>NaN</td>\n",
       "    </tr>\n",
       "    <tr>\n",
       "      <th>3</th>\n",
       "      <td>NaN</td>\n",
       "      <td>NaN</td>\n",
       "      <td>NaN</td>\n",
       "      <td>4.5</td>\n",
       "      <td>5.0</td>\n",
       "    </tr>\n",
       "    <tr>\n",
       "      <th>4</th>\n",
       "      <td>NaN</td>\n",
       "      <td>NaN</td>\n",
       "      <td>NaN</td>\n",
       "      <td>5.0</td>\n",
       "      <td>NaN</td>\n",
       "    </tr>\n",
       "    <tr>\n",
       "      <th>7</th>\n",
       "      <td>NaN</td>\n",
       "      <td>NaN</td>\n",
       "      <td>NaN</td>\n",
       "      <td>NaN</td>\n",
       "      <td>5.0</td>\n",
       "    </tr>\n",
       "    <tr>\n",
       "      <th>8</th>\n",
       "      <td>NaN</td>\n",
       "      <td>NaN</td>\n",
       "      <td>NaN</td>\n",
       "      <td>4.0</td>\n",
       "      <td>5.0</td>\n",
       "    </tr>\n",
       "    <tr>\n",
       "      <th>...</th>\n",
       "      <td>...</td>\n",
       "      <td>...</td>\n",
       "      <td>...</td>\n",
       "      <td>...</td>\n",
       "      <td>...</td>\n",
       "    </tr>\n",
       "    <tr>\n",
       "      <th>666</th>\n",
       "      <td>2.0</td>\n",
       "      <td>NaN</td>\n",
       "      <td>NaN</td>\n",
       "      <td>4.0</td>\n",
       "      <td>NaN</td>\n",
       "    </tr>\n",
       "    <tr>\n",
       "      <th>667</th>\n",
       "      <td>3.0</td>\n",
       "      <td>NaN</td>\n",
       "      <td>5.0</td>\n",
       "      <td>5.0</td>\n",
       "      <td>NaN</td>\n",
       "    </tr>\n",
       "    <tr>\n",
       "      <th>668</th>\n",
       "      <td>NaN</td>\n",
       "      <td>NaN</td>\n",
       "      <td>5.0</td>\n",
       "      <td>5.0</td>\n",
       "      <td>4.0</td>\n",
       "    </tr>\n",
       "    <tr>\n",
       "      <th>670</th>\n",
       "      <td>NaN</td>\n",
       "      <td>NaN</td>\n",
       "      <td>5.0</td>\n",
       "      <td>NaN</td>\n",
       "      <td>5.0</td>\n",
       "    </tr>\n",
       "    <tr>\n",
       "      <th>671</th>\n",
       "      <td>NaN</td>\n",
       "      <td>NaN</td>\n",
       "      <td>4.0</td>\n",
       "      <td>4.0</td>\n",
       "      <td>5.0</td>\n",
       "    </tr>\n",
       "  </tbody>\n",
       "</table>\n",
       "<p>500 rows × 5 columns</p>\n",
       "</div>"
      ],
      "text/plain": [
       "title   Back to the Future Part II  Bad Boys II  Men in Black II  \\\n",
       "userId                                                             \n",
       "2                              3.0          NaN              NaN   \n",
       "3                              NaN          NaN              NaN   \n",
       "4                              NaN          NaN              NaN   \n",
       "7                              NaN          NaN              NaN   \n",
       "8                              NaN          NaN              NaN   \n",
       "...                            ...          ...              ...   \n",
       "666                            2.0          NaN              NaN   \n",
       "667                            3.0          NaN              5.0   \n",
       "668                            NaN          NaN              5.0   \n",
       "670                            NaN          NaN              5.0   \n",
       "671                            NaN          NaN              4.0   \n",
       "\n",
       "title   Terminator 3: Rise of the Machines  The Million Dollar Hotel  \n",
       "userId                                                                \n",
       "2                                      4.0                       NaN  \n",
       "3                                      4.5                       5.0  \n",
       "4                                      5.0                       NaN  \n",
       "7                                      NaN                       5.0  \n",
       "8                                      4.0                       5.0  \n",
       "...                                    ...                       ...  \n",
       "666                                    4.0                       NaN  \n",
       "667                                    5.0                       NaN  \n",
       "668                                    5.0                       4.0  \n",
       "670                                    NaN                       5.0  \n",
       "671                                    4.0                       5.0  \n",
       "\n",
       "[500 rows x 5 columns]"
      ]
     },
     "execution_count": 66,
     "metadata": {},
     "output_type": "execute_result"
    }
   ],
   "source": [
    "user_movie_df = sample_df.pivot(index='userId', columns='title', values='rating')\n",
    "user_movie_df"
   ]
  },
  {
   "cell_type": "code",
   "execution_count": 70,
   "id": "6d494dc6-2866-4dc2-8b39-c5ab5c753cdb",
   "metadata": {},
   "outputs": [],
   "source": [
    "reader = Reader(rating_scale=(1, 5))\n",
    "\n",
    "data = Dataset.load_from_df(\n",
    "    sample_df[['userId', 'movieId', 'rating']],\n",
    "    reader\n",
    ")"
   ]
  },
  {
   "cell_type": "code",
   "execution_count": 72,
   "id": "5d2f7065-5667-41d7-b15b-28cc16b33a69",
   "metadata": {},
   "outputs": [],
   "source": [
    "trainset, testset = train_test_split(data, test_size=0.3)"
   ]
  },
  {
   "cell_type": "code",
   "execution_count": 74,
   "id": "88900de8-9d46-421b-926b-933e4c9a69fb",
   "metadata": {},
   "outputs": [],
   "source": [
    "svd_model = SVD()"
   ]
  },
  {
   "cell_type": "code",
   "execution_count": 76,
   "id": "6c74e594-d63e-4427-b3df-5d3f29e1b85a",
   "metadata": {},
   "outputs": [
    {
     "data": {
      "text/plain": [
       "<surprise.prediction_algorithms.matrix_factorization.SVD at 0x3117849e0>"
      ]
     },
     "execution_count": 76,
     "metadata": {},
     "output_type": "execute_result"
    }
   ],
   "source": [
    "svd_model.fit(trainset)"
   ]
  },
  {
   "cell_type": "code",
   "execution_count": 78,
   "id": "72c379ee-ea6e-484c-8986-466289d9eac0",
   "metadata": {},
   "outputs": [],
   "source": [
    "predictions = svd_model.test(testset)"
   ]
  },
  {
   "cell_type": "code",
   "execution_count": 80,
   "id": "1885833f-c5b0-488b-8cb5-288dee2a3bef",
   "metadata": {},
   "outputs": [
    {
     "name": "stdout",
     "output_type": "stream",
     "text": [
      "RMSE: 0.7889\n"
     ]
    },
    {
     "data": {
      "text/plain": [
       "0.7888883857387429"
      ]
     },
     "execution_count": 80,
     "metadata": {},
     "output_type": "execute_result"
    }
   ],
   "source": [
    "accuracy.rmse(predictions)"
   ]
  },
  {
   "cell_type": "code",
   "execution_count": 112,
   "id": "98644114-8529-4e00-9915-739afd1fd689",
   "metadata": {},
   "outputs": [
    {
     "data": {
      "text/plain": [
       "Prediction(uid=602, iid=165, r_ui=None, est=3.5902793688383223, details={'was_impossible': False})"
      ]
     },
     "execution_count": 112,
     "metadata": {},
     "output_type": "execute_result"
    }
   ],
   "source": [
    "svd_model.predict(uid=602, iid=165)"
   ]
  },
  {
   "cell_type": "code",
   "execution_count": 106,
   "id": "66f1b98a-7c3a-43e3-86dc-3dfc8d0cc379",
   "metadata": {},
   "outputs": [
    {
     "data": {
      "text/html": [
       "<div>\n",
       "<style scoped>\n",
       "    .dataframe tbody tr th:only-of-type {\n",
       "        vertical-align: middle;\n",
       "    }\n",
       "\n",
       "    .dataframe tbody tr th {\n",
       "        vertical-align: top;\n",
       "    }\n",
       "\n",
       "    .dataframe thead th {\n",
       "        text-align: right;\n",
       "    }\n",
       "</style>\n",
       "<table border=\"1\" class=\"dataframe\">\n",
       "  <thead>\n",
       "    <tr style=\"text-align: right;\">\n",
       "      <th></th>\n",
       "      <th>userId</th>\n",
       "      <th>movieId</th>\n",
       "      <th>rating</th>\n",
       "      <th>timestamp</th>\n",
       "      <th>title</th>\n",
       "    </tr>\n",
       "  </thead>\n",
       "  <tbody>\n",
       "    <tr>\n",
       "      <th>40857</th>\n",
       "      <td>602</td>\n",
       "      <td>296</td>\n",
       "      <td>5.0</td>\n",
       "      <td>842355957</td>\n",
       "      <td>Terminator 3: Rise of the Machines</td>\n",
       "    </tr>\n",
       "    <tr>\n",
       "      <th>40860</th>\n",
       "      <td>602</td>\n",
       "      <td>318</td>\n",
       "      <td>5.0</td>\n",
       "      <td>842356712</td>\n",
       "      <td>The Million Dollar Hotel</td>\n",
       "    </tr>\n",
       "    <tr>\n",
       "      <th>40896</th>\n",
       "      <td>602</td>\n",
       "      <td>608</td>\n",
       "      <td>4.0</td>\n",
       "      <td>842356870</td>\n",
       "      <td>Men in Black II</td>\n",
       "    </tr>\n",
       "  </tbody>\n",
       "</table>\n",
       "</div>"
      ],
      "text/plain": [
       "       userId  movieId  rating  timestamp                               title\n",
       "40857     602      296     5.0  842355957  Terminator 3: Rise of the Machines\n",
       "40860     602      318     5.0  842356712            The Million Dollar Hotel\n",
       "40896     602      608     4.0  842356870                     Men in Black II"
      ]
     },
     "execution_count": 106,
     "metadata": {},
     "output_type": "execute_result"
    }
   ],
   "source": [
    "sample_df[sample_df['userId'] == 602]"
   ]
  },
  {
   "cell_type": "code",
   "execution_count": 122,
   "id": "c0885823-ac7a-45e0-8862-cf1f68f5c5f0",
   "metadata": {},
   "outputs": [],
   "source": [
    "param_grid = {'n_epochs': [5, 10, 20, 40, 50, 100],\n",
    "              'lr_all': [0.03, 0.01, 0.007, 0.005, 0.003, 0.001, 0.0005, 0.0001]}\n",
    "\n",
    "gs = GridSearchCV(SVD,\n",
    "                  param_grid,\n",
    "                  measures=['rmse', 'mae'],\n",
    "                  cv=3,\n",
    "                  n_jobs=-1,\n",
    "                  joblib_verbose=True)\n"
   ]
  },
  {
   "cell_type": "code",
   "execution_count": 124,
   "id": "efb24c4c-435e-4403-a442-f1adf0aa8797",
   "metadata": {},
   "outputs": [
    {
     "name": "stderr",
     "output_type": "stream",
     "text": [
      "[Parallel(n_jobs=-1)]: Using backend LokyBackend with 8 concurrent workers.\n",
      "[Parallel(n_jobs=-1)]: Done  56 tasks      | elapsed:    0.1s\n",
      "[Parallel(n_jobs=-1)]: Done 144 out of 144 | elapsed:    0.3s finished\n"
     ]
    }
   ],
   "source": [
    "gs.fit(data)"
   ]
  },
  {
   "cell_type": "code",
   "execution_count": 126,
   "id": "f69388d1-4faa-458b-8038-f00ebce99bb3",
   "metadata": {},
   "outputs": [
    {
     "data": {
      "text/plain": [
       "0.818163874992312"
      ]
     },
     "execution_count": 126,
     "metadata": {},
     "output_type": "execute_result"
    }
   ],
   "source": [
    "gs.best_score['rmse']\n"
   ]
  },
  {
   "cell_type": "code",
   "execution_count": 128,
   "id": "0d03825d-fece-428a-b638-d9c5b65e0439",
   "metadata": {},
   "outputs": [
    {
     "data": {
      "text/plain": [
       "{'n_epochs': 100, 'lr_all': 0.0005}"
      ]
     },
     "execution_count": 128,
     "metadata": {},
     "output_type": "execute_result"
    }
   ],
   "source": [
    "gs.best_params['rmse']\n"
   ]
  },
  {
   "cell_type": "code",
   "execution_count": 130,
   "id": "86001198-2ee1-497a-9b24-181c1b57b011",
   "metadata": {},
   "outputs": [
    {
     "data": {
      "text/plain": [
       "<surprise.prediction_algorithms.matrix_factorization.SVD at 0x3219541d0>"
      ]
     },
     "execution_count": 130,
     "metadata": {},
     "output_type": "execute_result"
    }
   ],
   "source": [
    "svd_model = SVD(**gs.best_params['rmse'])\n",
    "data = data.build_full_trainset()\n",
    "svd_model.fit(data)"
   ]
  },
  {
   "cell_type": "code",
   "execution_count": 132,
   "id": "09721840-2d74-480f-971d-fad7d2e2de8b",
   "metadata": {},
   "outputs": [
    {
     "name": "stdout",
     "output_type": "stream",
     "text": [
      "user: 602        item: 662        r_ui = None   est = 4.22   {'was_impossible': False}\n"
     ]
    },
    {
     "data": {
      "text/plain": [
       "Prediction(uid=602, iid=662, r_ui=None, est=4.217433157817958, details={'was_impossible': False})"
      ]
     },
     "execution_count": 132,
     "metadata": {},
     "output_type": "execute_result"
    }
   ],
   "source": [
    "svd_model.predict(uid=602, iid=662, verbose=True)\n"
   ]
  }
 ],
 "metadata": {
  "kernelspec": {
   "display_name": "Python 3 (ipykernel)",
   "language": "python",
   "name": "python3"
  },
  "language_info": {
   "codemirror_mode": {
    "name": "ipython",
    "version": 3
   },
   "file_extension": ".py",
   "mimetype": "text/x-python",
   "name": "python",
   "nbconvert_exporter": "python",
   "pygments_lexer": "ipython3",
   "version": "3.12.2"
  }
 },
 "nbformat": 4,
 "nbformat_minor": 5
}

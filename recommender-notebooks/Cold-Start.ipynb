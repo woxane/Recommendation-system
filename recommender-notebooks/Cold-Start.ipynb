{
 "cells": [
  {
   "cell_type": "code",
   "execution_count": 12,
   "id": "ca183b39-6bdc-40e8-88ab-d4ea14505055",
   "metadata": {},
   "outputs": [],
   "source": [
    "import pandas as pd\n",
    "from ast import literal_eval"
   ]
  },
  {
   "cell_type": "code",
   "execution_count": 4,
   "id": "051efa02-6235-4b55-9768-8d74f3350981",
   "metadata": {},
   "outputs": [
    {
     "name": "stderr",
     "output_type": "stream",
     "text": [
      "/var/folders/wy/xyqwny610cb9ft3dhglx4jyc0000gn/T/ipykernel_12703/2838257103.py:4: DtypeWarning: Columns (10) have mixed types. Specify dtype option on import or set low_memory=False.\n",
      "  md = pd.read_csv('../dataset/movies_metadata.csv')\n"
     ]
    }
   ],
   "source": [
    "credits = pd.read_csv('../dataset/credits.csv')\n",
    "keywords = pd.read_csv('../dataset/keywords.csv')\n",
    "links = pd.read_csv('../dataset/links.csv')\n",
    "md = pd.read_csv('../dataset/movies_metadata.csv')\n",
    "ratings = pd.read_csv('../dataset/ratings.csv')"
   ]
  },
  {
   "cell_type": "code",
   "execution_count": 14,
   "id": "9fca0510-9d2e-48b6-aa9b-3218aceaad2c",
   "metadata": {},
   "outputs": [],
   "source": [
    "md['genres'] = md['genres'].fillna('[]').apply(literal_eval)\n",
    "md['genres'] = md['genres'].apply(lambda x: [i['name'] for i in x] if isinstance(x, list) else [])"
   ]
  },
  {
   "cell_type": "code",
   "execution_count": 24,
   "id": "803124da-cec2-4623-82d5-0762c2c9fdbb",
   "metadata": {},
   "outputs": [
    {
     "data": {
      "text/plain": [
       "array(['Animation', 'Comedy', 'Family', 'Adventure', 'Fantasy', 'Romance',\n",
       "       'Drama', 'Action', 'Crime', 'Thriller', 'Horror', 'History',\n",
       "       'Science Fiction', 'Mystery', 'War', 'Foreign', nan, 'Music',\n",
       "       'Documentary', 'Western', 'TV Movie', 'Carousel Productions',\n",
       "       'Vision View Entertainment', 'Telescene Film Group Productions',\n",
       "       'Aniplex', 'GoHands', 'BROSTA TV',\n",
       "       'Mardock Scramble Production Committee', 'Sentai Filmworks',\n",
       "       'Odyssey Media', 'Pulser Productions', 'Rogue State', 'The Cartel'],\n",
       "      dtype=object)"
      ]
     },
     "execution_count": 24,
     "metadata": {},
     "output_type": "execute_result"
    }
   ],
   "source": [
    "all_genres = md['genres'].explode().unique()\n",
    "all_genres"
   ]
  },
  {
   "cell_type": "code",
   "execution_count": 72,
   "id": "e59ebf97-1a9d-46cd-b825-b0e16324ded1",
   "metadata": {},
   "outputs": [],
   "source": [
    "def build_chart(genres, percentile=0.85):\n",
    "    filtered_row_ids = []\n",
    "    \n",
    "    for idx, row in md.iterrows():\n",
    "        if all(genre in row['genres'] for genre in genres):\n",
    "            filtered_row_ids.append(idx)\n",
    "    \n",
    "    filtered_row_ids = list(set(filtered_row_ids))\n",
    "    \n",
    "    df = md.loc[filtered_row_ids]\n",
    "    \n",
    "    vote_counts = df[df['vote_count'].notnull()]['vote_count'].astype('int')\n",
    "    vote_averages = df[df['vote_average'].notnull()]['vote_average'].astype('int')\n",
    "    C = vote_averages.mean()\n",
    "    m = vote_counts.quantile(percentile)\n",
    "    \n",
    "    qualified = df[(df['vote_count'] >= m) & (df['vote_count'].notnull()) & (df['vote_average'].notnull())][['id', 'title', 'genres', 'vote_count', 'vote_average']]\n",
    "    qualified['vote_count'] = qualified['vote_count'].astype('int')\n",
    "    qualified['vote_average'] = qualified['vote_average'].astype('int')\n",
    "    \n",
    "    qualified['wr'] = qualified.apply(lambda x: (x['vote_count']/(x['vote_count']+m) * x['vote_average']) + (m/(m+x['vote_count']) * C), axis=1)\n",
    "    qualified = qualified.sort_values('wr', ascending=False).head(250)\n",
    "    \n",
    "    return qualified"
   ]
  },
  {
   "cell_type": "code",
   "execution_count": 185,
   "id": "db53d968-8ad4-49c9-8de9-d4dd48357440",
   "metadata": {},
   "outputs": [
    {
     "data": {
      "text/html": [
       "<div>\n",
       "<style scoped>\n",
       "    .dataframe tbody tr th:only-of-type {\n",
       "        vertical-align: middle;\n",
       "    }\n",
       "\n",
       "    .dataframe tbody tr th {\n",
       "        vertical-align: top;\n",
       "    }\n",
       "\n",
       "    .dataframe thead th {\n",
       "        text-align: right;\n",
       "    }\n",
       "</style>\n",
       "<table border=\"1\" class=\"dataframe\">\n",
       "  <thead>\n",
       "    <tr style=\"text-align: right;\">\n",
       "      <th></th>\n",
       "      <th>id</th>\n",
       "      <th>title</th>\n",
       "      <th>genres</th>\n",
       "      <th>vote_count</th>\n",
       "      <th>vote_average</th>\n",
       "      <th>wr</th>\n",
       "    </tr>\n",
       "  </thead>\n",
       "  <tbody>\n",
       "    <tr>\n",
       "      <th>13724</th>\n",
       "      <td>14160</td>\n",
       "      <td>Up</td>\n",
       "      <td>[Animation, Comedy, Family, Adventure]</td>\n",
       "      <td>7048</td>\n",
       "      <td>7</td>\n",
       "      <td>6.891386</td>\n",
       "    </tr>\n",
       "    <tr>\n",
       "      <th>30315</th>\n",
       "      <td>150540</td>\n",
       "      <td>Inside Out</td>\n",
       "      <td>[Drama, Comedy, Animation, Family]</td>\n",
       "      <td>6737</td>\n",
       "      <td>7</td>\n",
       "      <td>6.886837</td>\n",
       "    </tr>\n",
       "  </tbody>\n",
       "</table>\n",
       "</div>"
      ],
      "text/plain": [
       "           id       title                                  genres  vote_count  \\\n",
       "13724   14160          Up  [Animation, Comedy, Family, Adventure]        7048   \n",
       "30315  150540  Inside Out      [Drama, Comedy, Animation, Family]        6737   \n",
       "\n",
       "       vote_average        wr  \n",
       "13724             7  6.891386  \n",
       "30315             7  6.886837  "
      ]
     },
     "execution_count": 185,
     "metadata": {},
     "output_type": "execute_result"
    }
   ],
   "source": [
    "build_chart(['Animation', 'Comedy']).head(2)"
   ]
  }
 ],
 "metadata": {
  "kernelspec": {
   "display_name": "Python 3 (ipykernel)",
   "language": "python",
   "name": "python3"
  },
  "language_info": {
   "codemirror_mode": {
    "name": "ipython",
    "version": 3
   },
   "file_extension": ".py",
   "mimetype": "text/x-python",
   "name": "python",
   "nbconvert_exporter": "python",
   "pygments_lexer": "ipython3",
   "version": "3.12.2"
  }
 },
 "nbformat": 4,
 "nbformat_minor": 5
}
